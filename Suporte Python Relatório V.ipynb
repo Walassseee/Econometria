{
 "cells": [
  {
   "cell_type": "code",
   "execution_count": 1,
   "id": "362dfbf5",
   "metadata": {},
   "outputs": [],
   "source": [
    "import pandas as pd"
   ]
  },
  {
   "cell_type": "code",
   "execution_count": 2,
   "id": "8a10d2e6",
   "metadata": {},
   "outputs": [],
   "source": [
    "url = 'https://raw.githubusercontent.com/Walassseee/Econometria/main/Dados/microdados_enade_2018econ.csv'\n",
    "dados = pd.read_csv(url, sep=';')\n",
    "dados = dados.drop_duplicates()"
   ]
  },
  {
   "cell_type": "code",
   "execution_count": 3,
   "id": "d70cab80",
   "metadata": {},
   "outputs": [],
   "source": [
    "dados = dados[[\"Nt Ger\",\"Tp Sexo\",\"Qe I02\",\"Qe I08\",\"Qe I17\",\"Qe I21\"]]\n",
    "\n",
    "dados[\"Nt Ger\"] = dados[\"Nt Ger\"].replace(',','.', regex=True)\n",
    "dados[\"Nt Ger\"] = dados[\"Nt Ger\"].astype(float)\n",
    "\n",
    "dados = dados.dropna()"
   ]
  },
  {
   "cell_type": "code",
   "execution_count": 4,
   "id": "e729d272",
   "metadata": {},
   "outputs": [],
   "source": [
    "dados.rename(columns = {\n",
    "    \"Nt Ger\":\"notas_gerais\",\n",
    "    \"Tp Sexo\":\"sexo\",\n",
    "    \"Qe I02\":\"cor\",\n",
    "    \"Qe I08\":\"renda\",\n",
    "    \"Qe I17\":\"colegio_do_ensino_medio\",\n",
    "    \"Qe I21\":\"familiar_ensino_superior\"\n",
    "}, inplace = True)"
   ]
  },
  {
   "cell_type": "code",
   "execution_count": 5,
   "id": "de2c73c7",
   "metadata": {},
   "outputs": [],
   "source": [
    "dados.cor = dados.cor.replace({\n",
    "            \"A\":\"branca\",\n",
    "            \"B\":\"preta\",\n",
    "            \"C\":\"amarela\",\n",
    "            \"D\":\"parda\",\n",
    "            \"E\":\"indigena\",\n",
    "            \"F\":\"nsr\"\n",
    "            }, regex = True)"
   ]
  },
  {
   "cell_type": "code",
   "execution_count": 6,
   "id": "a981fceb",
   "metadata": {},
   "outputs": [],
   "source": [
    "dados.renda = dados.renda.replace({\n",
    "    \"A\":\"menor_que_1.5_salarios\",\n",
    "    \"B\":\"entre_1.5_e_3_salarios\",\n",
    "    \"C\":\"entre_3_e_4.5_salarios\",\n",
    "    \"D\":\"entre_4.5_e_6_salarios\",\n",
    "    \"E\":\"entre_6_e_3_salarios\",\n",
    "    \"F\":\"entre_10_e_30_salarios\",\n",
    "    \"G\":\"maior_que_30_salarios\"\n",
    "}, regex = True)"
   ]
  },
  {
   "cell_type": "code",
   "execution_count": 7,
   "id": "f4ace63e",
   "metadata": {},
   "outputs": [],
   "source": [
    "dados.colegio_do_ensino_medio = dados.colegio_do_ensino_medio.replace({\n",
    "    \"A\" : \"todo_em_escola_publica\",\n",
    "    \"B\" : \"todo_em_escola_privada\",\n",
    "    \"C\" : \"todo_no_exterior\",\n",
    "    \"D\" : \"maior_parte_em_escola_publica\",\n",
    "    \"E\" : \"maior_parte_em_escola_privada\",\n",
    "    \"F\" : \"parte_no_brasil_e_parte_no_exterior\"\n",
    "}, regex = True)"
   ]
  },
  {
   "cell_type": "code",
   "execution_count": 8,
   "id": "b01555e4",
   "metadata": {},
   "outputs": [],
   "source": [
    "dados.to_csv(\"Dados/dados.csv\", sep = \";\")"
   ]
  }
 ],
 "metadata": {
  "kernelspec": {
   "display_name": "Python 3 (ipykernel)",
   "language": "python",
   "name": "python3"
  },
  "language_info": {
   "codemirror_mode": {
    "name": "ipython",
    "version": 3
   },
   "file_extension": ".py",
   "mimetype": "text/x-python",
   "name": "python",
   "nbconvert_exporter": "python",
   "pygments_lexer": "ipython3",
   "version": "3.9.15"
  }
 },
 "nbformat": 4,
 "nbformat_minor": 5
}
