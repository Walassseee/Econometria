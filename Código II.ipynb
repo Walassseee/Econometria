{
 "cells": [
  {
   "cell_type": "markdown",
   "id": "2d0d87a0",
   "metadata": {
    "id": "2d0d87a0"
   },
   "source": [
    "# Relatório - Tipos de distribuições teóricas e testes de hipóteses"
   ]
  },
  {
   "cell_type": "code",
   "execution_count": 206,
   "id": "8b1b9d2e",
   "metadata": {
    "id": "8b1b9d2e"
   },
   "outputs": [],
   "source": [
    "import pandas as pd\n",
    "import numpy as np\n",
    "%matplotlib inline\n",
    "import matplotlib.pyplot as plt\n",
    "import seaborn as sns"
   ]
  },
  {
   "cell_type": "markdown",
   "id": "afafa0a7",
   "metadata": {
    "id": "afafa0a7"
   },
   "source": [
    "Lendo base de dados disponibilizada pelo ENADE.\n",
    "\n",
    "O Exame Nacional de Desempenho dos Estudantes (Enade) avalia o rendimento dos concluintes dos cursos de graduação em relação aos conteúdos programáticos previstos nas diretrizes curriculares dos cursos, o desenvolvimento de competências e habilidades necessárias ao aprofundamento da formação geral e profissional, e o nível de atualização dos estudantes com relação à realidade brasileira e mundial.\n",
    "\n",
    "A inscrição é obrigatória para estudantes ingressantes e concluintes habilitados de cursos de bacharelado e superiores de tecnologia vinculados às áreas de avaliação da edição. A situação de regularidade do estudante é registrada no histórico escolar."
   ]
  },
  {
   "cell_type": "code",
   "execution_count": 207,
   "id": "8ddecb45",
   "metadata": {
    "id": "8ddecb45"
   },
   "outputs": [],
   "source": [
    "df = pd.read_csv('microdados_enade_2018econ.csv', sep=';')"
   ]
  },
  {
   "cell_type": "code",
   "execution_count": 208,
   "id": "52510ad0",
   "metadata": {
    "colab": {
     "base_uri": "https://localhost:8080/",
     "height": 280
    },
    "id": "52510ad0",
    "outputId": "33be7353-3ff9-4bbe-ddac-8a03fccae341",
    "scrolled": true
   },
   "outputs": [
    {
     "data": {
      "text/html": [
       "<div>\n",
       "<style scoped>\n",
       "    .dataframe tbody tr th:only-of-type {\n",
       "        vertical-align: middle;\n",
       "    }\n",
       "\n",
       "    .dataframe tbody tr th {\n",
       "        vertical-align: top;\n",
       "    }\n",
       "\n",
       "    .dataframe thead th {\n",
       "        text-align: right;\n",
       "    }\n",
       "</style>\n",
       "<table border=\"1\" class=\"dataframe\">\n",
       "  <thead>\n",
       "    <tr style=\"text-align: right;\">\n",
       "      <th></th>\n",
       "      <th>Ano Fim Em</th>\n",
       "      <th>Ano In Grad</th>\n",
       "      <th>Co Categad</th>\n",
       "      <th>Co Grupo</th>\n",
       "      <th>Co Ies</th>\n",
       "      <th>Co Munic Curso</th>\n",
       "      <th>Co Rs I1</th>\n",
       "      <th>Co Rs I2</th>\n",
       "      <th>Co Rs I3</th>\n",
       "      <th>Co Rs I4</th>\n",
       "      <th>...</th>\n",
       "      <th>Tp Pr Di Fg</th>\n",
       "      <th>Tp Pr Ger</th>\n",
       "      <th>Tp Pr Ob Ce</th>\n",
       "      <th>Tp Pr Ob Fg</th>\n",
       "      <th>Tp Pres</th>\n",
       "      <th>Tp Sce D1</th>\n",
       "      <th>Tp Sce D2</th>\n",
       "      <th>Tp Sce D3</th>\n",
       "      <th>Tp Sfg D1</th>\n",
       "      <th>Tp Sfg D2</th>\n",
       "    </tr>\n",
       "  </thead>\n",
       "  <tbody>\n",
       "    <tr>\n",
       "      <th>0</th>\n",
       "      <td>2012</td>\n",
       "      <td>2013</td>\n",
       "      <td>10002</td>\n",
       "      <td>13</td>\n",
       "      <td>789</td>\n",
       "      <td>1400100</td>\n",
       "      <td>NaN</td>\n",
       "      <td>NaN</td>\n",
       "      <td>NaN</td>\n",
       "      <td>NaN</td>\n",
       "      <td>...</td>\n",
       "      <td>222</td>\n",
       "      <td>222</td>\n",
       "      <td>222</td>\n",
       "      <td>222</td>\n",
       "      <td>222</td>\n",
       "      <td>222</td>\n",
       "      <td>222</td>\n",
       "      <td>222</td>\n",
       "      <td>222</td>\n",
       "      <td>222</td>\n",
       "    </tr>\n",
       "    <tr>\n",
       "      <th>1</th>\n",
       "      <td>1987</td>\n",
       "      <td>1988</td>\n",
       "      <td>10002</td>\n",
       "      <td>13</td>\n",
       "      <td>583</td>\n",
       "      <td>2304400</td>\n",
       "      <td>NaN</td>\n",
       "      <td>NaN</td>\n",
       "      <td>NaN</td>\n",
       "      <td>NaN</td>\n",
       "      <td>...</td>\n",
       "      <td>222</td>\n",
       "      <td>222</td>\n",
       "      <td>222</td>\n",
       "      <td>222</td>\n",
       "      <td>222</td>\n",
       "      <td>222</td>\n",
       "      <td>222</td>\n",
       "      <td>222</td>\n",
       "      <td>222</td>\n",
       "      <td>222</td>\n",
       "    </tr>\n",
       "    <tr>\n",
       "      <th>2</th>\n",
       "      <td>2004</td>\n",
       "      <td>2005</td>\n",
       "      <td>10002</td>\n",
       "      <td>13</td>\n",
       "      <td>583</td>\n",
       "      <td>2304400</td>\n",
       "      <td>NaN</td>\n",
       "      <td>NaN</td>\n",
       "      <td>NaN</td>\n",
       "      <td>NaN</td>\n",
       "      <td>...</td>\n",
       "      <td>222</td>\n",
       "      <td>222</td>\n",
       "      <td>222</td>\n",
       "      <td>222</td>\n",
       "      <td>222</td>\n",
       "      <td>222</td>\n",
       "      <td>222</td>\n",
       "      <td>222</td>\n",
       "      <td>222</td>\n",
       "      <td>222</td>\n",
       "    </tr>\n",
       "    <tr>\n",
       "      <th>3</th>\n",
       "      <td>2007</td>\n",
       "      <td>2008</td>\n",
       "      <td>115</td>\n",
       "      <td>13</td>\n",
       "      <td>746</td>\n",
       "      <td>2304202</td>\n",
       "      <td>NaN</td>\n",
       "      <td>NaN</td>\n",
       "      <td>NaN</td>\n",
       "      <td>NaN</td>\n",
       "      <td>...</td>\n",
       "      <td>222</td>\n",
       "      <td>222</td>\n",
       "      <td>222</td>\n",
       "      <td>222</td>\n",
       "      <td>222</td>\n",
       "      <td>222</td>\n",
       "      <td>222</td>\n",
       "      <td>222</td>\n",
       "      <td>222</td>\n",
       "      <td>222</td>\n",
       "    </tr>\n",
       "    <tr>\n",
       "      <th>4</th>\n",
       "      <td>1998</td>\n",
       "      <td>2000</td>\n",
       "      <td>115</td>\n",
       "      <td>13</td>\n",
       "      <td>746</td>\n",
       "      <td>2304202</td>\n",
       "      <td>NaN</td>\n",
       "      <td>NaN</td>\n",
       "      <td>NaN</td>\n",
       "      <td>NaN</td>\n",
       "      <td>...</td>\n",
       "      <td>222</td>\n",
       "      <td>222</td>\n",
       "      <td>222</td>\n",
       "      <td>222</td>\n",
       "      <td>222</td>\n",
       "      <td>222</td>\n",
       "      <td>222</td>\n",
       "      <td>222</td>\n",
       "      <td>222</td>\n",
       "      <td>222</td>\n",
       "    </tr>\n",
       "  </tbody>\n",
       "</table>\n",
       "<p>5 rows × 137 columns</p>\n",
       "</div>"
      ],
      "text/plain": [
       "   Ano Fim Em  Ano In Grad  Co Categad  Co Grupo  Co Ies  Co Munic Curso  \\\n",
       "0        2012         2013       10002        13     789         1400100   \n",
       "1        1987         1988       10002        13     583         2304400   \n",
       "2        2004         2005       10002        13     583         2304400   \n",
       "3        2007         2008         115        13     746         2304202   \n",
       "4        1998         2000         115        13     746         2304202   \n",
       "\n",
       "  Co Rs I1 Co Rs I2 Co Rs I3 Co Rs I4  ... Tp Pr Di Fg Tp Pr Ger Tp Pr Ob Ce  \\\n",
       "0      NaN      NaN      NaN      NaN  ...         222       222         222   \n",
       "1      NaN      NaN      NaN      NaN  ...         222       222         222   \n",
       "2      NaN      NaN      NaN      NaN  ...         222       222         222   \n",
       "3      NaN      NaN      NaN      NaN  ...         222       222         222   \n",
       "4      NaN      NaN      NaN      NaN  ...         222       222         222   \n",
       "\n",
       "  Tp Pr Ob Fg Tp Pres Tp Sce D1 Tp Sce D2 Tp Sce D3 Tp Sfg D1 Tp Sfg D2  \n",
       "0         222     222       222       222       222       222       222  \n",
       "1         222     222       222       222       222       222       222  \n",
       "2         222     222       222       222       222       222       222  \n",
       "3         222     222       222       222       222       222       222  \n",
       "4         222     222       222       222       222       222       222  \n",
       "\n",
       "[5 rows x 137 columns]"
      ]
     },
     "execution_count": 208,
     "metadata": {},
     "output_type": "execute_result"
    }
   ],
   "source": [
    "df.head()"
   ]
  },
  {
   "cell_type": "markdown",
   "id": "2daca7cb",
   "metadata": {
    "id": "2daca7cb"
   },
   "source": [
    "Verificando tamanho da base de dados"
   ]
  },
  {
   "cell_type": "code",
   "execution_count": 209,
   "id": "ad2bd312",
   "metadata": {
    "colab": {
     "base_uri": "https://localhost:8080/"
    },
    "id": "ad2bd312",
    "outputId": "57fcbfca-fb04-4f3a-e11e-174f33847b5d"
   },
   "outputs": [
    {
     "data": {
      "text/plain": [
       "9582"
      ]
     },
     "execution_count": 209,
     "metadata": {},
     "output_type": "execute_result"
    }
   ],
   "source": [
    "df.shape\n",
    "linhas_1 = df.shape[0]\n",
    "linhas_1"
   ]
  },
  {
   "cell_type": "markdown",
   "id": "10e5d8aa",
   "metadata": {
    "id": "10e5d8aa"
   },
   "source": [
    "Removendo dados duplicados"
   ]
  },
  {
   "cell_type": "code",
   "execution_count": 210,
   "id": "88ae04fd",
   "metadata": {
    "id": "88ae04fd"
   },
   "outputs": [],
   "source": [
    "df.drop_duplicates(inplace=True)"
   ]
  },
  {
   "cell_type": "code",
   "execution_count": 211,
   "id": "ca9ed015",
   "metadata": {
    "colab": {
     "base_uri": "https://localhost:8080/"
    },
    "id": "ca9ed015",
    "outputId": "c5a247a2-2b52-448b-9704-673ae3cc429e"
   },
   "outputs": [
    {
     "data": {
      "text/plain": [
       "9543"
      ]
     },
     "execution_count": 211,
     "metadata": {},
     "output_type": "execute_result"
    }
   ],
   "source": [
    "df.shape\n",
    "linhas_2 = df.shape[0]\n",
    "linhas_2"
   ]
  },
  {
   "cell_type": "code",
   "execution_count": 212,
   "id": "7b087afb",
   "metadata": {
    "colab": {
     "base_uri": "https://localhost:8080/"
    },
    "id": "7b087afb",
    "outputId": "dc8fbf62-acbf-4da7-ada9-84423d03472c"
   },
   "outputs": [
    {
     "name": "stdout",
     "output_type": "stream",
     "text": [
      "O número de valores considerados duplicados foi de 39 alunos\n"
     ]
    }
   ],
   "source": [
    "print(f'O número de valores considerados duplicados foi de {linhas_1 - linhas_2} alunos')"
   ]
  },
  {
   "cell_type": "markdown",
   "id": "0e9831a9",
   "metadata": {
    "id": "0e9831a9"
   },
   "source": [
    "## Distribuições teóricas das notas gerais"
   ]
  },
  {
   "cell_type": "markdown",
   "id": "b5276cdd",
   "metadata": {
    "id": "b5276cdd"
   },
   "source": [
    "Renomeando coluna e convertendo \",\" para \".\""
   ]
  },
  {
   "cell_type": "code",
   "execution_count": 213,
   "id": "8b45d53d",
   "metadata": {
    "id": "8b45d53d"
   },
   "outputs": [],
   "source": [
    "df.rename(columns={'Nt Ger': 'notas_gerais'}, inplace=True)"
   ]
  },
  {
   "cell_type": "code",
   "execution_count": 214,
   "id": "661a5fa9",
   "metadata": {
    "id": "661a5fa9"
   },
   "outputs": [],
   "source": [
    "df.notas_gerais = df.notas_gerais.replace(',','.', regex=True)\n",
    "df.notas_gerais = df.notas_gerais.astype(float)"
   ]
  },
  {
   "cell_type": "markdown",
   "id": "7c58af1d",
   "metadata": {
    "id": "7c58af1d"
   },
   "source": [
    "### Teste de normalidade Notas Gerais Alunos Economia do Brasil"
   ]
  },
  {
   "cell_type": "code",
   "execution_count": 215,
   "id": "2a646c3f",
   "metadata": {
    "colab": {
     "base_uri": "https://localhost:8080/"
    },
    "id": "2a646c3f",
    "outputId": "7edda940-1eca-46e8-b5e6-3295f6a59723",
    "scrolled": false
   },
   "outputs": [
    {
     "name": "stdout",
     "output_type": "stream",
     "text": [
      "1 - A média das notas foi de 38.39742351046704\n",
      "2 - O devio padrão das notas foi de 13.137758259020998\n"
     ]
    }
   ],
   "source": [
    "print(f'1 - A média das notas foi de {df.notas_gerais.mean()}')\n",
    "print(f'2 - O devio padrão das notas foi de {df.notas_gerais.std()}')"
   ]
  },
  {
   "cell_type": "code",
   "execution_count": 216,
   "id": "9b99a540",
   "metadata": {
    "colab": {
     "base_uri": "https://localhost:8080/",
     "height": 485
    },
    "id": "9b99a540",
    "outputId": "ad5e40f8-2a7a-4a7f-d5ea-cc73d702689b",
    "scrolled": false
   },
   "outputs": [
    {
     "data": {
      "image/png": "[encoded data removed]",
      "text/plain": [
       "<Figure size 1152x576 with 1 Axes>"
      ]
     },
     "metadata": {},
     "output_type": "display_data"
    }
   ],
   "source": [
    "sns.set_theme(style='white')\n",
    "\n",
    "ax = plt.subplots(figsize=(16, 8))\n",
    "ax = sns.histplot(df.notas_gerais, kde=True)\n",
    "\n",
    "# Parte visual\n",
    "\n",
    "ax.set_title('', loc='Left', fontsize=18)\n",
    "ax.set_xlabel('', fontsize=14)\n",
    "ax.set_ylabel('', fontsize=14)\n",
    "plt.axvline(x=df.notas_gerais.mean(),color='blue',ls='-',lw=2.5)\n",
    "\n",
    "plt.show()"
   ]
  },
  {
   "cell_type": "markdown",
   "id": "2f8ff169",
   "metadata": {
    "id": "2f8ff169"
   },
   "source": [
    "**Código**"
   ]
  },
  {
   "cell_type": "markdown",
   "id": "3f2ab6e4",
   "metadata": {
    "id": "3f2ab6e4"
   },
   "source": [
    "Retirando valores nulos"
   ]
  },
  {
   "cell_type": "code",
   "execution_count": 217,
   "id": "f47f8c54",
   "metadata": {
    "id": "f47f8c54"
   },
   "outputs": [],
   "source": [
    "notas = df.notas_gerais.dropna().to_frame()"
   ]
  },
  {
   "cell_type": "markdown",
   "id": "3116e702",
   "metadata": {
    "id": "3116e702"
   },
   "source": [
    "Código QQ Teste"
   ]
  },
  {
   "cell_type": "markdown",
   "id": "5b821e9f",
   "metadata": {
    "id": "5b821e9f"
   },
   "source": [
    "Um gráfico QQ é um gráfico de dispersão com dois conjuntos de quantis um contra o outro; se ambos os conjuntos de quantis vierem da mesma distribuição, os pontos formarão uma linha quase reta. No gráfico QQ, ao passo que mostra alguns valores discrepantes. O gráfico QQ tem uma aparência diferente de etapas. O gráfico QQ de outras variáveis ​​não é reta, portanto, mostrando o desvio da distribuição normal."
   ]
  },
  {
   "cell_type": "code",
   "execution_count": 218,
   "id": "1aa4d60f",
   "metadata": {
    "id": "1aa4d60f"
   },
   "outputs": [],
   "source": [
    "import statsmodels.api as sm\n",
    "from scipy.stats import norm\n",
    "import pylab"
   ]
  },
  {
   "cell_type": "code",
   "execution_count": 219,
   "id": "fjtUifvlsTD-",
   "metadata": {
    "colab": {
     "base_uri": "https://localhost:8080/",
     "height": 411
    },
    "id": "fjtUifvlsTD-",
    "outputId": "13fb7730-7fa7-4289-ee53-ab681f9f0dc2"
   },
   "outputs": [
    {
     "data": {
      "text/plain": [
       "<AxesSubplot:xlabel='notas_gerais'>"
      ]
     },
     "execution_count": 219,
     "metadata": {},
     "output_type": "execute_result"
    },
    {
     "data": {
      "image/png": "[encoded data removed]",
      "text/plain": [
       "<Figure size 864x432 with 1 Axes>"
      ]
     },
     "metadata": {},
     "output_type": "display_data"
    }
   ],
   "source": [
    "import seaborn as sns\n",
    "\n",
    "f, ax = plt.subplots(figsize=(12, 6))\n",
    "\n",
    "sns.boxplot(x=\"notas_gerais\", data=notas)"
   ]
  },
  {
   "cell_type": "code",
   "execution_count": 220,
   "id": "4fca0dfc",
   "metadata": {
    "colab": {
     "base_uri": "https://localhost:8080/",
     "height": 285
    },
    "id": "4fca0dfc",
    "outputId": "454cc8f3-c7fd-4304-cb17-148193157f9b"
   },
   "outputs": [
    {
     "data": {
      "image/png": "[encoded data removed]",
      "text/plain": [
       "<Figure size 432x288 with 1 Axes>"
      ]
     },
     "metadata": {},
     "output_type": "display_data"
    }
   ],
   "source": [
    "ax = sm.qqplot(notas.notas_gerais, line='s')\n",
    "pylab.show()"
   ]
  },
  {
   "cell_type": "markdown",
   "id": "8668e4be",
   "metadata": {
    "id": "8668e4be"
   },
   "source": [
    "Código Norm Teste"
   ]
  },
  {
   "cell_type": "markdown",
   "id": "fb6ff821",
   "metadata": {
    "id": "fb6ff821"
   },
   "source": [
    "H0 = A amostra vem de uma distribuição normal.\n",
    "\n",
    "HA = A amostra não vem da distribuição normal.\n",
    "\n",
    "Ele é baseado no teste de D'Agostino e Pearson \n",
    "\n",
    "O teste de D'Agostino-Pearson foi desenvolvido para lidar com amostras mais numerosas (n > 100), apresentando, nesses casos, desempenho próximo ao do Shapiro-Wilk. O teste de Jarque-Bera apresenta bom desempenho na avaliação de normalidade em amostras maiores que 50 unidades, assim como o teste de Anderson-Darling2"
   ]
  },
  {
   "cell_type": "code",
   "execution_count": 221,
   "id": "824b00c1",
   "metadata": {
    "id": "824b00c1"
   },
   "outputs": [],
   "source": [
    "from scipy.stats import normaltest"
   ]
  },
  {
   "cell_type": "code",
   "execution_count": 222,
   "id": "e0998c35",
   "metadata": {
    "colab": {
     "base_uri": "https://localhost:8080/"
    },
    "id": "e0998c35",
    "outputId": "cd77c179-1e02-45f3-afdc-5c9fcb1f7d38"
   },
   "outputs": [
    {
     "data": {
      "text/plain": [
       "2.4530404640098998e-27"
      ]
     },
     "execution_count": 222,
     "metadata": {},
     "output_type": "execute_result"
    }
   ],
   "source": [
    "stat_test, p_valor = normaltest(notas.notas_gerais)\n",
    "p_valor"
   ]
  },
  {
   "cell_type": "code",
   "execution_count": 223,
   "id": "4c6ea3b2",
   "metadata": {
    "id": "4c6ea3b2"
   },
   "outputs": [],
   "source": [
    "alpha = 0.05 # Definindo significância"
   ]
  },
  {
   "cell_type": "code",
   "execution_count": 224,
   "id": "35f04374",
   "metadata": {
    "colab": {
     "base_uri": "https://localhost:8080/"
    },
    "id": "35f04374",
    "outputId": "9d478a7a-f2df-4aa0-e3aa-3ad41b1c3d1b"
   },
   "outputs": [
    {
     "data": {
      "text/plain": [
       "True"
      ]
     },
     "execution_count": 224,
     "metadata": {},
     "output_type": "execute_result"
    }
   ],
   "source": [
    "p_valor <= alpha"
   ]
  },
  {
   "cell_type": "markdown",
   "id": "8e916a02",
   "metadata": {
    "id": "8e916a02"
   },
   "source": [
    "Código Shapiro Teste"
   ]
  },
  {
   "cell_type": "markdown",
   "id": "32e5c1f1",
   "metadata": {
    "id": "32e5c1f1"
   },
   "source": [
    "Apesar deste teste ser fácil e objetivo, ele tem suas limitações. O Shapiro-Wilk não é capaz de detectar normalidade em amostras pequenas.  Já em amostras grandes, ele costuma apresentar significância para pequenos desvios da normalidade (Miot, 2017).\n",
    "\n",
    "Por isso, o teste deve ser usado com cautela. Em breve, apresentaremos no blog outras formas de análise da normalidade. Vamos aprender cada uma destas análises"
   ]
  },
  {
   "cell_type": "code",
   "execution_count": 225,
   "id": "68a46070",
   "metadata": {
    "id": "68a46070"
   },
   "outputs": [],
   "source": [
    "from scipy.stats import shapiro"
   ]
  },
  {
   "cell_type": "code",
   "execution_count": 226,
   "id": "9cf437f1",
   "metadata": {
    "colab": {
     "base_uri": "https://localhost:8080/"
    },
    "id": "9cf437f1",
    "outputId": "470d96b4-8be9-4503-c3be-aa8ae81c69ee",
    "scrolled": true
   },
   "outputs": [
    {
     "name": "stderr",
     "output_type": "stream",
     "text": [
      "C:\\Users\\walas\\anaconda3\\lib\\site-packages\\scipy\\stats\\morestats.py:1760: UserWarning: p-value may not be accurate for N > 5000.\n",
      "  warnings.warn(\"p-value may not be accurate for N > 5000.\")\n"
     ]
    },
    {
     "data": {
      "text/plain": [
       "1.926550044279003e-22"
      ]
     },
     "execution_count": 226,
     "metadata": {},
     "output_type": "execute_result"
    }
   ],
   "source": [
    "stat_test, p_valor = shapiro(notas.notas_gerais)\n",
    "p_valor"
   ]
  },
  {
   "cell_type": "code",
   "execution_count": 227,
   "id": "1209d50d",
   "metadata": {
    "colab": {
     "base_uri": "https://localhost:8080/"
    },
    "id": "1209d50d",
    "outputId": "22ad649b-5b5b-4541-e248-19d3ad5e28b5"
   },
   "outputs": [
    {
     "data": {
      "text/plain": [
       "True"
      ]
     },
     "execution_count": 227,
     "metadata": {},
     "output_type": "execute_result"
    }
   ],
   "source": [
    "p_valor <= alpha"
   ]
  },
  {
   "cell_type": "markdown",
   "id": "_QoTJatxq-NO",
   "metadata": {
    "id": "_QoTJatxq-NO"
   },
   "source": [
    "O teste de Kolmogorov-Smirnov deve ser dedicado apenas à verificação de aderência da amostra a distribuições com outros parâmetros, visto que é superado pelos outros aqui descritos para testar a normalidade dos dados. Por outro lado, o emprego da correção de Lilliefors oferece uma boa opção para analisar normalidade quando a distribuição contiver muitos dados extremos e a amostra for maior que 30 unidades"
   ]
  },
  {
   "cell_type": "code",
   "execution_count": 228,
   "id": "UlmLTR9BlsM2",
   "metadata": {
    "colab": {
     "base_uri": "https://localhost:8080/"
    },
    "id": "UlmLTR9BlsM2",
    "outputId": "384c5a34-aa69-48ce-96c6-985468d1054c"
   },
   "outputs": [
    {
     "data": {
      "text/plain": [
       "True"
      ]
     },
     "execution_count": 228,
     "metadata": {},
     "output_type": "execute_result"
    }
   ],
   "source": [
    "from scipy.stats import kstest\n",
    "ks_statistic, p_value = kstest(notas.notas_gerais.dropna(), 'norm')\n",
    "p_valor <= alpha"
   ]
  },
  {
   "cell_type": "code",
   "execution_count": 229,
   "id": "MzhnI8aJY2Eo",
   "metadata": {
    "colab": {
     "base_uri": "https://localhost:8080/"
    },
    "id": "MzhnI8aJY2Eo",
    "outputId": "9d5cef8d-a337-44f2-dfe5-b94e25938b73"
   },
   "outputs": [
    {
     "data": {
      "text/plain": [
       "1.926550044279003e-22"
      ]
     },
     "execution_count": 229,
     "metadata": {},
     "output_type": "execute_result"
    }
   ],
   "source": [
    "p_valor"
   ]
  },
  {
   "cell_type": "markdown",
   "id": "acE1xj8ErO99",
   "metadata": {
    "id": "acE1xj8ErO99"
   },
   "source": [
    "O emprego da correção de Lilliefors oferece uma boa opção para analisar normalidade quando a distribuição contiver muitos dados extremos e a amostra for maior que 30 unidades"
   ]
  },
  {
   "cell_type": "code",
   "execution_count": 230,
   "id": "FAppAiB3lvTU",
   "metadata": {
    "colab": {
     "base_uri": "https://localhost:8080/"
    },
    "id": "FAppAiB3lvTU",
    "outputId": "0d84f246-cada-4370-8901-1446f3b295b9"
   },
   "outputs": [
    {
     "data": {
      "text/plain": [
       "True"
      ]
     },
     "execution_count": 230,
     "metadata": {},
     "output_type": "execute_result"
    }
   ],
   "source": [
    "from statsmodels.stats.diagnostic import lilliefors\n",
    "lf_statistic, p_value = lilliefors(notas.notas_gerais.dropna())\n",
    "p_valor <= alpha"
   ]
  },
  {
   "cell_type": "code",
   "execution_count": 231,
   "id": "pZRef7r8Y7Iv",
   "metadata": {
    "colab": {
     "base_uri": "https://localhost:8080/"
    },
    "id": "pZRef7r8Y7Iv",
    "outputId": "c13e073a-eeea-45e5-b346-0c265b753c22"
   },
   "outputs": [
    {
     "data": {
      "text/plain": [
       "1.926550044279003e-22"
      ]
     },
     "execution_count": 231,
     "metadata": {},
     "output_type": "execute_result"
    }
   ],
   "source": [
    "p_valor"
   ]
  },
  {
   "cell_type": "markdown",
   "id": "ab2f4ac8",
   "metadata": {
    "id": "ab2f4ac8"
   },
   "source": [
    "### Critério do valor $p$\n",
    "#### Rejeitar $H_0$ se o valor $p\\leq 0,05$"
   ]
  },
  {
   "cell_type": "markdown",
   "id": "020942ae",
   "metadata": {
    "id": "020942ae"
   },
   "source": [
    "*A distribuição de frequência das notas gerais não pode ser classificada como uma distribuição normal em 3 testes. Sendo mais semelhante a uma distribuição assimétrica a esqueda.*"
   ]
  },
  {
   "cell_type": "markdown",
   "id": "NMn5DgMBOrRN",
   "metadata": {
    "id": "NMn5DgMBOrRN"
   },
   "source": [
    "### Distribuição Geral para Qe I21 A e B"
   ]
  },
  {
   "cell_type": "code",
   "execution_count": 232,
   "id": "otcaaPs7PFqL",
   "metadata": {
    "colab": {
     "base_uri": "https://localhost:8080/"
    },
    "id": "otcaaPs7PFqL",
    "outputId": "ba377811-7c85-4d33-f417-6af90cb7f066"
   },
   "outputs": [
    {
     "data": {
      "text/plain": [
       "A    6510\n",
       "B    1985\n",
       "Name: Qe I21, dtype: int64"
      ]
     },
     "execution_count": 232,
     "metadata": {},
     "output_type": "execute_result"
    }
   ],
   "source": [
    "df['Qe I21'].value_counts()"
   ]
  },
  {
   "cell_type": "code",
   "execution_count": 233,
   "id": "1K4WpyeafS6I",
   "metadata": {
    "colab": {
     "base_uri": "https://localhost:8080/",
     "height": 357
    },
    "id": "1K4WpyeafS6I",
    "outputId": "ad17b400-3861-4007-e90b-70217d115408",
    "scrolled": true
   },
   "outputs": [
    {
     "data": {
      "image/png": "[encoded data removed]",
      "text/plain": [
       "<Figure size 864x432 with 1 Axes>"
      ]
     },
     "metadata": {},
     "output_type": "display_data"
    }
   ],
   "source": [
    "ax = plt.subplots(figsize=(12, 6))\n",
    "\n",
    "ax = plt.pie(df['Qe I21'].value_counts(normalize=True), autopct = \"%0.2f%%\")\n",
    "\n",
    "plt.show()"
   ]
  },
  {
   "cell_type": "code",
   "execution_count": 234,
   "id": "tRJJX_IEOp5k",
   "metadata": {
    "colab": {
     "base_uri": "https://localhost:8080/"
    },
    "id": "tRJJX_IEOp5k",
    "outputId": "c4218592-8aa2-44cf-8cce-94d2b4340199"
   },
   "outputs": [
    {
     "data": {
      "text/plain": [
       "6510"
      ]
     },
     "execution_count": 234,
     "metadata": {},
     "output_type": "execute_result"
    }
   ],
   "source": [
    "df_a = df[df['Qe I21'] == \"A\"]\n",
    "len(df_a)"
   ]
  },
  {
   "cell_type": "code",
   "execution_count": 235,
   "id": "w_5lQFz9PNCU",
   "metadata": {
    "colab": {
     "base_uri": "https://localhost:8080/"
    },
    "id": "w_5lQFz9PNCU",
    "outputId": "f2a8417b-f760-4698-8597-4f93a697ad1d"
   },
   "outputs": [
    {
     "data": {
      "text/plain": [
       "1985"
      ]
     },
     "execution_count": 235,
     "metadata": {},
     "output_type": "execute_result"
    }
   ],
   "source": [
    "df_b = df[df['Qe I21'] == \"B\"]\n",
    "len(df_b)"
   ]
  },
  {
   "cell_type": "code",
   "execution_count": 236,
   "id": "Rcg2P7bIPbuC",
   "metadata": {
    "colab": {
     "base_uri": "https://localhost:8080/"
    },
    "id": "Rcg2P7bIPbuC",
    "outputId": "3f6c1f84-73f9-4b0c-cddf-eea1aaf5ff4b",
    "scrolled": true
   },
   "outputs": [
    {
     "name": "stdout",
     "output_type": "stream",
     "text": [
      "1 - A média das notas dos Alunos Qe I21 A foi de 39.35790333115619\n",
      "2 - O devio padrão das notas dos Alunos Qe I21 A foi de 13.291073283157154\n"
     ]
    }
   ],
   "source": [
    "print(f'1 - A média das notas dos Alunos Qe I21 A foi de {df_a.notas_gerais.mean()}')\n",
    "print(f'2 - O devio padrão das notas dos Alunos Qe I21 A foi de {df_a.notas_gerais.std()}')"
   ]
  },
  {
   "cell_type": "code",
   "execution_count": 237,
   "id": "8d74c1c8",
   "metadata": {},
   "outputs": [
    {
     "data": {
      "text/html": [
       "<div>\n",
       "<style scoped>\n",
       "    .dataframe tbody tr th:only-of-type {\n",
       "        vertical-align: middle;\n",
       "    }\n",
       "\n",
       "    .dataframe tbody tr th {\n",
       "        vertical-align: top;\n",
       "    }\n",
       "\n",
       "    .dataframe thead th {\n",
       "        text-align: right;\n",
       "    }\n",
       "</style>\n",
       "<table border=\"1\" class=\"dataframe\">\n",
       "  <thead>\n",
       "    <tr style=\"text-align: right;\">\n",
       "      <th></th>\n",
       "      <th>Qe I08</th>\n",
       "      <th>Renda</th>\n",
       "    </tr>\n",
       "  </thead>\n",
       "  <tbody>\n",
       "    <tr>\n",
       "      <th>F</th>\n",
       "      <td>1235</td>\n",
       "      <td>Até 1,5</td>\n",
       "    </tr>\n",
       "    <tr>\n",
       "      <th>E</th>\n",
       "      <td>1127</td>\n",
       "      <td>De 1,5 a 3</td>\n",
       "    </tr>\n",
       "    <tr>\n",
       "      <th>C</th>\n",
       "      <td>1061</td>\n",
       "      <td>De 3 a 4,5</td>\n",
       "    </tr>\n",
       "    <tr>\n",
       "      <th>B</th>\n",
       "      <td>986</td>\n",
       "      <td>De 4,5 a 6</td>\n",
       "    </tr>\n",
       "    <tr>\n",
       "      <th>A</th>\n",
       "      <td>849</td>\n",
       "      <td>De 6 a 10</td>\n",
       "    </tr>\n",
       "    <tr>\n",
       "      <th>D</th>\n",
       "      <td>765</td>\n",
       "      <td>De 10 a 30</td>\n",
       "    </tr>\n",
       "    <tr>\n",
       "      <th>G</th>\n",
       "      <td>487</td>\n",
       "      <td>Acima de 30</td>\n",
       "    </tr>\n",
       "  </tbody>\n",
       "</table>\n",
       "</div>"
      ],
      "text/plain": [
       "   Qe I08        Renda\n",
       "F    1235      Até 1,5\n",
       "E    1127   De 1,5 a 3\n",
       "C    1061   De 3 a 4,5\n",
       "B     986   De 4,5 a 6\n",
       "A     849    De 6 a 10\n",
       "D     765   De 10 a 30\n",
       "G     487  Acima de 30"
      ]
     },
     "execution_count": 237,
     "metadata": {},
     "output_type": "execute_result"
    }
   ],
   "source": [
    "renda_a = df_a['Qe I08'].value_counts().to_frame()\n",
    "renda_a['Renda'] = ['Até 1,5', 'De 1,5 a 3', 'De 3 a 4,5', 'De 4,5 a 6', 'De 6 a 10', 'De 10 a 30', 'Acima de 30']\n",
    "renda_a.sort_values(by='Qe I08',ascending=False, inplace=True)\n",
    "renda_a"
   ]
  },
  {
   "cell_type": "code",
   "execution_count": 238,
   "id": "83b71399",
   "metadata": {
    "scrolled": false
   },
   "outputs": [
    {
     "data": {
      "image/png": "[encoded data removed]",
      "text/plain": [
       "<Figure size 1152x576 with 1 Axes>"
      ]
     },
     "metadata": {},
     "output_type": "display_data"
    }
   ],
   "source": [
    "sns.set_theme(style='white')\n",
    "\n",
    "ax = plt.subplots(figsize=(16, 8))\n",
    "ax = sns.barplot(data=renda_a, x='Renda', y='Qe I08')\n",
    "\n",
    "ax.set_title('A', loc='Left', fontsize=18)\n",
    "ax.bar_label(ax.containers[0])\n",
    "ax.set_xlabel('')\n",
    "ax.set_ylabel('')\n",
    "\n",
    "plt.show()"
   ]
  },
  {
   "cell_type": "code",
   "execution_count": 239,
   "id": "5MTnodVmPn3B",
   "metadata": {
    "colab": {
     "base_uri": "https://localhost:8080/"
    },
    "id": "5MTnodVmPn3B",
    "outputId": "afee6de8-92a1-4fcc-f57e-962c38b979b0"
   },
   "outputs": [
    {
     "name": "stdout",
     "output_type": "stream",
     "text": [
      "1 - A média das notas dos Alunos Qe I21 B foi de 35.40173684210529\n",
      "2 - O devio padrão das notas dos Alunos Qe I21 B foi de 12.11043410240612\n"
     ]
    }
   ],
   "source": [
    "print(f'1 - A média das notas dos Alunos Qe I21 B foi de {df_b.notas_gerais.mean()}')\n",
    "print(f'2 - O devio padrão das notas dos Alunos Qe I21 B foi de {df_b.notas_gerais.std()}')"
   ]
  },
  {
   "cell_type": "code",
   "execution_count": 240,
   "id": "411dcd37",
   "metadata": {},
   "outputs": [
    {
     "data": {
      "text/html": [
       "<div>\n",
       "<style scoped>\n",
       "    .dataframe tbody tr th:only-of-type {\n",
       "        vertical-align: middle;\n",
       "    }\n",
       "\n",
       "    .dataframe tbody tr th {\n",
       "        vertical-align: top;\n",
       "    }\n",
       "\n",
       "    .dataframe thead th {\n",
       "        text-align: right;\n",
       "    }\n",
       "</style>\n",
       "<table border=\"1\" class=\"dataframe\">\n",
       "  <thead>\n",
       "    <tr style=\"text-align: right;\">\n",
       "      <th></th>\n",
       "      <th>Qe I08</th>\n",
       "      <th>Renda</th>\n",
       "    </tr>\n",
       "  </thead>\n",
       "  <tbody>\n",
       "    <tr>\n",
       "      <th>B</th>\n",
       "      <td>576</td>\n",
       "      <td>Até 1,5</td>\n",
       "    </tr>\n",
       "    <tr>\n",
       "      <th>C</th>\n",
       "      <td>447</td>\n",
       "      <td>De 1,5 a 3</td>\n",
       "    </tr>\n",
       "    <tr>\n",
       "      <th>A</th>\n",
       "      <td>437</td>\n",
       "      <td>De 3 a 4,5</td>\n",
       "    </tr>\n",
       "    <tr>\n",
       "      <th>D</th>\n",
       "      <td>228</td>\n",
       "      <td>De 4,5 a 6</td>\n",
       "    </tr>\n",
       "    <tr>\n",
       "      <th>E</th>\n",
       "      <td>211</td>\n",
       "      <td>De 6 a 10</td>\n",
       "    </tr>\n",
       "    <tr>\n",
       "      <th>F</th>\n",
       "      <td>74</td>\n",
       "      <td>De 10 a 30</td>\n",
       "    </tr>\n",
       "    <tr>\n",
       "      <th>G</th>\n",
       "      <td>12</td>\n",
       "      <td>Acima de 30</td>\n",
       "    </tr>\n",
       "  </tbody>\n",
       "</table>\n",
       "</div>"
      ],
      "text/plain": [
       "   Qe I08        Renda\n",
       "B     576      Até 1,5\n",
       "C     447   De 1,5 a 3\n",
       "A     437   De 3 a 4,5\n",
       "D     228   De 4,5 a 6\n",
       "E     211    De 6 a 10\n",
       "F      74   De 10 a 30\n",
       "G      12  Acima de 30"
      ]
     },
     "execution_count": 240,
     "metadata": {},
     "output_type": "execute_result"
    }
   ],
   "source": [
    "renda_b = df_b['Qe I08'].value_counts().to_frame()\n",
    "renda_b['Renda'] = ['Até 1,5', 'De 1,5 a 3', 'De 3 a 4,5', 'De 4,5 a 6', 'De 6 a 10', 'De 10 a 30', 'Acima de 30']\n",
    "renda_b.sort_values(by='Qe I08',ascending=False, inplace=True)\n",
    "renda_b"
   ]
  },
  {
   "cell_type": "code",
   "execution_count": 241,
   "id": "33f9ec1a",
   "metadata": {},
   "outputs": [
    {
     "data": {
      "image/png": "[encoded data removed]",
      "text/plain": [
       "<Figure size 1152x576 with 1 Axes>"
      ]
     },
     "metadata": {},
     "output_type": "display_data"
    }
   ],
   "source": [
    "sns.set_theme(style='white')\n",
    "\n",
    "ax = plt.subplots(figsize=(16, 8))\n",
    "ax = sns.barplot(data=renda_b, x='Renda', y='Qe I08')\n",
    "\n",
    "ax.set_title('B', loc='Left', fontsize=18)\n",
    "ax.bar_label(ax.containers[0])\n",
    "ax.set_xlabel('')\n",
    "ax.set_ylabel('')\n",
    "\n",
    "plt.show()"
   ]
  },
  {
   "cell_type": "code",
   "execution_count": 242,
   "id": "m49M6oZcPyZR",
   "metadata": {
    "colab": {
     "base_uri": "https://localhost:8080/",
     "height": 505
    },
    "id": "m49M6oZcPyZR",
    "outputId": "25a4cdb3-ed3f-48c1-fc16-4e29d8018f71",
    "scrolled": false
   },
   "outputs": [
    {
     "data": {
      "image/png": "[encoded data removed]",
      "text/plain": [
       "<Figure size 1152x576 with 2 Axes>"
      ]
     },
     "metadata": {},
     "output_type": "display_data"
    }
   ],
   "source": [
    "plt.subplots(figsize=(16, 8))\n",
    "\n",
    "ax = plt.subplot(2, 1, 1)\n",
    "sns.histplot(df_a.notas_gerais, kde=True)\n",
    "\n",
    "ax.set_title('A', loc='Left', fontsize=18)\n",
    "ax.set_xlabel('', fontsize=14)\n",
    "ax.set_ylabel('', fontsize=14)\n",
    "plt.axvline(x=df_a.notas_gerais.mean(),color='blue',ls='-',lw=2.5)\n",
    "\n",
    "\n",
    "ax1 = plt.subplot(2, 1, 2)\n",
    "sns.histplot(df_b.notas_gerais, kde=True)\n",
    "\n",
    "ax1.set_title('B', loc='Left', fontsize=18)\n",
    "ax1.set_xlabel('', fontsize=14)\n",
    "ax1.set_ylabel('', fontsize=14)\n",
    "plt.axvline(x=df_b.notas_gerais.mean(),color='blue',ls='-',lw=2.5)\n",
    "\n",
    "plt.show()"
   ]
  },
  {
   "cell_type": "markdown",
   "id": "irHp914EWwKW",
   "metadata": {
    "id": "irHp914EWwKW"
   },
   "source": [
    "#### Teste Normalidade A"
   ]
  },
  {
   "cell_type": "code",
   "execution_count": 243,
   "id": "2vqgfWZHuDUe",
   "metadata": {
    "colab": {
     "base_uri": "https://localhost:8080/",
     "height": 411
    },
    "id": "2vqgfWZHuDUe",
    "outputId": "949a6db2-67ba-4963-bd12-7cde88e0f77b"
   },
   "outputs": [
    {
     "data": {
      "text/plain": [
       "<AxesSubplot:xlabel='notas_gerais'>"
      ]
     },
     "execution_count": 243,
     "metadata": {},
     "output_type": "execute_result"
    },
    {
     "data": {
      "image/png": "[encoded data removed]",
      "text/plain": [
       "<Figure size 864x432 with 1 Axes>"
      ]
     },
     "metadata": {},
     "output_type": "display_data"
    }
   ],
   "source": [
    "import seaborn as sns\n",
    "\n",
    "f, ax = plt.subplots(figsize=(12, 6))\n",
    "\n",
    "sns.boxplot(x=\"notas_gerais\", data=df_a)"
   ]
  },
  {
   "cell_type": "code",
   "execution_count": 244,
   "id": "j-LzV3weV7nq",
   "metadata": {
    "colab": {
     "base_uri": "https://localhost:8080/",
     "height": 302
    },
    "id": "j-LzV3weV7nq",
    "outputId": "5b591021-5b18-4159-d9a0-57276f810cbf"
   },
   "outputs": [
    {
     "name": "stdout",
     "output_type": "stream",
     "text": [
      "A\n"
     ]
    },
    {
     "data": {
      "image/png": "[encoded data removed]",
      "text/plain": [
       "<Figure size 432x288 with 1 Axes>"
      ]
     },
     "metadata": {},
     "output_type": "display_data"
    }
   ],
   "source": [
    "ax = sm.qqplot(df_a.notas_gerais, line='s')\n",
    "\n",
    "print('A')\n",
    "\n",
    "pylab.show()"
   ]
  },
  {
   "cell_type": "code",
   "execution_count": 245,
   "id": "qwQe6F5ZWR1_",
   "metadata": {
    "colab": {
     "base_uri": "https://localhost:8080/"
    },
    "id": "qwQe6F5ZWR1_",
    "outputId": "cac0fffa-cae1-4370-a43d-ce54a23ff5dd"
   },
   "outputs": [
    {
     "data": {
      "text/plain": [
       "8.60534186363783e-21"
      ]
     },
     "execution_count": 245,
     "metadata": {},
     "output_type": "execute_result"
    }
   ],
   "source": [
    "stat_test, p_valor = normaltest(df_a.notas_gerais.dropna())\n",
    "p_valor"
   ]
  },
  {
   "cell_type": "code",
   "execution_count": 246,
   "id": "6AhLrIImWa4g",
   "metadata": {
    "colab": {
     "base_uri": "https://localhost:8080/"
    },
    "id": "6AhLrIImWa4g",
    "outputId": "71c8185e-58d5-484c-944a-75655e28194f"
   },
   "outputs": [
    {
     "data": {
      "text/plain": [
       "True"
      ]
     },
     "execution_count": 246,
     "metadata": {},
     "output_type": "execute_result"
    }
   ],
   "source": [
    "p_valor <= alpha"
   ]
  },
  {
   "cell_type": "code",
   "execution_count": 247,
   "id": "PQqcazLXWe3P",
   "metadata": {
    "colab": {
     "base_uri": "https://localhost:8080/"
    },
    "id": "PQqcazLXWe3P",
    "outputId": "a58780e9-9e5b-4add-db34-dd1f6659c01f"
   },
   "outputs": [
    {
     "name": "stderr",
     "output_type": "stream",
     "text": [
      "C:\\Users\\walas\\anaconda3\\lib\\site-packages\\scipy\\stats\\morestats.py:1760: UserWarning: p-value may not be accurate for N > 5000.\n",
      "  warnings.warn(\"p-value may not be accurate for N > 5000.\")\n"
     ]
    },
    {
     "data": {
      "text/plain": [
       "1.702557523881917e-18"
      ]
     },
     "execution_count": 247,
     "metadata": {},
     "output_type": "execute_result"
    }
   ],
   "source": [
    "stat_test, p_valor = shapiro(df_a.notas_gerais.dropna())\n",
    "p_valor"
   ]
  },
  {
   "cell_type": "code",
   "execution_count": 248,
   "id": "x_nyHzbQWmbP",
   "metadata": {
    "colab": {
     "base_uri": "https://localhost:8080/"
    },
    "id": "x_nyHzbQWmbP",
    "outputId": "b6e0144d-2b22-48c1-c790-a3c5d9c9bbd1"
   },
   "outputs": [
    {
     "data": {
      "text/plain": [
       "True"
      ]
     },
     "execution_count": 248,
     "metadata": {},
     "output_type": "execute_result"
    }
   ],
   "source": [
    "p_valor <= alpha"
   ]
  },
  {
   "cell_type": "code",
   "execution_count": 249,
   "id": "wLPw4Pn3mNtV",
   "metadata": {
    "colab": {
     "base_uri": "https://localhost:8080/"
    },
    "id": "wLPw4Pn3mNtV",
    "outputId": "e7aa6ec3-b493-4e7b-942f-a0fcedca4c23"
   },
   "outputs": [
    {
     "data": {
      "text/plain": [
       "True"
      ]
     },
     "execution_count": 249,
     "metadata": {},
     "output_type": "execute_result"
    }
   ],
   "source": [
    "from scipy.stats import kstest\n",
    "ks_statistic, p_value = kstest(df_a.notas_gerais.dropna(), 'norm')\n",
    "p_valor <= alpha"
   ]
  },
  {
   "cell_type": "code",
   "execution_count": 250,
   "id": "Wn7GWthCb4Yk",
   "metadata": {
    "colab": {
     "base_uri": "https://localhost:8080/"
    },
    "id": "Wn7GWthCb4Yk",
    "outputId": "ae52e3c0-e3c0-49a8-accd-8c1afa45113d"
   },
   "outputs": [
    {
     "data": {
      "text/plain": [
       "1.702557523881917e-18"
      ]
     },
     "execution_count": 250,
     "metadata": {},
     "output_type": "execute_result"
    }
   ],
   "source": [
    "p_valor"
   ]
  },
  {
   "cell_type": "code",
   "execution_count": 251,
   "id": "2HVXRY5smNtW",
   "metadata": {
    "colab": {
     "base_uri": "https://localhost:8080/"
    },
    "id": "2HVXRY5smNtW",
    "outputId": "146295d5-c250-48bf-a9fe-a80be94272b5"
   },
   "outputs": [
    {
     "data": {
      "text/plain": [
       "True"
      ]
     },
     "execution_count": 251,
     "metadata": {},
     "output_type": "execute_result"
    }
   ],
   "source": [
    "from statsmodels.stats.diagnostic import lilliefors\n",
    "lf_statistic, p_value = lilliefors(df_a.notas_gerais.dropna())\n",
    "p_valor <= alpha"
   ]
  },
  {
   "cell_type": "code",
   "execution_count": 252,
   "id": "mLyNYjefb5mo",
   "metadata": {
    "colab": {
     "base_uri": "https://localhost:8080/"
    },
    "id": "mLyNYjefb5mo",
    "outputId": "cd21a01e-4c79-4470-e9db-10737feee7d6"
   },
   "outputs": [
    {
     "data": {
      "text/plain": [
       "1.702557523881917e-18"
      ]
     },
     "execution_count": 252,
     "metadata": {},
     "output_type": "execute_result"
    }
   ],
   "source": [
    "p_valor"
   ]
  },
  {
   "cell_type": "markdown",
   "id": "AoxPOe11W3ct",
   "metadata": {
    "id": "AoxPOe11W3ct"
   },
   "source": [
    "#### Teste Normalidade B"
   ]
  },
  {
   "cell_type": "code",
   "execution_count": 253,
   "id": "4VT_DoGYuJIP",
   "metadata": {
    "colab": {
     "base_uri": "https://localhost:8080/",
     "height": 411
    },
    "id": "4VT_DoGYuJIP",
    "outputId": "e56e8dc1-508b-4159-840e-cbfe23d48b21"
   },
   "outputs": [
    {
     "data": {
      "text/plain": [
       "<AxesSubplot:xlabel='notas_gerais'>"
      ]
     },
     "execution_count": 253,
     "metadata": {},
     "output_type": "execute_result"
    },
    {
     "data": {
      "image/png": "[encoded data removed]",
      "text/plain": [
       "<Figure size 864x432 with 1 Axes>"
      ]
     },
     "metadata": {},
     "output_type": "display_data"
    }
   ],
   "source": [
    "import seaborn as sns\n",
    "\n",
    "f, ax = plt.subplots(figsize=(12, 6))\n",
    "\n",
    "sns.boxplot(x=\"notas_gerais\", data=df_b)"
   ]
  },
  {
   "cell_type": "code",
   "execution_count": 254,
   "id": "bXodPO0EWEUg",
   "metadata": {
    "colab": {
     "base_uri": "https://localhost:8080/",
     "height": 302
    },
    "id": "bXodPO0EWEUg",
    "outputId": "ae66a8c2-a331-44fc-b6aa-11a24d5313bf"
   },
   "outputs": [
    {
     "name": "stdout",
     "output_type": "stream",
     "text": [
      "B\n"
     ]
    },
    {
     "data": {
      "image/png": "[encoded data removed]",
      "text/plain": [
       "<Figure size 432x288 with 1 Axes>"
      ]
     },
     "metadata": {},
     "output_type": "display_data"
    }
   ],
   "source": [
    "ax = sm.qqplot(df_b.notas_gerais, line='s'),\n",
    "\n",
    "print('B')\n",
    "\n",
    "pylab.show()"
   ]
  },
  {
   "cell_type": "code",
   "execution_count": 255,
   "id": "XWu-L0gvW7We",
   "metadata": {
    "colab": {
     "base_uri": "https://localhost:8080/"
    },
    "id": "XWu-L0gvW7We",
    "outputId": "6e5806b9-90d9-4078-8fea-7477abd6d0d0"
   },
   "outputs": [
    {
     "data": {
      "text/plain": [
       "1.0003945271026058e-05"
      ]
     },
     "execution_count": 255,
     "metadata": {},
     "output_type": "execute_result"
    }
   ],
   "source": [
    "stat_test, p_valor = normaltest(df_b.notas_gerais.dropna())\n",
    "p_valor"
   ]
  },
  {
   "cell_type": "code",
   "execution_count": 256,
   "id": "yp0oFxaAW_vM",
   "metadata": {
    "colab": {
     "base_uri": "https://localhost:8080/"
    },
    "id": "yp0oFxaAW_vM",
    "outputId": "d8b68961-6937-4d7c-a28a-129b3c3e5079"
   },
   "outputs": [
    {
     "data": {
      "text/plain": [
       "True"
      ]
     },
     "execution_count": 256,
     "metadata": {},
     "output_type": "execute_result"
    }
   ],
   "source": [
    "p_valor <= alpha"
   ]
  },
  {
   "cell_type": "code",
   "execution_count": 257,
   "id": "97u9mE6NXBA9",
   "metadata": {
    "colab": {
     "base_uri": "https://localhost:8080/"
    },
    "id": "97u9mE6NXBA9",
    "outputId": "a66142b5-2576-4934-eb0e-fabfd0baad83"
   },
   "outputs": [
    {
     "data": {
      "text/plain": [
       "1.562585755232604e-10"
      ]
     },
     "execution_count": 257,
     "metadata": {},
     "output_type": "execute_result"
    }
   ],
   "source": [
    "stat_test, p_valor = shapiro(df_b.notas_gerais.dropna())\n",
    "p_valor"
   ]
  },
  {
   "cell_type": "code",
   "execution_count": 258,
   "id": "E5TYY12oXFVg",
   "metadata": {
    "colab": {
     "base_uri": "https://localhost:8080/"
    },
    "id": "E5TYY12oXFVg",
    "outputId": "65acdf52-7c50-43ca-c73b-e6b9e20b9cb3"
   },
   "outputs": [
    {
     "data": {
      "text/plain": [
       "True"
      ]
     },
     "execution_count": 258,
     "metadata": {},
     "output_type": "execute_result"
    }
   ],
   "source": [
    "p_valor <= alpha"
   ]
  },
  {
   "cell_type": "code",
   "execution_count": 259,
   "id": "gJVppoq0mbpT",
   "metadata": {
    "colab": {
     "base_uri": "https://localhost:8080/"
    },
    "id": "gJVppoq0mbpT",
    "outputId": "0857b80f-195e-4ff7-c3e0-223862b53e9a"
   },
   "outputs": [
    {
     "data": {
      "text/plain": [
       "True"
      ]
     },
     "execution_count": 259,
     "metadata": {},
     "output_type": "execute_result"
    }
   ],
   "source": [
    "from scipy.stats import kstest\n",
    "ks_statistic, p_value = kstest(df_b.notas_gerais.dropna(), 'norm')\n",
    "p_valor <= alpha"
   ]
  },
  {
   "cell_type": "code",
   "execution_count": 260,
   "id": "ulNE-49tb8tI",
   "metadata": {
    "colab": {
     "base_uri": "https://localhost:8080/"
    },
    "id": "ulNE-49tb8tI",
    "outputId": "e1c24d6b-b6e3-4c23-8fae-086d56b20f2b"
   },
   "outputs": [
    {
     "data": {
      "text/plain": [
       "1.562585755232604e-10"
      ]
     },
     "execution_count": 260,
     "metadata": {},
     "output_type": "execute_result"
    }
   ],
   "source": [
    "p_valor"
   ]
  },
  {
   "cell_type": "code",
   "execution_count": 261,
   "id": "s-6vXLQambpT",
   "metadata": {
    "colab": {
     "base_uri": "https://localhost:8080/"
    },
    "id": "s-6vXLQambpT",
    "outputId": "aacef8d0-485b-4c7a-9042-ab2da6add16b"
   },
   "outputs": [
    {
     "data": {
      "text/plain": [
       "True"
      ]
     },
     "execution_count": 261,
     "metadata": {},
     "output_type": "execute_result"
    }
   ],
   "source": [
    "from statsmodels.stats.diagnostic import lilliefors\n",
    "lf_statistic, p_value = lilliefors(df_b.notas_gerais.dropna())\n",
    "p_valor <= alpha"
   ]
  },
  {
   "cell_type": "code",
   "execution_count": 262,
   "id": "zdC5hJTBb9U0",
   "metadata": {
    "colab": {
     "base_uri": "https://localhost:8080/"
    },
    "id": "zdC5hJTBb9U0",
    "outputId": "6ced3c26-365b-4b1d-baa7-cf6bcd9f7d55"
   },
   "outputs": [
    {
     "data": {
      "text/plain": [
       "1.562585755232604e-10"
      ]
     },
     "execution_count": 262,
     "metadata": {},
     "output_type": "execute_result"
    }
   ],
   "source": [
    "p_valor"
   ]
  },
  {
   "cell_type": "markdown",
   "id": "L1D8pd1nnsIZ",
   "metadata": {
    "id": "L1D8pd1nnsIZ"
   },
   "source": [
    "Em 5 testes P foi menor que o nível de significância H0 deve ser rejeitado"
   ]
  },
  {
   "cell_type": "markdown",
   "id": "9A0ubp6m4Kqz",
   "metadata": {
    "id": "9A0ubp6m4Kqz"
   },
   "source": [
    "### Teste Não Paramétrico Geral \n",
    "\n",
    "# $$\\chi^2 = \\sum_{i=1}^{k}{\\frac{(F_{i}^{Obs} - F_{i}^{Esp})^2}{F_{i}^{Esp}}}$$\n",
    "\n",
    "H<sub>0</sub> (B = A)\n",
    "\n",
    "H<sub>1</sub> (B != A)"
   ]
  },
  {
   "cell_type": "code",
   "execution_count": 263,
   "id": "EPscrT785MOr",
   "metadata": {
    "colab": {
     "base_uri": "https://localhost:8080/"
    },
    "id": "EPscrT785MOr",
    "outputId": "3f7c6e9e-770f-41cd-a0ba-800899fb38c3"
   },
   "outputs": [
    {
     "name": "stderr",
     "output_type": "stream",
     "text": [
      "C:\\Users\\walas\\AppData\\Local\\Temp\\ipykernel_14000\\2229192524.py:1: UserWarning: Boolean Series key will be reindexed to match DataFrame index.\n",
      "  df_a_teste = df_a[df['notas_gerais'] != 0].dropna()\n"
     ]
    },
    {
     "data": {
      "text/plain": [
       "1074"
      ]
     },
     "execution_count": 263,
     "metadata": {},
     "output_type": "execute_result"
    }
   ],
   "source": [
    "df_a_teste = df_a[df['notas_gerais'] != 0].dropna()\n",
    "len(df_a_teste)"
   ]
  },
  {
   "cell_type": "code",
   "execution_count": 264,
   "id": "X8_0j8WX5P18",
   "metadata": {
    "colab": {
     "base_uri": "https://localhost:8080/"
    },
    "id": "X8_0j8WX5P18",
    "outputId": "3c0fc581-cb94-41ab-bd9b-1e4f499ed82b"
   },
   "outputs": [
    {
     "name": "stderr",
     "output_type": "stream",
     "text": [
      "C:\\Users\\walas\\AppData\\Local\\Temp\\ipykernel_14000\\2084526092.py:1: UserWarning: Boolean Series key will be reindexed to match DataFrame index.\n",
      "  df_b_teste = df_b[df['notas_gerais'] != 0].dropna()\n"
     ]
    }
   ],
   "source": [
    "df_b_teste = df_b[df['notas_gerais'] != 0].dropna()\n",
    "k = int(len(df_b_teste))"
   ]
  },
  {
   "cell_type": "code",
   "execution_count": 265,
   "id": "fA-5pJ4a4Pqn",
   "metadata": {
    "id": "fA-5pJ4a4Pqn"
   },
   "outputs": [],
   "source": [
    "F_Observada = df_b_teste.notas_gerais.sample(k, replace=True).to_frame()\n",
    "F_Esperada = df_a_teste.notas_gerais.sample(k, replace=True).to_frame()\n",
    "\n",
    "F_Observada = list(F_Observada.notas_gerais)\n",
    "F_Esperada = list(F_Esperada.notas_gerais)\n",
    "\n",
    "significancia = 0.05\n",
    "confianca = 1 - significancia\n",
    "graus_de_liberdade = k - 1"
   ]
  },
  {
   "cell_type": "code",
   "execution_count": 266,
   "id": "7c8kIoh6NyBM",
   "metadata": {
    "colab": {
     "base_uri": "https://localhost:8080/"
    },
    "id": "7c8kIoh6NyBM",
    "outputId": "5dcde51a-b9a8-4fdf-d447-14d03f9d8a69"
   },
   "outputs": [
    {
     "data": {
      "text/plain": [
       "334.9898387219035"
      ]
     },
     "execution_count": 266,
     "metadata": {},
     "output_type": "execute_result"
    }
   ],
   "source": [
    "from scipy.stats import chi\n",
    "\n",
    "chi_2_alpha = chi.ppf(confianca, graus_de_liberdade) ** 2\n",
    "chi_2_alpha"
   ]
  },
  {
   "cell_type": "code",
   "execution_count": 267,
   "id": "G1SZBoxV9OdK",
   "metadata": {
    "colab": {
     "base_uri": "https://localhost:8080/"
    },
    "id": "G1SZBoxV9OdK",
    "outputId": "dd029c8d-9165-463f-f53a-ada197cb84a4"
   },
   "outputs": [
    {
     "data": {
      "text/plain": [
       "9103.006587296142"
      ]
     },
     "execution_count": 267,
     "metadata": {},
     "output_type": "execute_result"
    }
   ],
   "source": [
    "chi_2 = 0\n",
    "for i in range(k):\n",
    "  chi_2 += (F_Observada[i] - F_Esperada[i]) ** 2 /  F_Esperada[i]\n",
    "  \n",
    "chi_2"
   ]
  },
  {
   "cell_type": "code",
   "execution_count": 268,
   "id": "HOya0RvJP9bu",
   "metadata": {
    "colab": {
     "base_uri": "https://localhost:8080/"
    },
    "id": "HOya0RvJP9bu",
    "outputId": "8c283f4b-0e1d-4216-8527-da08926e0c84"
   },
   "outputs": [
    {
     "data": {
      "text/plain": [
       "True"
      ]
     },
     "execution_count": 268,
     "metadata": {},
     "output_type": "execute_result"
    }
   ],
   "source": [
    "chi_2 >= chi_2_alpha"
   ]
  },
  {
   "cell_type": "markdown",
   "id": "OS3pSKvlPWGz",
   "metadata": {
    "id": "OS3pSKvlPWGz"
   },
   "source": [
    "### $H_0$ *As distribuições são iguais*\n",
    "### $H_1$ *As distribuições não são iguais*\n",
    "\n",
    "### Rejeitar $H_0$ se $\\chi^2 > \\chi_{\\alpha}^2$"
   ]
  },
  {
   "cell_type": "markdown",
   "id": "QRIsyLcvNczG",
   "metadata": {
    "id": "QRIsyLcvNczG"
   },
   "source": [
    "### Teste de Normalidade Alunos de Federais"
   ]
  },
  {
   "cell_type": "code",
   "execution_count": 269,
   "id": "cEx99AKINUih",
   "metadata": {
    "colab": {
     "base_uri": "https://localhost:8080/",
     "height": 280
    },
    "id": "cEx99AKINUih",
    "outputId": "88e03950-ecd8-45d4-c928-2a934f7da32a"
   },
   "outputs": [
    {
     "data": {
      "text/html": [
       "<div>\n",
       "<style scoped>\n",
       "    .dataframe tbody tr th:only-of-type {\n",
       "        vertical-align: middle;\n",
       "    }\n",
       "\n",
       "    .dataframe tbody tr th {\n",
       "        vertical-align: top;\n",
       "    }\n",
       "\n",
       "    .dataframe thead th {\n",
       "        text-align: right;\n",
       "    }\n",
       "</style>\n",
       "<table border=\"1\" class=\"dataframe\">\n",
       "  <thead>\n",
       "    <tr style=\"text-align: right;\">\n",
       "      <th></th>\n",
       "      <th>Ano Fim Em</th>\n",
       "      <th>Ano In Grad</th>\n",
       "      <th>Co Categad</th>\n",
       "      <th>Co Grupo</th>\n",
       "      <th>Co Ies</th>\n",
       "      <th>Co Munic Curso</th>\n",
       "      <th>Co Rs I1</th>\n",
       "      <th>Co Rs I2</th>\n",
       "      <th>Co Rs I3</th>\n",
       "      <th>Co Rs I4</th>\n",
       "      <th>...</th>\n",
       "      <th>Tp Pr Di Fg</th>\n",
       "      <th>Tp Pr Ger</th>\n",
       "      <th>Tp Pr Ob Ce</th>\n",
       "      <th>Tp Pr Ob Fg</th>\n",
       "      <th>Tp Pres</th>\n",
       "      <th>Tp Sce D1</th>\n",
       "      <th>Tp Sce D2</th>\n",
       "      <th>Tp Sce D3</th>\n",
       "      <th>Tp Sfg D1</th>\n",
       "      <th>Tp Sfg D2</th>\n",
       "    </tr>\n",
       "  </thead>\n",
       "  <tbody>\n",
       "    <tr>\n",
       "      <th>0</th>\n",
       "      <td>2012</td>\n",
       "      <td>2013</td>\n",
       "      <td>10002</td>\n",
       "      <td>13</td>\n",
       "      <td>789</td>\n",
       "      <td>1400100</td>\n",
       "      <td>NaN</td>\n",
       "      <td>NaN</td>\n",
       "      <td>NaN</td>\n",
       "      <td>NaN</td>\n",
       "      <td>...</td>\n",
       "      <td>222</td>\n",
       "      <td>222</td>\n",
       "      <td>222</td>\n",
       "      <td>222</td>\n",
       "      <td>222</td>\n",
       "      <td>222</td>\n",
       "      <td>222</td>\n",
       "      <td>222</td>\n",
       "      <td>222</td>\n",
       "      <td>222</td>\n",
       "    </tr>\n",
       "    <tr>\n",
       "      <th>1</th>\n",
       "      <td>1987</td>\n",
       "      <td>1988</td>\n",
       "      <td>10002</td>\n",
       "      <td>13</td>\n",
       "      <td>583</td>\n",
       "      <td>2304400</td>\n",
       "      <td>NaN</td>\n",
       "      <td>NaN</td>\n",
       "      <td>NaN</td>\n",
       "      <td>NaN</td>\n",
       "      <td>...</td>\n",
       "      <td>222</td>\n",
       "      <td>222</td>\n",
       "      <td>222</td>\n",
       "      <td>222</td>\n",
       "      <td>222</td>\n",
       "      <td>222</td>\n",
       "      <td>222</td>\n",
       "      <td>222</td>\n",
       "      <td>222</td>\n",
       "      <td>222</td>\n",
       "    </tr>\n",
       "    <tr>\n",
       "      <th>2</th>\n",
       "      <td>2004</td>\n",
       "      <td>2005</td>\n",
       "      <td>10002</td>\n",
       "      <td>13</td>\n",
       "      <td>583</td>\n",
       "      <td>2304400</td>\n",
       "      <td>NaN</td>\n",
       "      <td>NaN</td>\n",
       "      <td>NaN</td>\n",
       "      <td>NaN</td>\n",
       "      <td>...</td>\n",
       "      <td>222</td>\n",
       "      <td>222</td>\n",
       "      <td>222</td>\n",
       "      <td>222</td>\n",
       "      <td>222</td>\n",
       "      <td>222</td>\n",
       "      <td>222</td>\n",
       "      <td>222</td>\n",
       "      <td>222</td>\n",
       "      <td>222</td>\n",
       "    </tr>\n",
       "    <tr>\n",
       "      <th>5</th>\n",
       "      <td>2006</td>\n",
       "      <td>2010</td>\n",
       "      <td>10002</td>\n",
       "      <td>13</td>\n",
       "      <td>580</td>\n",
       "      <td>2611606</td>\n",
       "      <td>NaN</td>\n",
       "      <td>NaN</td>\n",
       "      <td>NaN</td>\n",
       "      <td>NaN</td>\n",
       "      <td>...</td>\n",
       "      <td>222</td>\n",
       "      <td>222</td>\n",
       "      <td>222</td>\n",
       "      <td>222</td>\n",
       "      <td>222</td>\n",
       "      <td>222</td>\n",
       "      <td>222</td>\n",
       "      <td>222</td>\n",
       "      <td>222</td>\n",
       "      <td>222</td>\n",
       "    </tr>\n",
       "    <tr>\n",
       "      <th>6</th>\n",
       "      <td>2010</td>\n",
       "      <td>2011</td>\n",
       "      <td>10002</td>\n",
       "      <td>13</td>\n",
       "      <td>580</td>\n",
       "      <td>2611606</td>\n",
       "      <td>NaN</td>\n",
       "      <td>NaN</td>\n",
       "      <td>NaN</td>\n",
       "      <td>NaN</td>\n",
       "      <td>...</td>\n",
       "      <td>222</td>\n",
       "      <td>222</td>\n",
       "      <td>222</td>\n",
       "      <td>222</td>\n",
       "      <td>222</td>\n",
       "      <td>222</td>\n",
       "      <td>222</td>\n",
       "      <td>222</td>\n",
       "      <td>222</td>\n",
       "      <td>222</td>\n",
       "    </tr>\n",
       "  </tbody>\n",
       "</table>\n",
       "<p>5 rows × 137 columns</p>\n",
       "</div>"
      ],
      "text/plain": [
       "   Ano Fim Em  Ano In Grad  Co Categad  Co Grupo  Co Ies  Co Munic Curso  \\\n",
       "0        2012         2013       10002        13     789         1400100   \n",
       "1        1987         1988       10002        13     583         2304400   \n",
       "2        2004         2005       10002        13     583         2304400   \n",
       "5        2006         2010       10002        13     580         2611606   \n",
       "6        2010         2011       10002        13     580         2611606   \n",
       "\n",
       "  Co Rs I1 Co Rs I2 Co Rs I3 Co Rs I4  ... Tp Pr Di Fg Tp Pr Ger Tp Pr Ob Ce  \\\n",
       "0      NaN      NaN      NaN      NaN  ...         222       222         222   \n",
       "1      NaN      NaN      NaN      NaN  ...         222       222         222   \n",
       "2      NaN      NaN      NaN      NaN  ...         222       222         222   \n",
       "5      NaN      NaN      NaN      NaN  ...         222       222         222   \n",
       "6      NaN      NaN      NaN      NaN  ...         222       222         222   \n",
       "\n",
       "  Tp Pr Ob Fg Tp Pres Tp Sce D1 Tp Sce D2 Tp Sce D3 Tp Sfg D1 Tp Sfg D2  \n",
       "0         222     222       222       222       222       222       222  \n",
       "1         222     222       222       222       222       222       222  \n",
       "2         222     222       222       222       222       222       222  \n",
       "5         222     222       222       222       222       222       222  \n",
       "6         222     222       222       222       222       222       222  \n",
       "\n",
       "[5 rows x 137 columns]"
      ]
     },
     "execution_count": 269,
     "metadata": {},
     "output_type": "execute_result"
    }
   ],
   "source": [
    "federais = df[(df['Co Categad'] == 93) | (df['Co Categad'] == 10002)]\n",
    "federais.head()"
   ]
  },
  {
   "cell_type": "code",
   "execution_count": 270,
   "id": "cju8ZE3IOOyo",
   "metadata": {
    "colab": {
     "base_uri": "https://localhost:8080/"
    },
    "id": "cju8ZE3IOOyo",
    "outputId": "240afd53-7a82-469e-d8d5-8d6e3ee6f975"
   },
   "outputs": [
    {
     "data": {
      "text/plain": [
       "(4190, 137)"
      ]
     },
     "execution_count": 270,
     "metadata": {},
     "output_type": "execute_result"
    }
   ],
   "source": [
    "federais.shape"
   ]
  },
  {
   "cell_type": "markdown",
   "id": "hdhWlrtdOTgf",
   "metadata": {
    "id": "hdhWlrtdOTgf"
   },
   "source": [
    "Temos 4190 Alunos de universidades federais"
   ]
  },
  {
   "cell_type": "code",
   "execution_count": 271,
   "id": "VI02JQreOTBG",
   "metadata": {
    "colab": {
     "base_uri": "https://localhost:8080/"
    },
    "id": "VI02JQreOTBG",
    "outputId": "20e2a341-e8b1-41d6-f89e-ee228beb1594"
   },
   "outputs": [
    {
     "name": "stdout",
     "output_type": "stream",
     "text": [
      "1 - A média das notas foi de 39.7765863119978\n",
      "2 - O devio padrão das notas foi de 13.179830424882157\n"
     ]
    }
   ],
   "source": [
    "print(f'1 - A média das notas foi de {federais.notas_gerais.mean()}')\n",
    "print(f'2 - O devio padrão das notas foi de {federais.notas_gerais.std()}')"
   ]
  },
  {
   "cell_type": "code",
   "execution_count": 272,
   "id": "6EqBI6b_X5r7",
   "metadata": {
    "colab": {
     "base_uri": "https://localhost:8080/",
     "height": 505
    },
    "id": "6EqBI6b_X5r7",
    "outputId": "145d869f-a825-451d-e5d1-0a42aec2210e"
   },
   "outputs": [
    {
     "data": {
      "image/png": "[encoded data removed]",
      "text/plain": [
       "<Figure size 1152x576 with 1 Axes>"
      ]
     },
     "metadata": {},
     "output_type": "display_data"
    }
   ],
   "source": [
    "sns.set_theme(style='white')\n",
    "\n",
    "ax = plt.subplots(figsize=(16, 8))\n",
    "ax = sns.histplot(federais.notas_gerais, kde=True)\n",
    "\n",
    "# Parte visual\n",
    "\n",
    "ax.set_title('Federais', loc='Left', fontsize=18)\n",
    "ax.set_xlabel('', fontsize=14)\n",
    "ax.set_ylabel('', fontsize=14)\n",
    "plt.axvline(x=federais.notas_gerais.mean(),color='blue',ls='-',lw=2.5)\n",
    "\n",
    "plt.show()"
   ]
  },
  {
   "cell_type": "code",
   "execution_count": 273,
   "id": "7mY2YCRTuWZ-",
   "metadata": {
    "colab": {
     "base_uri": "https://localhost:8080/",
     "height": 411
    },
    "id": "7mY2YCRTuWZ-",
    "outputId": "eca777a4-8e11-4ee5-84a2-288dfeda501f"
   },
   "outputs": [
    {
     "data": {
      "text/plain": [
       "<AxesSubplot:xlabel='notas_gerais'>"
      ]
     },
     "execution_count": 273,
     "metadata": {},
     "output_type": "execute_result"
    },
    {
     "data": {
      "image/png": "[encoded data removed]",
      "text/plain": [
       "<Figure size 864x432 with 1 Axes>"
      ]
     },
     "metadata": {},
     "output_type": "display_data"
    }
   ],
   "source": [
    "import seaborn as sns\n",
    "\n",
    "f, ax = plt.subplots(figsize=(12, 6))\n",
    "\n",
    "sns.boxplot(x=\"notas_gerais\", data=federais)"
   ]
  },
  {
   "cell_type": "code",
   "execution_count": 274,
   "id": "NN5DeS6lYSQb",
   "metadata": {
    "colab": {
     "base_uri": "https://localhost:8080/",
     "height": 285
    },
    "id": "NN5DeS6lYSQb",
    "outputId": "fde28483-c746-4236-e763-0c3dea478f54"
   },
   "outputs": [
    {
     "data": {
      "image/png": "[encoded data removed]",
      "text/plain": [
       "<Figure size 432x288 with 1 Axes>"
      ]
     },
     "metadata": {},
     "output_type": "display_data"
    }
   ],
   "source": [
    "ax = sm.qqplot(federais.notas_gerais, line='s')\n",
    "pylab.show()"
   ]
  },
  {
   "cell_type": "code",
   "execution_count": 275,
   "id": "LhhDLDY8Yaqq",
   "metadata": {
    "colab": {
     "base_uri": "https://localhost:8080/"
    },
    "id": "LhhDLDY8Yaqq",
    "outputId": "22a589f5-bbbe-41f8-c8c6-4c46dcde1b6d"
   },
   "outputs": [
    {
     "data": {
      "text/plain": [
       "8.674420016053663e-11"
      ]
     },
     "execution_count": 275,
     "metadata": {},
     "output_type": "execute_result"
    }
   ],
   "source": [
    "stat_test, p_valor = normaltest(federais.notas_gerais.dropna())\n",
    "p_valor"
   ]
  },
  {
   "cell_type": "code",
   "execution_count": 276,
   "id": "RBadyTi_Yhr8",
   "metadata": {
    "colab": {
     "base_uri": "https://localhost:8080/"
    },
    "id": "RBadyTi_Yhr8",
    "outputId": "353f472e-ed41-4ead-9f06-722a96e61304"
   },
   "outputs": [
    {
     "data": {
      "text/plain": [
       "True"
      ]
     },
     "execution_count": 276,
     "metadata": {},
     "output_type": "execute_result"
    }
   ],
   "source": [
    "p_valor <= alpha"
   ]
  },
  {
   "cell_type": "code",
   "execution_count": 277,
   "id": "uIfuTSdOYjTK",
   "metadata": {
    "colab": {
     "base_uri": "https://localhost:8080/"
    },
    "id": "uIfuTSdOYjTK",
    "outputId": "0a9a8cca-7878-415b-e57c-36615a164073"
   },
   "outputs": [
    {
     "data": {
      "text/plain": [
       "3.95819228088401e-12"
      ]
     },
     "execution_count": 277,
     "metadata": {},
     "output_type": "execute_result"
    }
   ],
   "source": [
    "stat_test, p_valor = shapiro(federais.notas_gerais.dropna())\n",
    "p_valor"
   ]
  },
  {
   "cell_type": "code",
   "execution_count": 278,
   "id": "zCgaFE5VYolo",
   "metadata": {
    "colab": {
     "base_uri": "https://localhost:8080/"
    },
    "id": "zCgaFE5VYolo",
    "outputId": "501ba5eb-7e05-45eb-b4d6-f18fa18ffd59"
   },
   "outputs": [
    {
     "data": {
      "text/plain": [
       "True"
      ]
     },
     "execution_count": 278,
     "metadata": {},
     "output_type": "execute_result"
    }
   ],
   "source": [
    "p_valor <= alpha"
   ]
  },
  {
   "cell_type": "code",
   "execution_count": 279,
   "id": "tOjA-FVGkOCA",
   "metadata": {
    "colab": {
     "base_uri": "https://localhost:8080/"
    },
    "id": "tOjA-FVGkOCA",
    "outputId": "f490f9ca-b59e-4c43-b2aa-004b2c6149f0"
   },
   "outputs": [
    {
     "data": {
      "text/plain": [
       "True"
      ]
     },
     "execution_count": 279,
     "metadata": {},
     "output_type": "execute_result"
    }
   ],
   "source": [
    "from scipy.stats import kstest\n",
    "ks_statistic, p_value = kstest(federais.notas_gerais.dropna(), 'norm')\n",
    "p_valor <= alpha"
   ]
  },
  {
   "cell_type": "code",
   "execution_count": 280,
   "id": "fjaehl7GkcfO",
   "metadata": {
    "colab": {
     "base_uri": "https://localhost:8080/"
    },
    "id": "fjaehl7GkcfO",
    "outputId": "e883e8ed-4698-451d-d6ee-75f6bd265686"
   },
   "outputs": [
    {
     "data": {
      "text/plain": [
       "True"
      ]
     },
     "execution_count": 280,
     "metadata": {},
     "output_type": "execute_result"
    }
   ],
   "source": [
    "from statsmodels.stats.diagnostic import lilliefors\n",
    "lf_statistic, p_value = lilliefors(federais.notas_gerais.dropna())\n",
    "p_valor <= alpha"
   ]
  },
  {
   "cell_type": "markdown",
   "id": "A2nECg3oZQOV",
   "metadata": {
    "id": "A2nECg3oZQOV"
   },
   "source": [
    "#### Teste federais A e B"
   ]
  },
  {
   "cell_type": "code",
   "execution_count": 281,
   "id": "TEib9L0qZYdd",
   "metadata": {
    "colab": {
     "base_uri": "https://localhost:8080/"
    },
    "id": "TEib9L0qZYdd",
    "outputId": "ccecfe44-7308-4038-cac4-86fcd2b7865e"
   },
   "outputs": [
    {
     "data": {
      "text/plain": [
       "A    2961\n",
       "B     871\n",
       "Name: Qe I21, dtype: int64"
      ]
     },
     "execution_count": 281,
     "metadata": {},
     "output_type": "execute_result"
    }
   ],
   "source": [
    "federais['Qe I21'].value_counts()"
   ]
  },
  {
   "cell_type": "code",
   "execution_count": 282,
   "id": "GVZbn7ecffGG",
   "metadata": {
    "colab": {
     "base_uri": "https://localhost:8080/",
     "height": 357
    },
    "id": "GVZbn7ecffGG",
    "outputId": "37049c3c-03d0-42a4-eec6-6d9a03d732a9"
   },
   "outputs": [
    {
     "data": {
      "image/png": "[encoded data removed]",
      "text/plain": [
       "<Figure size 864x432 with 1 Axes>"
      ]
     },
     "metadata": {},
     "output_type": "display_data"
    }
   ],
   "source": [
    "ax = plt.subplots(figsize=(12, 6))\n",
    "\n",
    "ax = plt.pie(federais['Qe I21'].value_counts(normalize=True), autopct = \"%0.2f%%\")\n",
    "\n",
    "plt.show()"
   ]
  },
  {
   "cell_type": "code",
   "execution_count": 283,
   "id": "_5HHKZvVY0_a",
   "metadata": {
    "id": "_5HHKZvVY0_a"
   },
   "outputs": [],
   "source": [
    "df_a_federais = federais[federais['Qe I21'] == \"A\"]\n",
    "df_b_federais = federais[federais['Qe I21'] == \"B\"]"
   ]
  },
  {
   "cell_type": "code",
   "execution_count": 284,
   "id": "3lX5T_9qYwzK",
   "metadata": {
    "colab": {
     "base_uri": "https://localhost:8080/"
    },
    "id": "3lX5T_9qYwzK",
    "outputId": "0ba01127-fc21-4256-ab09-788e18558f5c"
   },
   "outputs": [
    {
     "name": "stdout",
     "output_type": "stream",
     "text": [
      "1 - A média das notas dos Alunos de Federais Qe I21 A foi de 40.59577159378388\n",
      "2 - O devio padrão das notas dos Alunos de Federais Qe I21 A foi de 13.313550044848716\n"
     ]
    }
   ],
   "source": [
    "print(f'1 - A média das notas dos Alunos de Federais Qe I21 A foi de {df_a_federais.notas_gerais.mean()}')\n",
    "print(f'2 - O devio padrão das notas dos Alunos de Federais Qe I21 A foi de {df_a_federais.notas_gerais.std()}')"
   ]
  },
  {
   "cell_type": "code",
   "execution_count": 285,
   "id": "KZVNgFndZqpm",
   "metadata": {
    "colab": {
     "base_uri": "https://localhost:8080/"
    },
    "id": "KZVNgFndZqpm",
    "outputId": "2fa578f3-2ac5-4824-87bc-4a437114e285"
   },
   "outputs": [
    {
     "name": "stdout",
     "output_type": "stream",
     "text": [
      "1 - A média das notas dos Alunos de Federais Qe I21 B foi de 37.13845223700122\n",
      "2 - O devio padrão das notas dos Alunos de Federais Qe I21 B foi de 12.380032408848717\n"
     ]
    }
   ],
   "source": [
    "print(f'1 - A média das notas dos Alunos de Federais Qe I21 B foi de {df_b_federais.notas_gerais.mean()}')\n",
    "print(f'2 - O devio padrão das notas dos Alunos de Federais Qe I21 B foi de {df_b_federais.notas_gerais.std()}')"
   ]
  },
  {
   "cell_type": "code",
   "execution_count": 286,
   "id": "5g-gcwQ-Z2eC",
   "metadata": {
    "colab": {
     "base_uri": "https://localhost:8080/",
     "height": 505
    },
    "id": "5g-gcwQ-Z2eC",
    "outputId": "af74686b-fb41-4790-fe6b-4b3a967c738d"
   },
   "outputs": [
    {
     "data": {
      "image/png": "[encoded data removed]",
      "text/plain": [
       "<Figure size 1152x576 with 2 Axes>"
      ]
     },
     "metadata": {},
     "output_type": "display_data"
    }
   ],
   "source": [
    "plt.subplots(figsize=(16, 8))\n",
    "\n",
    "ax = plt.subplot(2, 1, 1)\n",
    "sns.histplot(df_a_federais.notas_gerais, kde=True)\n",
    "\n",
    "ax.set_title('A', loc='Left', fontsize=18)\n",
    "ax.set_xlabel('', fontsize=14)\n",
    "ax.set_ylabel('', fontsize=14)\n",
    "plt.axvline(x=df_a_federais.notas_gerais.mean(),color='blue',ls='-',lw=2.5)\n",
    "\n",
    "\n",
    "ax1 = plt.subplot(2, 1, 2)\n",
    "sns.histplot(df_b_federais.notas_gerais, kde=True)\n",
    "\n",
    "ax1.set_title('B', loc='Left', fontsize=18)\n",
    "ax1.set_xlabel('', fontsize=14)\n",
    "ax1.set_ylabel('', fontsize=14)\n",
    "plt.axvline(x=df_b_federais.notas_gerais.mean(),color='blue',ls='-',lw=2.5)\n",
    "\n",
    "plt.show()"
   ]
  },
  {
   "cell_type": "markdown",
   "id": "HkP0pnrCROse",
   "metadata": {
    "id": "HkP0pnrCROse"
   },
   "source": [
    "### Teste Não Paramétrico Geral \n",
    "\n",
    "# $$\\chi^2 = \\sum_{i=1}^{k}{\\frac{(F_{i}^{Obs} - F_{i}^{Esp})^2}{F_{i}^{Esp}}}$$\n",
    "\n",
    "H<sub>0</sub> (B = A)\n",
    "\n",
    "H<sub>1</sub> (B != A)"
   ]
  },
  {
   "cell_type": "code",
   "execution_count": 287,
   "id": "KdiIxR5sROse",
   "metadata": {
    "colab": {
     "base_uri": "https://localhost:8080/"
    },
    "id": "KdiIxR5sROse",
    "outputId": "9cb36725-c070-4379-9f1a-59700e53663b"
   },
   "outputs": [
    {
     "data": {
      "text/plain": [
       "521"
      ]
     },
     "execution_count": 287,
     "metadata": {},
     "output_type": "execute_result"
    }
   ],
   "source": [
    "df_a_teste = df_a_federais[df_a_federais['notas_gerais'] != 0].dropna()\n",
    "len(df_a_teste)"
   ]
  },
  {
   "cell_type": "code",
   "execution_count": 288,
   "id": "uF4XNksBROsf",
   "metadata": {
    "id": "uF4XNksBROsf"
   },
   "outputs": [],
   "source": [
    "df_b_teste = df_b_federais[df_b_federais['notas_gerais'] != 0].dropna()\n",
    "k = len(df_b_teste)"
   ]
  },
  {
   "cell_type": "code",
   "execution_count": 289,
   "id": "8Yst9nhdROsf",
   "metadata": {
    "id": "8Yst9nhdROsf"
   },
   "outputs": [],
   "source": [
    "F_Observada = df_b_teste.notas_gerais.sample(k, replace=True).to_frame()\n",
    "F_Esperada = df_a_teste.notas_gerais.sample(k, replace=True).to_frame()\n",
    "\n",
    "F_Observada = list(F_Observada.notas_gerais)\n",
    "F_Esperada = list(F_Esperada.notas_gerais)\n",
    "\n",
    "significancia = 0.05\n",
    "confianca = 1 - significancia\n",
    "graus_de_liberdade = k - 1"
   ]
  },
  {
   "cell_type": "code",
   "execution_count": 290,
   "id": "uhALQ0VNROsf",
   "metadata": {
    "colab": {
     "base_uri": "https://localhost:8080/"
    },
    "id": "uhALQ0VNROsf",
    "outputId": "d958d63b-0637-417e-cda3-44d9e83980cb"
   },
   "outputs": [
    {
     "data": {
      "text/plain": [
       "142.13816003902647"
      ]
     },
     "execution_count": 290,
     "metadata": {},
     "output_type": "execute_result"
    }
   ],
   "source": [
    "chi_2_alpha = chi.ppf(confianca, graus_de_liberdade) ** 2\n",
    "chi_2_alpha"
   ]
  },
  {
   "cell_type": "code",
   "execution_count": 291,
   "id": "jj1_qhYgROsf",
   "metadata": {
    "colab": {
     "base_uri": "https://localhost:8080/"
    },
    "id": "jj1_qhYgROsf",
    "outputId": "4120abaa-4990-48ab-d011-804667f7c837"
   },
   "outputs": [
    {
     "data": {
      "text/plain": [
       "956.203506085631"
      ]
     },
     "execution_count": 291,
     "metadata": {},
     "output_type": "execute_result"
    }
   ],
   "source": [
    "chi_2 = 0\n",
    "for i in range(k):\n",
    "  chi_2 += (F_Observada[i] - F_Esperada[i]) ** 2 /  F_Esperada[i]\n",
    "  \n",
    "chi_2"
   ]
  },
  {
   "cell_type": "code",
   "execution_count": 292,
   "id": "BMYb2prPROsf",
   "metadata": {
    "colab": {
     "base_uri": "https://localhost:8080/"
    },
    "id": "BMYb2prPROsf",
    "outputId": "515dab45-67e6-444c-e17f-0879736f6d75"
   },
   "outputs": [
    {
     "data": {
      "text/plain": [
       "True"
      ]
     },
     "execution_count": 292,
     "metadata": {},
     "output_type": "execute_result"
    }
   ],
   "source": [
    "chi_2 >= chi_2_alpha"
   ]
  },
  {
   "cell_type": "markdown",
   "id": "UXw55xD_ROsf",
   "metadata": {
    "id": "UXw55xD_ROsf"
   },
   "source": [
    "### $H_0$ *As distribuições são iguais*\n",
    "### $H_1$ *As distribuições não são iguais*\n",
    "\n",
    "### Rejeitar $H_0$ se $\\chi^2 > \\chi_{\\alpha}^2$"
   ]
  },
  {
   "cell_type": "markdown",
   "id": "YDW5VowhaSeG",
   "metadata": {
    "id": "YDW5VowhaSeG"
   },
   "source": [
    "#### Teste federais A"
   ]
  },
  {
   "cell_type": "code",
   "execution_count": 293,
   "id": "EVTrWd2DucLO",
   "metadata": {
    "colab": {
     "base_uri": "https://localhost:8080/",
     "height": 411
    },
    "id": "EVTrWd2DucLO",
    "outputId": "1da4f07c-b249-4f6c-a4c8-27c9ea3f8efa"
   },
   "outputs": [
    {
     "data": {
      "text/plain": [
       "<AxesSubplot:xlabel='notas_gerais'>"
      ]
     },
     "execution_count": 293,
     "metadata": {},
     "output_type": "execute_result"
    },
    {
     "data": {
      "image/png": "[encoded data removed]",
      "text/plain": [
       "<Figure size 864x432 with 1 Axes>"
      ]
     },
     "metadata": {},
     "output_type": "display_data"
    }
   ],
   "source": [
    "import seaborn as sns\n",
    "\n",
    "f, ax = plt.subplots(figsize=(12, 6))\n",
    "\n",
    "sns.boxplot(x=\"notas_gerais\", data=df_a_federais)"
   ]
  },
  {
   "cell_type": "code",
   "execution_count": 294,
   "id": "gL4J34RgaQmO",
   "metadata": {
    "colab": {
     "base_uri": "https://localhost:8080/",
     "height": 302
    },
    "id": "gL4J34RgaQmO",
    "outputId": "83d67dcb-ef71-48fb-95c9-f1057474ccb2"
   },
   "outputs": [
    {
     "name": "stdout",
     "output_type": "stream",
     "text": [
      "A\n"
     ]
    },
    {
     "data": {
      "image/png": "[encoded data removed]",
      "text/plain": [
       "<Figure size 432x288 with 1 Axes>"
      ]
     },
     "metadata": {},
     "output_type": "display_data"
    }
   ],
   "source": [
    "ax = sm.qqplot(df_a_federais.notas_gerais, line='s')\n",
    "\n",
    "print('A')\n",
    "\n",
    "pylab.show()"
   ]
  },
  {
   "cell_type": "code",
   "execution_count": 295,
   "id": "SlfuzMctac0u",
   "metadata": {
    "colab": {
     "base_uri": "https://localhost:8080/"
    },
    "id": "SlfuzMctac0u",
    "outputId": "3691fad4-4ecc-40c5-d742-07ea85341034"
   },
   "outputs": [
    {
     "data": {
      "text/plain": [
       "True"
      ]
     },
     "execution_count": 295,
     "metadata": {},
     "output_type": "execute_result"
    }
   ],
   "source": [
    "stat_test, p_valor = normaltest(df_a_federais.notas_gerais.dropna())\n",
    "p_valor <= alpha"
   ]
  },
  {
   "cell_type": "code",
   "execution_count": 296,
   "id": "Hq8JBXUdakB_",
   "metadata": {
    "colab": {
     "base_uri": "https://localhost:8080/"
    },
    "id": "Hq8JBXUdakB_",
    "outputId": "b6bcddf8-6eae-40f2-ef2b-9d1ed6debe7c"
   },
   "outputs": [
    {
     "data": {
      "text/plain": [
       "True"
      ]
     },
     "execution_count": 296,
     "metadata": {},
     "output_type": "execute_result"
    }
   ],
   "source": [
    "stat_test, p_valor = shapiro(df_a_federais.notas_gerais.dropna())\n",
    "p_valor <= alpha"
   ]
  },
  {
   "cell_type": "code",
   "execution_count": 297,
   "id": "0nIzt9S5lJId",
   "metadata": {
    "colab": {
     "base_uri": "https://localhost:8080/"
    },
    "id": "0nIzt9S5lJId",
    "outputId": "f4ec283f-c433-4e7e-b029-f955b2609f33"
   },
   "outputs": [
    {
     "data": {
      "text/plain": [
       "True"
      ]
     },
     "execution_count": 297,
     "metadata": {},
     "output_type": "execute_result"
    }
   ],
   "source": [
    "from statsmodels.stats.diagnostic import lilliefors\n",
    "lf_statistic, p_value = lilliefors(df_a_federais.notas_gerais.dropna())\n",
    "p_valor <= alpha"
   ]
  },
  {
   "cell_type": "code",
   "execution_count": 298,
   "id": "mbNdTehulOI6",
   "metadata": {
    "colab": {
     "base_uri": "https://localhost:8080/"
    },
    "id": "mbNdTehulOI6",
    "outputId": "6c144ed9-df51-4b0d-c464-7221dfa3ba36"
   },
   "outputs": [
    {
     "data": {
      "text/plain": [
       "True"
      ]
     },
     "execution_count": 298,
     "metadata": {},
     "output_type": "execute_result"
    }
   ],
   "source": [
    "from scipy.stats import kstest\n",
    "ks_statistic, p_value = kstest(df_a_federais.notas_gerais.dropna(), 'norm')\n",
    "p_valor <= alpha"
   ]
  },
  {
   "cell_type": "markdown",
   "id": "BNsxFe0pasNc",
   "metadata": {
    "id": "BNsxFe0pasNc"
   },
   "source": [
    "#### Teste federais B"
   ]
  },
  {
   "cell_type": "code",
   "execution_count": 299,
   "id": "lrz7a3rUufxO",
   "metadata": {
    "colab": {
     "base_uri": "https://localhost:8080/",
     "height": 411
    },
    "id": "lrz7a3rUufxO",
    "outputId": "0c30471f-97a0-4fb8-8b78-c1e2580cecf7"
   },
   "outputs": [
    {
     "data": {
      "text/plain": [
       "<AxesSubplot:xlabel='notas_gerais'>"
      ]
     },
     "execution_count": 299,
     "metadata": {},
     "output_type": "execute_result"
    },
    {
     "data": {
      "image/png": "[encoded data removed]",
      "text/plain": [
       "<Figure size 864x432 with 1 Axes>"
      ]
     },
     "metadata": {},
     "output_type": "display_data"
    }
   ],
   "source": [
    "import seaborn as sns\n",
    "\n",
    "f, ax = plt.subplots(figsize=(12, 6))\n",
    "\n",
    "sns.boxplot(x=\"notas_gerais\", data=df_b_federais)"
   ]
  },
  {
   "cell_type": "code",
   "execution_count": 300,
   "id": "_XzY10GraZSO",
   "metadata": {
    "colab": {
     "base_uri": "https://localhost:8080/",
     "height": 302
    },
    "id": "_XzY10GraZSO",
    "outputId": "a3418c92-addc-4c08-8e41-9806c9171a7d"
   },
   "outputs": [
    {
     "name": "stdout",
     "output_type": "stream",
     "text": [
      "B\n"
     ]
    },
    {
     "data": {
      "image/png": "[encoded data removed]",
      "text/plain": [
       "<Figure size 432x288 with 1 Axes>"
      ]
     },
     "metadata": {},
     "output_type": "display_data"
    }
   ],
   "source": [
    "ax = sm.qqplot(df_b_federais.notas_gerais, line='s')\n",
    "\n",
    "print('B')\n",
    "\n",
    "pylab.show()"
   ]
  },
  {
   "cell_type": "code",
   "execution_count": 301,
   "id": "GQDzDoATawr7",
   "metadata": {
    "colab": {
     "base_uri": "https://localhost:8080/"
    },
    "id": "GQDzDoATawr7",
    "outputId": "e525e7a3-9980-4ccc-8088-298ec4fc4d04"
   },
   "outputs": [
    {
     "data": {
      "text/plain": [
       "True"
      ]
     },
     "execution_count": 301,
     "metadata": {},
     "output_type": "execute_result"
    }
   ],
   "source": [
    "stat_test, p_valor = normaltest(df_b_federais.notas_gerais.dropna())\n",
    "p_valor <= alpha"
   ]
  },
  {
   "cell_type": "code",
   "execution_count": 302,
   "id": "13JzEW-UazAr",
   "metadata": {
    "colab": {
     "base_uri": "https://localhost:8080/"
    },
    "id": "13JzEW-UazAr",
    "outputId": "3baf3f16-f7cc-4970-e399-5ef5c98bebf6"
   },
   "outputs": [
    {
     "data": {
      "text/plain": [
       "True"
      ]
     },
     "execution_count": 302,
     "metadata": {},
     "output_type": "execute_result"
    }
   ],
   "source": [
    "stat_test, p_valor = shapiro(df_a_federais.notas_gerais.dropna())\n",
    "p_valor <= alpha"
   ]
  },
  {
   "cell_type": "code",
   "execution_count": 303,
   "id": "UrN-YW1ElVLc",
   "metadata": {
    "colab": {
     "base_uri": "https://localhost:8080/"
    },
    "id": "UrN-YW1ElVLc",
    "outputId": "2006d0f7-ffee-4fca-a10c-abed7ee5a7ba"
   },
   "outputs": [
    {
     "data": {
      "text/plain": [
       "True"
      ]
     },
     "execution_count": 303,
     "metadata": {},
     "output_type": "execute_result"
    }
   ],
   "source": [
    "from statsmodels.stats.diagnostic import lilliefors\n",
    "lf_statistic, p_value = lilliefors(df_b_federais.notas_gerais.dropna())\n",
    "p_valor <= alpha"
   ]
  },
  {
   "cell_type": "code",
   "execution_count": 304,
   "id": "xvTxFb81lWgq",
   "metadata": {
    "colab": {
     "base_uri": "https://localhost:8080/"
    },
    "id": "xvTxFb81lWgq",
    "outputId": "0ec42f15-07bf-409d-917b-fbc54bd7a576"
   },
   "outputs": [
    {
     "data": {
      "text/plain": [
       "True"
      ]
     },
     "execution_count": 304,
     "metadata": {},
     "output_type": "execute_result"
    }
   ],
   "source": [
    "from scipy.stats import kstest\n",
    "ks_statistic, p_value = kstest(df_b_federais.notas_gerais.dropna(), 'norm')\n",
    "p_valor <= alpha"
   ]
  },
  {
   "cell_type": "markdown",
   "id": "uMlXvNrjnemw",
   "metadata": {
    "id": "uMlXvNrjnemw"
   },
   "source": [
    "Em 5 testes P foi menor que o nível de significância H0 deve ser rejeitado"
   ]
  },
  {
   "cell_type": "markdown",
   "id": "xQbjMxv7bPAj",
   "metadata": {
    "id": "xQbjMxv7bPAj"
   },
   "source": [
    "### Testes de Normalidade Alunos da UFPR"
   ]
  },
  {
   "cell_type": "code",
   "execution_count": 305,
   "id": "XV8TDC9fbOEN",
   "metadata": {
    "colab": {
     "base_uri": "https://localhost:8080/"
    },
    "id": "XV8TDC9fbOEN",
    "outputId": "b7ef3a37-e4c2-41ef-d855-ca81920b62a8"
   },
   "outputs": [
    {
     "data": {
      "text/plain": [
       "(169, 137)"
      ]
     },
     "execution_count": 305,
     "metadata": {},
     "output_type": "execute_result"
    }
   ],
   "source": [
    "ufpr1 = df[(df['Co Uf Curso'] == 41) & (df['Co Categad'] == 93)]\n",
    "ufpr2 = df[(df['Co Uf Curso'] == 41) & (df['Co Categad'] == 10002)]\n",
    "\n",
    "ufpr = pd.concat([ufpr1,ufpr2], ignore_index=True)\n",
    "\n",
    "ufpr.shape"
   ]
  },
  {
   "cell_type": "code",
   "execution_count": 306,
   "id": "5kHNO42oba56",
   "metadata": {
    "colab": {
     "base_uri": "https://localhost:8080/"
    },
    "id": "5kHNO42oba56",
    "outputId": "a17ae0ce-667f-41c0-d82e-5e9b36316ef0"
   },
   "outputs": [
    {
     "name": "stdout",
     "output_type": "stream",
     "text": [
      "1 - A média das notas foi de 35.3763888888889\n",
      "2 - O devio padrão das notas foi de 13.298288370387134\n"
     ]
    }
   ],
   "source": [
    "print(f'1 - A média das notas foi de {ufpr.notas_gerais.mean()}')\n",
    "print(f'2 - O devio padrão das notas foi de {ufpr.notas_gerais.std()}')"
   ]
  },
  {
   "cell_type": "code",
   "execution_count": 307,
   "id": "xPaxJNggbn_M",
   "metadata": {
    "colab": {
     "base_uri": "https://localhost:8080/",
     "height": 505
    },
    "id": "xPaxJNggbn_M",
    "outputId": "e094942f-4991-4c4d-ec06-107d3fba70a8"
   },
   "outputs": [
    {
     "data": {
      "image/png": "[encoded data removed]",
      "text/plain": [
       "<Figure size 1152x576 with 1 Axes>"
      ]
     },
     "metadata": {},
     "output_type": "display_data"
    }
   ],
   "source": [
    "sns.set_theme(style='white')\n",
    "\n",
    "ax = plt.subplots(figsize=(16, 8))\n",
    "ax = sns.histplot(ufpr.notas_gerais, kde=True)\n",
    "\n",
    "# Parte visual\n",
    "\n",
    "ax.set_title('UFPR', loc='Left', fontsize=18)\n",
    "ax.set_xlabel('', fontsize=14)\n",
    "ax.set_ylabel('', fontsize=14)\n",
    "plt.axvline(x=ufpr.notas_gerais.mean(),color='blue',ls='-',lw=2.5)\n",
    "\n",
    "plt.show()"
   ]
  },
  {
   "cell_type": "code",
   "execution_count": 308,
   "id": "RY6oc3qIunjO",
   "metadata": {
    "colab": {
     "base_uri": "https://localhost:8080/",
     "height": 411
    },
    "id": "RY6oc3qIunjO",
    "outputId": "9252bfaf-2a1f-4c04-c8e5-a500bbc9b40c"
   },
   "outputs": [
    {
     "data": {
      "text/plain": [
       "<AxesSubplot:xlabel='notas_gerais'>"
      ]
     },
     "execution_count": 308,
     "metadata": {},
     "output_type": "execute_result"
    },
    {
     "data": {
      "image/png": "[encoded data removed]",
      "text/plain": [
       "<Figure size 864x432 with 1 Axes>"
      ]
     },
     "metadata": {},
     "output_type": "display_data"
    }
   ],
   "source": [
    "import seaborn as sns\n",
    "\n",
    "f, ax = plt.subplots(figsize=(12, 6))\n",
    "\n",
    "sns.boxplot(x=\"notas_gerais\", data=ufpr)"
   ]
  },
  {
   "cell_type": "code",
   "execution_count": 309,
   "id": "e-gdAPOOb4PL",
   "metadata": {
    "colab": {
     "base_uri": "https://localhost:8080/",
     "height": 285
    },
    "id": "e-gdAPOOb4PL",
    "outputId": "677c1037-e455-4dd0-d215-3326cd1c25ad"
   },
   "outputs": [
    {
     "data": {
      "image/png": "[encoded data removed]",
      "text/plain": [
       "<Figure size 432x288 with 1 Axes>"
      ]
     },
     "metadata": {},
     "output_type": "display_data"
    }
   ],
   "source": [
    "ax = sm.qqplot(ufpr.notas_gerais, line='s')\n",
    "pylab.show()"
   ]
  },
  {
   "cell_type": "code",
   "execution_count": 310,
   "id": "7o_4m6I-b7ML",
   "metadata": {
    "colab": {
     "base_uri": "https://localhost:8080/"
    },
    "id": "7o_4m6I-b7ML",
    "outputId": "2b0e47c0-6019-4b24-d58a-d0f65ae7d816"
   },
   "outputs": [
    {
     "data": {
      "text/plain": [
       "False"
      ]
     },
     "execution_count": 310,
     "metadata": {},
     "output_type": "execute_result"
    }
   ],
   "source": [
    "stat_test, p_valor = normaltest(ufpr.notas_gerais.dropna())\n",
    "p_valor <= alpha"
   ]
  },
  {
   "cell_type": "code",
   "execution_count": 311,
   "id": "ujSZ4vOgcG_L",
   "metadata": {
    "colab": {
     "base_uri": "https://localhost:8080/"
    },
    "id": "ujSZ4vOgcG_L",
    "outputId": "7f0bb684-7923-4072-d1b5-0dde12e45af7"
   },
   "outputs": [
    {
     "data": {
      "text/plain": [
       "False"
      ]
     },
     "execution_count": 311,
     "metadata": {},
     "output_type": "execute_result"
    }
   ],
   "source": [
    "stat_test, p_valor = shapiro(ufpr.notas_gerais.dropna())\n",
    "p_valor <= alpha"
   ]
  },
  {
   "cell_type": "code",
   "execution_count": 312,
   "id": "g2v6tpkjmoJi",
   "metadata": {
    "colab": {
     "base_uri": "https://localhost:8080/"
    },
    "id": "g2v6tpkjmoJi",
    "outputId": "804fa70f-4261-46eb-f4e7-ac685eb7e539"
   },
   "outputs": [
    {
     "data": {
      "text/plain": [
       "False"
      ]
     },
     "execution_count": 312,
     "metadata": {},
     "output_type": "execute_result"
    }
   ],
   "source": [
    "from scipy.stats import kstest\n",
    "ks_statistic, p_value = kstest(ufpr.notas_gerais.dropna(), 'norm')\n",
    "p_valor <= alpha"
   ]
  },
  {
   "cell_type": "code",
   "execution_count": 313,
   "id": "sTnCV4czmoJj",
   "metadata": {
    "colab": {
     "base_uri": "https://localhost:8080/"
    },
    "id": "sTnCV4czmoJj",
    "outputId": "946edd76-6414-4124-d85b-dee8f7017b98"
   },
   "outputs": [
    {
     "data": {
      "text/plain": [
       "False"
      ]
     },
     "execution_count": 313,
     "metadata": {},
     "output_type": "execute_result"
    }
   ],
   "source": [
    "from statsmodels.stats.diagnostic import lilliefors\n",
    "lf_statistic, p_value = lilliefors(ufpr.notas_gerais.dropna())\n",
    "p_valor <= alpha"
   ]
  },
  {
   "cell_type": "markdown",
   "id": "DsQh2BDJcR9Z",
   "metadata": {
    "id": "DsQh2BDJcR9Z"
   },
   "source": [
    "#### Teste UFPR A B"
   ]
  },
  {
   "cell_type": "code",
   "execution_count": 314,
   "id": "z24gzdgTfmQV",
   "metadata": {
    "colab": {
     "base_uri": "https://localhost:8080/"
    },
    "id": "z24gzdgTfmQV",
    "outputId": "a37152ac-4911-48bf-99d1-eabac925ed2f"
   },
   "outputs": [
    {
     "data": {
      "text/plain": [
       "A    113\n",
       "B     46\n",
       "Name: Qe I21, dtype: int64"
      ]
     },
     "execution_count": 314,
     "metadata": {},
     "output_type": "execute_result"
    }
   ],
   "source": [
    "ufpr['Qe I21'].value_counts()"
   ]
  },
  {
   "cell_type": "code",
   "execution_count": 315,
   "id": "ygQ6yVdQfsX0",
   "metadata": {
    "colab": {
     "base_uri": "https://localhost:8080/",
     "height": 357
    },
    "id": "ygQ6yVdQfsX0",
    "outputId": "73359dda-eeb1-40b2-eeaa-9f3d1065e9d2"
   },
   "outputs": [
    {
     "data": {
      "image/png": "[encoded data removed]",
      "text/plain": [
       "<Figure size 864x432 with 1 Axes>"
      ]
     },
     "metadata": {},
     "output_type": "display_data"
    }
   ],
   "source": [
    "ax = plt.subplots(figsize=(12, 6))\n",
    "\n",
    "ax = plt.pie(ufpr['Qe I21'].value_counts(normalize=True), autopct = \"%0.2f%%\")\n",
    "\n",
    "plt.show()"
   ]
  },
  {
   "cell_type": "code",
   "execution_count": 316,
   "id": "9UUIlEeUcMfp",
   "metadata": {
    "id": "9UUIlEeUcMfp"
   },
   "outputs": [],
   "source": [
    "df_a_ufpr = ufpr[ufpr['Qe I21'] == \"A\"]\n",
    "df_b_ufpr = ufpr[ufpr['Qe I21'] == \"B\"]"
   ]
  },
  {
   "cell_type": "code",
   "execution_count": 317,
   "id": "lB-VLYOhdHPW",
   "metadata": {
    "colab": {
     "base_uri": "https://localhost:8080/"
    },
    "id": "lB-VLYOhdHPW",
    "outputId": "d1577182-1636-4ee7-a54d-2a57df43ac8f"
   },
   "outputs": [
    {
     "name": "stdout",
     "output_type": "stream",
     "text": [
      "1 - A média das notas dos Alunos de UFPR Qe I21 A foi de 37.12099999999999\n",
      "2 - O devio padrão das notas dos Alunos de UFPR Qe I21 A foi de 13.70787059180295\n"
     ]
    }
   ],
   "source": [
    "print(f'1 - A média das notas dos Alunos de UFPR Qe I21 A foi de {df_a_ufpr.notas_gerais.mean()}')\n",
    "print(f'2 - O devio padrão das notas dos Alunos de UFPR Qe I21 A foi de {df_a_ufpr.notas_gerais.std()}')"
   ]
  },
  {
   "cell_type": "code",
   "execution_count": 318,
   "id": "D3sVIyjEdMnR",
   "metadata": {
    "colab": {
     "base_uri": "https://localhost:8080/"
    },
    "id": "D3sVIyjEdMnR",
    "outputId": "ffcde3b0-5f4e-4702-9b09-b27f0af25db5"
   },
   "outputs": [
    {
     "name": "stdout",
     "output_type": "stream",
     "text": [
      "1 - A média das notas dos Alunos de UFPR Qe I21 B foi de 31.43953488372092\n",
      "2 - O devio padrão das notas dos Alunos de UFPR Qe I21 B foi de 11.637872075477661\n"
     ]
    }
   ],
   "source": [
    "print(f'1 - A média das notas dos Alunos de UFPR Qe I21 B foi de {df_b_ufpr.notas_gerais.mean()}')\n",
    "print(f'2 - O devio padrão das notas dos Alunos de UFPR Qe I21 B foi de {df_b_ufpr.notas_gerais.std()}')"
   ]
  },
  {
   "cell_type": "code",
   "execution_count": 319,
   "id": "b9hQgNo4dYSA",
   "metadata": {
    "colab": {
     "base_uri": "https://localhost:8080/",
     "height": 505
    },
    "id": "b9hQgNo4dYSA",
    "outputId": "8a3bffd3-d169-456a-b335-f1961bdd26c1"
   },
   "outputs": [
    {
     "data": {
      "image/png": "[encoded data removed]",
      "text/plain": [
       "<Figure size 1152x576 with 2 Axes>"
      ]
     },
     "metadata": {},
     "output_type": "display_data"
    }
   ],
   "source": [
    "plt.subplots(figsize=(16, 8))\n",
    "\n",
    "ax = plt.subplot(2, 1, 1)\n",
    "sns.histplot(df_a_ufpr.notas_gerais, kde=True)\n",
    "\n",
    "ax.set_title('A', loc='Left', fontsize=18)\n",
    "ax.set_xlabel('', fontsize=14)\n",
    "ax.set_ylabel('', fontsize=14)\n",
    "plt.axvline(x=df_a_ufpr.notas_gerais.mean(),color='blue',ls='-',lw=2.5)\n",
    "\n",
    "\n",
    "ax1 = plt.subplot(2, 1, 2)\n",
    "sns.histplot(df_b_ufpr.notas_gerais, kde=True)\n",
    "\n",
    "ax1.set_title('B', loc='Left', fontsize=18)\n",
    "ax1.set_xlabel('', fontsize=14)\n",
    "ax1.set_ylabel('', fontsize=14)\n",
    "plt.axvline(x=df_b_ufpr.notas_gerais.mean(),color='blue',ls='-',lw=2.5)\n",
    "\n",
    "plt.show()"
   ]
  },
  {
   "cell_type": "markdown",
   "id": "2GvAD12QSyRK",
   "metadata": {
    "id": "2GvAD12QSyRK"
   },
   "source": [
    "### Teste Paramétrico Z"
   ]
  },
  {
   "cell_type": "code",
   "execution_count": 320,
   "id": "EkboD9LwTbBG",
   "metadata": {
    "id": "EkboD9LwTbBG"
   },
   "outputs": [],
   "source": [
    "df_a_teste = df_a_ufpr[df_a_ufpr['notas_gerais'] != 0].dropna()\n",
    "df_b_teste = df_b_ufpr[df_b_ufpr['notas_gerais'] != 0].dropna()\n",
    "\n",
    "F_Observada = df_b_teste.notas_gerais.sample(k, replace=True).to_frame()\n",
    "F_Esperada = df_a_teste.notas_gerais.sample(k, replace=True).to_frame()"
   ]
  },
  {
   "cell_type": "code",
   "execution_count": 321,
   "id": "DbGLmDVASxoO",
   "metadata": {
    "id": "DbGLmDVASxoO"
   },
   "outputs": [],
   "source": [
    "significancia = 0.05\n",
    "confianca = 1 - significancia\n",
    "D_0 = 0"
   ]
  },
  {
   "cell_type": "code",
   "execution_count": 322,
   "id": "oKCvffGQS-jq",
   "metadata": {
    "colab": {
     "base_uri": "https://localhost:8080/"
    },
    "id": "oKCvffGQS-jq",
    "outputId": "b83bfca3-c5e9-4a4c-ac73-2247a5bccd09"
   },
   "outputs": [
    {
     "data": {
      "text/plain": [
       "0.95"
      ]
     },
     "execution_count": 322,
     "metadata": {},
     "output_type": "execute_result"
    }
   ],
   "source": [
    "probabilidade = confianca\n",
    "probabilidade"
   ]
  },
  {
   "cell_type": "code",
   "execution_count": 323,
   "id": "tjOn0gQHTC3L",
   "metadata": {
    "colab": {
     "base_uri": "https://localhost:8080/"
    },
    "id": "tjOn0gQHTC3L",
    "outputId": "b7640764-270e-4f3c-a920-a7159d61604f"
   },
   "outputs": [
    {
     "data": {
      "text/plain": [
       "1.6448536269514722"
      ]
     },
     "execution_count": 323,
     "metadata": {},
     "output_type": "execute_result"
    }
   ],
   "source": [
    "z_alpha = norm.ppf(probabilidade)\n",
    "z_alpha"
   ]
  },
  {
   "cell_type": "code",
   "execution_count": 324,
   "id": "ucLIVDoLTFxr",
   "metadata": {
    "colab": {
     "base_uri": "https://localhost:8080/"
    },
    "id": "ucLIVDoLTFxr",
    "outputId": "f429ef71-0b9d-4e0b-bfde-f60b74097f8e"
   },
   "outputs": [
    {
     "data": {
      "text/plain": [
       "0.9750682869154434"
      ]
     },
     "execution_count": 324,
     "metadata": {},
     "output_type": "execute_result"
    }
   ],
   "source": [
    "numerador = (int(F_Esperada.notas_gerais.mean()) - int(F_Observada.notas_gerais.mean())) - D_0\n",
    "\n",
    "denominador = np.sqrt(int(F_Esperada.notas_gerais.std()) ** 2 / len(F_Esperada)) + (int(F_Observada.notas_gerais.std()) ** 2 / len(F_Observada))\n",
    "\n",
    "z = numerador / denominador\n",
    "\n",
    "z"
   ]
  },
  {
   "cell_type": "code",
   "execution_count": 337,
   "id": "672b1b20",
   "metadata": {},
   "outputs": [
    {
     "data": {
      "text/plain": [
       "False"
      ]
     },
     "execution_count": 337,
     "metadata": {},
     "output_type": "execute_result"
    }
   ],
   "source": [
    "z <= -z_alpha / 2"
   ]
  },
  {
   "cell_type": "code",
   "execution_count": 338,
   "id": "953f6d43",
   "metadata": {},
   "outputs": [
    {
     "data": {
      "text/plain": [
       "True"
      ]
     },
     "execution_count": 338,
     "metadata": {},
     "output_type": "execute_result"
    }
   ],
   "source": [
    "z >= z_alpha / 2"
   ]
  },
  {
   "cell_type": "markdown",
   "id": "m31KJUXZdk82",
   "metadata": {
    "id": "m31KJUXZdk82"
   },
   "source": [
    "#### Teste UFPR A"
   ]
  },
  {
   "cell_type": "code",
   "execution_count": 325,
   "id": "ZFu-WOiiuskO",
   "metadata": {
    "colab": {
     "base_uri": "https://localhost:8080/",
     "height": 411
    },
    "id": "ZFu-WOiiuskO",
    "outputId": "cb37f502-214c-406c-a426-cd9eb0231ad3"
   },
   "outputs": [
    {
     "data": {
      "text/plain": [
       "<AxesSubplot:xlabel='notas_gerais'>"
      ]
     },
     "execution_count": 325,
     "metadata": {},
     "output_type": "execute_result"
    },
    {
     "data": {
      "image/png": "[encoded data removed]",
      "text/plain": [
       "<Figure size 864x432 with 1 Axes>"
      ]
     },
     "metadata": {},
     "output_type": "display_data"
    }
   ],
   "source": [
    "import seaborn as sns\n",
    "\n",
    "f, ax = plt.subplots(figsize=(12, 6))\n",
    "\n",
    "sns.boxplot(x=\"notas_gerais\", data=df_a_ufpr)"
   ]
  },
  {
   "cell_type": "code",
   "execution_count": 326,
   "id": "WH31WNRNdhMQ",
   "metadata": {
    "colab": {
     "base_uri": "https://localhost:8080/",
     "height": 302
    },
    "id": "WH31WNRNdhMQ",
    "outputId": "b03a3afb-4d83-4d6c-a54e-d7bef0382397"
   },
   "outputs": [
    {
     "name": "stdout",
     "output_type": "stream",
     "text": [
      "A\n"
     ]
    },
    {
     "data": {
      "image/png": "[encoded data removed]",
      "text/plain": [
       "<Figure size 432x288 with 1 Axes>"
      ]
     },
     "metadata": {},
     "output_type": "display_data"
    }
   ],
   "source": [
    "ax = sm.qqplot(df_a_ufpr.notas_gerais, line='s')\n",
    "\n",
    "print('A')\n",
    "\n",
    "pylab.show()"
   ]
  },
  {
   "cell_type": "code",
   "execution_count": 327,
   "id": "XhMvO2p7dv0O",
   "metadata": {
    "colab": {
     "base_uri": "https://localhost:8080/"
    },
    "id": "XhMvO2p7dv0O",
    "outputId": "0e706bb9-7e28-4f84-9e8c-0ca179799f2f"
   },
   "outputs": [
    {
     "data": {
      "text/plain": [
       "False"
      ]
     },
     "execution_count": 327,
     "metadata": {},
     "output_type": "execute_result"
    }
   ],
   "source": [
    "stat_test, p_valor = normaltest(df_a_ufpr.notas_gerais.dropna())\n",
    "p_valor <= alpha"
   ]
  },
  {
   "cell_type": "code",
   "execution_count": 328,
   "id": "6ZyinJR_dy3M",
   "metadata": {
    "colab": {
     "base_uri": "https://localhost:8080/"
    },
    "id": "6ZyinJR_dy3M",
    "outputId": "87882c05-e0bc-4bf8-d3e2-14635227f3d5"
   },
   "outputs": [
    {
     "data": {
      "text/plain": [
       "False"
      ]
     },
     "execution_count": 328,
     "metadata": {},
     "output_type": "execute_result"
    }
   ],
   "source": [
    "stat_test, p_valor = shapiro(df_a_ufpr.notas_gerais.dropna())\n",
    "p_valor <= alpha"
   ]
  },
  {
   "cell_type": "code",
   "execution_count": 329,
   "id": "hIFDY0lgm0b2",
   "metadata": {
    "colab": {
     "base_uri": "https://localhost:8080/"
    },
    "id": "hIFDY0lgm0b2",
    "outputId": "cf1dbf0c-e429-4f78-9db1-ccd3f3ca2b55"
   },
   "outputs": [
    {
     "data": {
      "text/plain": [
       "False"
      ]
     },
     "execution_count": 329,
     "metadata": {},
     "output_type": "execute_result"
    }
   ],
   "source": [
    "from scipy.stats import kstest\n",
    "ks_statistic, p_value = kstest(df_a_ufpr.notas_gerais.dropna(), 'norm')\n",
    "p_valor <= alpha"
   ]
  },
  {
   "cell_type": "code",
   "execution_count": 330,
   "id": "bLgg_6x2m0b2",
   "metadata": {
    "colab": {
     "base_uri": "https://localhost:8080/"
    },
    "id": "bLgg_6x2m0b2",
    "outputId": "bb956cb4-5c23-4723-c9ac-acca1c094a08"
   },
   "outputs": [
    {
     "data": {
      "text/plain": [
       "False"
      ]
     },
     "execution_count": 330,
     "metadata": {},
     "output_type": "execute_result"
    }
   ],
   "source": [
    "from statsmodels.stats.diagnostic import lilliefors\n",
    "lf_statistic, p_value = lilliefors(df_a_ufpr.notas_gerais.dropna())\n",
    "p_valor <= alpha"
   ]
  },
  {
   "cell_type": "markdown",
   "id": "XXOtVq-Pm4v7",
   "metadata": {
    "id": "XXOtVq-Pm4v7"
   },
   "source": [
    "#### Teste UFPR B"
   ]
  },
  {
   "cell_type": "code",
   "execution_count": 331,
   "id": "MTbtMM6Vu1Ze",
   "metadata": {
    "colab": {
     "base_uri": "https://localhost:8080/",
     "height": 411
    },
    "id": "MTbtMM6Vu1Ze",
    "outputId": "4c984a27-4270-4ab7-f5e5-b88376ccfa58"
   },
   "outputs": [
    {
     "data": {
      "text/plain": [
       "<AxesSubplot:xlabel='notas_gerais'>"
      ]
     },
     "execution_count": 331,
     "metadata": {},
     "output_type": "execute_result"
    },
    {
     "data": {
      "image/png": "[encoded data removed]",
      "text/plain": [
       "<Figure size 864x432 with 1 Axes>"
      ]
     },
     "metadata": {},
     "output_type": "display_data"
    }
   ],
   "source": [
    "import seaborn as sns\n",
    "\n",
    "f, ax = plt.subplots(figsize=(12, 6))\n",
    "\n",
    "sns.boxplot(x=\"notas_gerais\", data=df_b_ufpr)"
   ]
  },
  {
   "cell_type": "code",
   "execution_count": 332,
   "id": "xp6N04yNdqfr",
   "metadata": {
    "colab": {
     "base_uri": "https://localhost:8080/",
     "height": 302
    },
    "id": "xp6N04yNdqfr",
    "outputId": "1ec38649-6582-4a4c-e52e-a1787d3e00d7"
   },
   "outputs": [
    {
     "name": "stdout",
     "output_type": "stream",
     "text": [
      "B\n"
     ]
    },
    {
     "data": {
      "image/png": "[encoded data removed]",
      "text/plain": [
       "<Figure size 432x288 with 1 Axes>"
      ]
     },
     "metadata": {},
     "output_type": "display_data"
    }
   ],
   "source": [
    "ax = sm.qqplot(df_b_ufpr.notas_gerais, line='s')\n",
    "\n",
    "print('B')\n",
    "\n",
    "pylab.show()"
   ]
  },
  {
   "cell_type": "code",
   "execution_count": 333,
   "id": "cfM0fzLYdzht",
   "metadata": {
    "colab": {
     "base_uri": "https://localhost:8080/"
    },
    "id": "cfM0fzLYdzht",
    "outputId": "99775d81-1a2e-49d0-ad43-4276c32bcd5e"
   },
   "outputs": [
    {
     "data": {
      "text/plain": [
       "False"
      ]
     },
     "execution_count": 333,
     "metadata": {},
     "output_type": "execute_result"
    }
   ],
   "source": [
    "stat_test, p_valor = normaltest(df_b_ufpr.notas_gerais.dropna())\n",
    "p_valor <= alpha"
   ]
  },
  {
   "cell_type": "code",
   "execution_count": 334,
   "id": "6B249HCCd5Es",
   "metadata": {
    "colab": {
     "base_uri": "https://localhost:8080/"
    },
    "id": "6B249HCCd5Es",
    "outputId": "a3816c98-5c0a-46e4-b718-5600c58cb40b"
   },
   "outputs": [
    {
     "data": {
      "text/plain": [
       "False"
      ]
     },
     "execution_count": 334,
     "metadata": {},
     "output_type": "execute_result"
    }
   ],
   "source": [
    "stat_test, p_valor = shapiro(df_b_ufpr.notas_gerais.dropna())\n",
    "p_valor <= alpha"
   ]
  },
  {
   "cell_type": "code",
   "execution_count": 335,
   "id": "hEB2yFXym8sl",
   "metadata": {
    "colab": {
     "base_uri": "https://localhost:8080/"
    },
    "id": "hEB2yFXym8sl",
    "outputId": "6bd5b47b-1b5f-4d5e-9e27-f148b12a5503"
   },
   "outputs": [
    {
     "data": {
      "text/plain": [
       "False"
      ]
     },
     "execution_count": 335,
     "metadata": {},
     "output_type": "execute_result"
    }
   ],
   "source": [
    "from scipy.stats import kstest\n",
    "ks_statistic, p_value = kstest(df_b_ufpr.notas_gerais.dropna(), 'norm')\n",
    "p_valor <= alpha"
   ]
  },
  {
   "cell_type": "code",
   "execution_count": 336,
   "id": "H4KMTu95m8sm",
   "metadata": {
    "colab": {
     "base_uri": "https://localhost:8080/"
    },
    "id": "H4KMTu95m8sm",
    "outputId": "acd90f0b-0237-4108-b86c-7751f7bc6bed"
   },
   "outputs": [
    {
     "data": {
      "text/plain": [
       "False"
      ]
     },
     "execution_count": 336,
     "metadata": {},
     "output_type": "execute_result"
    }
   ],
   "source": [
    "from statsmodels.stats.diagnostic import lilliefors\n",
    "lf_statistic, p_value = lilliefors(df_b_ufpr.notas_gerais.dropna())\n",
    "p_valor <= alpha"
   ]
  },
  {
   "cell_type": "markdown",
   "id": "OlGaNFqAnQaB",
   "metadata": {
    "id": "OlGaNFqAnQaB"
   },
   "source": [
    "Em 5 testes P não foi menor que o nível de significância H0 não deve ser rejeitado"
   ]
  }
 ],
 "metadata": {
  "colab": {
   "provenance": []
  },
  "kernelspec": {
   "display_name": "Python 3 (ipykernel)",
   "language": "python",
   "name": "python3"
  },
  "language_info": {
   "codemirror_mode": {
    "name": "ipython",
    "version": 3
   },
   "file_extension": ".py",
   "mimetype": "text/x-python",
   "name": "python",
   "nbconvert_exporter": "python",
   "pygments_lexer": "ipython3",
   "version": "3.9.12"
  }
 },
 "nbformat": 4,
 "nbformat_minor": 5
}
