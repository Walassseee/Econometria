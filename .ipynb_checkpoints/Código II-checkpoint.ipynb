{
 "cells": [
  {
   "cell_type": "markdown",
   "id": "2d0d87a0",
   "metadata": {},
   "source": [
    "# Relatório - Tipos de distribuições teóricas e testes de hipóteses"
   ]
  },
  {
   "cell_type": "code",
   "execution_count": 1523,
   "id": "8b1b9d2e",
   "metadata": {},
   "outputs": [],
   "source": [
    "import pandas as pd\n",
    "import numpy as np\n",
    "%matplotlib inline\n",
    "import matplotlib.pyplot as plt\n",
    "import seaborn as sns"
   ]
  },
  {
   "cell_type": "markdown",
   "id": "afafa0a7",
   "metadata": {},
   "source": [
    "Lendo base de dados disponibilizada pelo ENADE.\n",
    "\n",
    "O Exame Nacional de Desempenho dos Estudantes (Enade) avalia o rendimento dos concluintes dos cursos de graduação em relação aos conteúdos programáticos previstos nas diretrizes curriculares dos cursos, o desenvolvimento de competências e habilidades necessárias ao aprofundamento da formação geral e profissional, e o nível de atualização dos estudantes com relação à realidade brasileira e mundial.\n",
    "\n",
    "A inscrição é obrigatória para estudantes ingressantes e concluintes habilitados de cursos de bacharelado e superiores de tecnologia vinculados às áreas de avaliação da edição. A situação de regularidade do estudante é registrada no histórico escolar."
   ]
  },
  {
   "cell_type": "code",
   "execution_count": 1524,
   "id": "8ddecb45",
   "metadata": {},
   "outputs": [],
   "source": [
    "df = pd.read_csv('microdados_enade_2018econ.csv', sep=';')"
   ]
  },
  {
   "cell_type": "code",
   "execution_count": 1525,
   "id": "52510ad0",
   "metadata": {
    "scrolled": true
   },
   "outputs": [
    {
     "data": {
      "text/html": [
       "<div>\n",
       "<style scoped>\n",
       "    .dataframe tbody tr th:only-of-type {\n",
       "        vertical-align: middle;\n",
       "    }\n",
       "\n",
       "    .dataframe tbody tr th {\n",
       "        vertical-align: top;\n",
       "    }\n",
       "\n",
       "    .dataframe thead th {\n",
       "        text-align: right;\n",
       "    }\n",
       "</style>\n",
       "<table border=\"1\" class=\"dataframe\">\n",
       "  <thead>\n",
       "    <tr style=\"text-align: right;\">\n",
       "      <th></th>\n",
       "      <th>Ano Fim Em</th>\n",
       "      <th>Ano In Grad</th>\n",
       "      <th>Co Categad</th>\n",
       "      <th>Co Grupo</th>\n",
       "      <th>Co Ies</th>\n",
       "      <th>Co Munic Curso</th>\n",
       "      <th>Co Rs I1</th>\n",
       "      <th>Co Rs I2</th>\n",
       "      <th>Co Rs I3</th>\n",
       "      <th>Co Rs I4</th>\n",
       "      <th>...</th>\n",
       "      <th>Tp Pr Di Fg</th>\n",
       "      <th>Tp Pr Ger</th>\n",
       "      <th>Tp Pr Ob Ce</th>\n",
       "      <th>Tp Pr Ob Fg</th>\n",
       "      <th>Tp Pres</th>\n",
       "      <th>Tp Sce D1</th>\n",
       "      <th>Tp Sce D2</th>\n",
       "      <th>Tp Sce D3</th>\n",
       "      <th>Tp Sfg D1</th>\n",
       "      <th>Tp Sfg D2</th>\n",
       "    </tr>\n",
       "  </thead>\n",
       "  <tbody>\n",
       "    <tr>\n",
       "      <th>0</th>\n",
       "      <td>2012</td>\n",
       "      <td>2013</td>\n",
       "      <td>10002</td>\n",
       "      <td>13</td>\n",
       "      <td>789</td>\n",
       "      <td>1400100</td>\n",
       "      <td>NaN</td>\n",
       "      <td>NaN</td>\n",
       "      <td>NaN</td>\n",
       "      <td>NaN</td>\n",
       "      <td>...</td>\n",
       "      <td>222</td>\n",
       "      <td>222</td>\n",
       "      <td>222</td>\n",
       "      <td>222</td>\n",
       "      <td>222</td>\n",
       "      <td>222</td>\n",
       "      <td>222</td>\n",
       "      <td>222</td>\n",
       "      <td>222</td>\n",
       "      <td>222</td>\n",
       "    </tr>\n",
       "    <tr>\n",
       "      <th>1</th>\n",
       "      <td>1987</td>\n",
       "      <td>1988</td>\n",
       "      <td>10002</td>\n",
       "      <td>13</td>\n",
       "      <td>583</td>\n",
       "      <td>2304400</td>\n",
       "      <td>NaN</td>\n",
       "      <td>NaN</td>\n",
       "      <td>NaN</td>\n",
       "      <td>NaN</td>\n",
       "      <td>...</td>\n",
       "      <td>222</td>\n",
       "      <td>222</td>\n",
       "      <td>222</td>\n",
       "      <td>222</td>\n",
       "      <td>222</td>\n",
       "      <td>222</td>\n",
       "      <td>222</td>\n",
       "      <td>222</td>\n",
       "      <td>222</td>\n",
       "      <td>222</td>\n",
       "    </tr>\n",
       "    <tr>\n",
       "      <th>2</th>\n",
       "      <td>2004</td>\n",
       "      <td>2005</td>\n",
       "      <td>10002</td>\n",
       "      <td>13</td>\n",
       "      <td>583</td>\n",
       "      <td>2304400</td>\n",
       "      <td>NaN</td>\n",
       "      <td>NaN</td>\n",
       "      <td>NaN</td>\n",
       "      <td>NaN</td>\n",
       "      <td>...</td>\n",
       "      <td>222</td>\n",
       "      <td>222</td>\n",
       "      <td>222</td>\n",
       "      <td>222</td>\n",
       "      <td>222</td>\n",
       "      <td>222</td>\n",
       "      <td>222</td>\n",
       "      <td>222</td>\n",
       "      <td>222</td>\n",
       "      <td>222</td>\n",
       "    </tr>\n",
       "    <tr>\n",
       "      <th>3</th>\n",
       "      <td>2007</td>\n",
       "      <td>2008</td>\n",
       "      <td>115</td>\n",
       "      <td>13</td>\n",
       "      <td>746</td>\n",
       "      <td>2304202</td>\n",
       "      <td>NaN</td>\n",
       "      <td>NaN</td>\n",
       "      <td>NaN</td>\n",
       "      <td>NaN</td>\n",
       "      <td>...</td>\n",
       "      <td>222</td>\n",
       "      <td>222</td>\n",
       "      <td>222</td>\n",
       "      <td>222</td>\n",
       "      <td>222</td>\n",
       "      <td>222</td>\n",
       "      <td>222</td>\n",
       "      <td>222</td>\n",
       "      <td>222</td>\n",
       "      <td>222</td>\n",
       "    </tr>\n",
       "    <tr>\n",
       "      <th>4</th>\n",
       "      <td>1998</td>\n",
       "      <td>2000</td>\n",
       "      <td>115</td>\n",
       "      <td>13</td>\n",
       "      <td>746</td>\n",
       "      <td>2304202</td>\n",
       "      <td>NaN</td>\n",
       "      <td>NaN</td>\n",
       "      <td>NaN</td>\n",
       "      <td>NaN</td>\n",
       "      <td>...</td>\n",
       "      <td>222</td>\n",
       "      <td>222</td>\n",
       "      <td>222</td>\n",
       "      <td>222</td>\n",
       "      <td>222</td>\n",
       "      <td>222</td>\n",
       "      <td>222</td>\n",
       "      <td>222</td>\n",
       "      <td>222</td>\n",
       "      <td>222</td>\n",
       "    </tr>\n",
       "  </tbody>\n",
       "</table>\n",
       "<p>5 rows × 137 columns</p>\n",
       "</div>"
      ],
      "text/plain": [
       "   Ano Fim Em  Ano In Grad  Co Categad  Co Grupo  Co Ies  Co Munic Curso  \\\n",
       "0        2012         2013       10002        13     789         1400100   \n",
       "1        1987         1988       10002        13     583         2304400   \n",
       "2        2004         2005       10002        13     583         2304400   \n",
       "3        2007         2008         115        13     746         2304202   \n",
       "4        1998         2000         115        13     746         2304202   \n",
       "\n",
       "  Co Rs I1 Co Rs I2 Co Rs I3 Co Rs I4  ... Tp Pr Di Fg Tp Pr Ger Tp Pr Ob Ce  \\\n",
       "0      NaN      NaN      NaN      NaN  ...         222       222         222   \n",
       "1      NaN      NaN      NaN      NaN  ...         222       222         222   \n",
       "2      NaN      NaN      NaN      NaN  ...         222       222         222   \n",
       "3      NaN      NaN      NaN      NaN  ...         222       222         222   \n",
       "4      NaN      NaN      NaN      NaN  ...         222       222         222   \n",
       "\n",
       "  Tp Pr Ob Fg Tp Pres Tp Sce D1 Tp Sce D2 Tp Sce D3 Tp Sfg D1 Tp Sfg D2  \n",
       "0         222     222       222       222       222       222       222  \n",
       "1         222     222       222       222       222       222       222  \n",
       "2         222     222       222       222       222       222       222  \n",
       "3         222     222       222       222       222       222       222  \n",
       "4         222     222       222       222       222       222       222  \n",
       "\n",
       "[5 rows x 137 columns]"
      ]
     },
     "execution_count": 1525,
     "metadata": {},
     "output_type": "execute_result"
    }
   ],
   "source": [
    "df.head()"
   ]
  },
  {
   "cell_type": "markdown",
   "id": "2daca7cb",
   "metadata": {},
   "source": [
    "Verificando tamanho da base de dados"
   ]
  },
  {
   "cell_type": "code",
   "execution_count": 1526,
   "id": "ad2bd312",
   "metadata": {},
   "outputs": [
    {
     "data": {
      "text/plain": [
       "9582"
      ]
     },
     "execution_count": 1526,
     "metadata": {},
     "output_type": "execute_result"
    }
   ],
   "source": [
    "df.shape\n",
    "linhas_1 = df.shape[0]\n",
    "linhas_1"
   ]
  },
  {
   "cell_type": "markdown",
   "id": "10e5d8aa",
   "metadata": {},
   "source": [
    "Removendo dados duplicados"
   ]
  },
  {
   "cell_type": "code",
   "execution_count": 1527,
   "id": "88ae04fd",
   "metadata": {},
   "outputs": [],
   "source": [
    "df.drop_duplicates(inplace=True)"
   ]
  },
  {
   "cell_type": "code",
   "execution_count": 1528,
   "id": "ca9ed015",
   "metadata": {},
   "outputs": [
    {
     "data": {
      "text/plain": [
       "9543"
      ]
     },
     "execution_count": 1528,
     "metadata": {},
     "output_type": "execute_result"
    }
   ],
   "source": [
    "df.shape\n",
    "linhas_2 = df.shape[0]\n",
    "linhas_2"
   ]
  },
  {
   "cell_type": "code",
   "execution_count": 1529,
   "id": "7b087afb",
   "metadata": {},
   "outputs": [
    {
     "name": "stdout",
     "output_type": "stream",
     "text": [
      "O número de valores considerados duplicados foi de 39 alunos\n"
     ]
    }
   ],
   "source": [
    "print(f'O número de valores considerados duplicados foi de {linhas_1 - linhas_2} alunos')"
   ]
  },
  {
   "cell_type": "markdown",
   "id": "0e9831a9",
   "metadata": {},
   "source": [
    "## Distribuições teóricas das notas gerais"
   ]
  },
  {
   "cell_type": "markdown",
   "id": "b5276cdd",
   "metadata": {},
   "source": [
    "Renomeando coluna e convertendo \",\" para \".\""
   ]
  },
  {
   "cell_type": "code",
   "execution_count": 1530,
   "id": "8b45d53d",
   "metadata": {},
   "outputs": [],
   "source": [
    "df.rename(columns={'Nt Ger': 'notas_gerais'}, inplace=True)"
   ]
  },
  {
   "cell_type": "code",
   "execution_count": 1531,
   "id": "661a5fa9",
   "metadata": {},
   "outputs": [],
   "source": [
    "df.notas_gerais = df.notas_gerais.replace(',','.', regex=True)\n",
    "df.notas_gerais = df.notas_gerais.astype(float)"
   ]
  },
  {
   "cell_type": "markdown",
   "id": "7c58af1d",
   "metadata": {},
   "source": [
    "## Teste de normalidade"
   ]
  },
  {
   "cell_type": "code",
   "execution_count": 1532,
   "id": "2a646c3f",
   "metadata": {
    "scrolled": false
   },
   "outputs": [
    {
     "name": "stdout",
     "output_type": "stream",
     "text": [
      "1 - A média das notas foi de 38.39742351046704\n",
      "2 - O devio padrão das notas foi de 13.137758259020998\n"
     ]
    }
   ],
   "source": [
    "print(f'1 - A média das notas foi de {df.notas_gerais.mean()}')\n",
    "print(f'2 - O devio padrão das notas foi de {df.notas_gerais.std()}')"
   ]
  },
  {
   "cell_type": "code",
   "execution_count": 1533,
   "id": "9b99a540",
   "metadata": {
    "scrolled": false
   },
   "outputs": [
    {
     "data": {
      "image/png": "[encoded data removed]",
      "text/plain": [
       "<Figure size 1152x576 with 1 Axes>"
      ]
     },
     "metadata": {},
     "output_type": "display_data"
    }
   ],
   "source": [
    "sns.set_theme(style='white')\n",
    "\n",
    "ax = plt.subplots(figsize=(16, 8))\n",
    "ax = sns.histplot(df.notas_gerais, kde=True)\n",
    "\n",
    "# Parte visual\n",
    "\n",
    "ax.set_title('', loc='Left', fontsize=18)\n",
    "ax.set_xlabel('', fontsize=14)\n",
    "ax.set_ylabel('', fontsize=14)\n",
    "plt.axvline(x=df.notas_gerais.mean(),color='blue',ls='-',lw=2.5)\n",
    "\n",
    "plt.show()"
   ]
  },
  {
   "cell_type": "markdown",
   "id": "2f8ff169",
   "metadata": {},
   "source": [
    "**Código**"
   ]
  },
  {
   "cell_type": "markdown",
   "id": "3f2ab6e4",
   "metadata": {},
   "source": [
    "Retirando valores nulos"
   ]
  },
  {
   "cell_type": "code",
   "execution_count": 1534,
   "id": "f47f8c54",
   "metadata": {},
   "outputs": [],
   "source": [
    "notas = df.notas_gerais.dropna().to_frame()"
   ]
  },
  {
   "cell_type": "markdown",
   "id": "3116e702",
   "metadata": {},
   "source": [
    "Código QQ Teste"
   ]
  },
  {
   "cell_type": "markdown",
   "id": "5b821e9f",
   "metadata": {},
   "source": [
    "Um gráfico QQ é um gráfico de dispersão com dois conjuntos de quantis um contra o outro; se ambos os conjuntos de quantis vierem da mesma distribuição, os pontos formarão uma linha quase reta. No gráfico QQ, apenas a variável “Altura” parece reta, ao passo que mostra alguns valores discrepantes. Como a variável “Rings” é uma variável de contagem, portanto, seu gráfico QQ tem uma aparência diferente de etapas. O gráfico QQ de outras variáveis ​​não é reto, portanto, mostrando o desvio da distribuição normal."
   ]
  },
  {
   "cell_type": "code",
   "execution_count": 1535,
   "id": "1aa4d60f",
   "metadata": {},
   "outputs": [],
   "source": [
    "import statsmodels.api as sm\n",
    "from scipy.stats import norm\n",
    "import pylab"
   ]
  },
  {
   "cell_type": "code",
   "execution_count": 1536,
   "id": "4fca0dfc",
   "metadata": {},
   "outputs": [
    {
     "data": {
      "image/png": "[encoded data removed]",
      "text/plain": [
       "<Figure size 432x288 with 1 Axes>"
      ]
     },
     "metadata": {},
     "output_type": "display_data"
    }
   ],
   "source": [
    "ax = sm.qqplot(notas.notas_gerais, line='s')\n",
    "pylab.show()"
   ]
  },
  {
   "cell_type": "markdown",
   "id": "8668e4be",
   "metadata": {},
   "source": [
    "Código Norm Teste"
   ]
  },
  {
   "cell_type": "markdown",
   "id": "fb6ff821",
   "metadata": {},
   "source": [
    "H0 = A amostra vem de uma distribuição normal.\n",
    "\n",
    "HA = A amostra não vem da distribuição normal.\n",
    "\n",
    "Ele é baseado no teste de D'Agostino e Pearson [1], [2] que combina inclinação e curtose para produzir um teste abrangente de normalidade. Em Python, scipy.stats.normaltest é usado para testar isso. Ele fornece a estatística que é s ^ 2 + k ^ 2, onde s é a pontuação z retornada pelo teste de inclinação ek é a pontuação z retornada pelo teste de curtose e valor p, ou seja, probabilidade qui quadrada de 2 lados para o teste de hipótese. Após usar o valor alfa de 0,05, os resultados abaixo foram encontrados. A hipótese nula é rejeitada para todas as variáveis, sugerindo que todas as variáveis ​​não são normalmente distribuídas. Como na análise gráfica, a variável “Altura” parecia normal, aqui a variável “Altura” também está mostrando o valor p 0, sugerindo que a variável não está normalmente distribuída."
   ]
  },
  {
   "cell_type": "code",
   "execution_count": 1537,
   "id": "824b00c1",
   "metadata": {},
   "outputs": [],
   "source": [
    "from scipy.stats import normaltest"
   ]
  },
  {
   "cell_type": "code",
   "execution_count": 1538,
   "id": "e0998c35",
   "metadata": {},
   "outputs": [
    {
     "data": {
      "text/plain": [
       "2.4530404640098998e-27"
      ]
     },
     "execution_count": 1538,
     "metadata": {},
     "output_type": "execute_result"
    }
   ],
   "source": [
    "stat_test, p_valor = normaltest(notas.notas_gerais)\n",
    "p_valor"
   ]
  },
  {
   "cell_type": "code",
   "execution_count": 1539,
   "id": "4c6ea3b2",
   "metadata": {},
   "outputs": [],
   "source": [
    "alpha = 0.05 # Definindo significância"
   ]
  },
  {
   "cell_type": "code",
   "execution_count": 1540,
   "id": "35f04374",
   "metadata": {},
   "outputs": [
    {
     "data": {
      "text/plain": [
       "True"
      ]
     },
     "execution_count": 1540,
     "metadata": {},
     "output_type": "execute_result"
    }
   ],
   "source": [
    "p_valor <= alpha"
   ]
  },
  {
   "cell_type": "markdown",
   "id": "8e916a02",
   "metadata": {},
   "source": [
    "Código Shapiro Teste"
   ]
  },
  {
   "cell_type": "markdown",
   "id": "32e5c1f1",
   "metadata": {},
   "source": [
    "O teste de Shapiro-Wilk é um teste de normalidade não paramétrico. Foi publicado em 1965 por Samuel Sanford Shapiro e Martin Wilk. O objetivo deste teste é fornecer uma estatística de teste para avaliar se uma amostra tem distribuição Normal. O teste pode ser utilizado para amostras de qualquer tamanho porém não é muito recomendado para amostras maiores que 5000."
   ]
  },
  {
   "cell_type": "code",
   "execution_count": 1541,
   "id": "68a46070",
   "metadata": {},
   "outputs": [],
   "source": [
    "from scipy.stats import shapiro"
   ]
  },
  {
   "cell_type": "code",
   "execution_count": 1542,
   "id": "9cf437f1",
   "metadata": {
    "scrolled": true
   },
   "outputs": [
    {
     "name": "stderr",
     "output_type": "stream",
     "text": [
      "C:\\Users\\walas\\anaconda3\\lib\\site-packages\\scipy\\stats\\morestats.py:1760: UserWarning: p-value may not be accurate for N > 5000.\n",
      "  warnings.warn(\"p-value may not be accurate for N > 5000.\")\n"
     ]
    },
    {
     "data": {
      "text/plain": [
       "1.926550044279003e-22"
      ]
     },
     "execution_count": 1542,
     "metadata": {},
     "output_type": "execute_result"
    }
   ],
   "source": [
    "stat_test, p_valor = shapiro(notas.notas_gerais)\n",
    "p_valor"
   ]
  },
  {
   "cell_type": "code",
   "execution_count": 1543,
   "id": "1209d50d",
   "metadata": {},
   "outputs": [
    {
     "data": {
      "text/plain": [
       "True"
      ]
     },
     "execution_count": 1543,
     "metadata": {},
     "output_type": "execute_result"
    }
   ],
   "source": [
    "p_valor <= alpha"
   ]
  },
  {
   "cell_type": "markdown",
   "id": "ab2f4ac8",
   "metadata": {},
   "source": [
    "### Critério do valor $p$\n",
    "#### Rejeitar $H_0$ se o valor $p\\leq 0,05$"
   ]
  },
  {
   "cell_type": "markdown",
   "id": "020942ae",
   "metadata": {},
   "source": [
    "*A distribuição de frequência das notas gerais não pode ser classificada como uma distribuição normal em 3 testes. Sendo mais semelhante a uma distribuição assimétrica a esqueda.*"
   ]
  },
  {
   "cell_type": "markdown",
   "id": "3f5813fe",
   "metadata": {},
   "source": [
    "## Distribuição binomial de QE I21\n",
    "\n",
    "Alguém em sua família concluiu um curso superior?\n",
    "\n",
    "A = Sim\n",
    "\n",
    "B = Não"
   ]
  },
  {
   "cell_type": "code",
   "execution_count": 1544,
   "id": "45b7de47",
   "metadata": {},
   "outputs": [
    {
     "data": {
      "text/plain": [
       "A    6510\n",
       "B    1985\n",
       "Name: Qe I21, dtype: int64"
      ]
     },
     "execution_count": 1544,
     "metadata": {},
     "output_type": "execute_result"
    }
   ],
   "source": [
    "df['Qe I21'].value_counts()"
   ]
  },
  {
   "cell_type": "code",
   "execution_count": 1545,
   "id": "304c2116",
   "metadata": {
    "scrolled": true
   },
   "outputs": [
    {
     "data": {
      "text/plain": [
       "A    0.766333\n",
       "B    0.233667\n",
       "Name: Qe I21, dtype: float64"
      ]
     },
     "execution_count": 1545,
     "metadata": {},
     "output_type": "execute_result"
    }
   ],
   "source": [
    "df['Qe I21'].value_counts(normalize=True)"
   ]
  },
  {
   "cell_type": "code",
   "execution_count": 1546,
   "id": "d1420dba",
   "metadata": {
    "scrolled": false
   },
   "outputs": [
    {
     "data": {
      "image/png": "[encoded data removed]",
      "text/plain": [
       "<Figure size 864x432 with 1 Axes>"
      ]
     },
     "metadata": {},
     "output_type": "display_data"
    }
   ],
   "source": [
    "ax = plt.subplots(figsize=(12, 6))\n",
    "\n",
    "ax = plt.pie(df['Qe I21'].value_counts(normalize=True), autopct = \"%0.2f%%\")\n",
    "\n",
    "plt.show()"
   ]
  },
  {
   "cell_type": "markdown",
   "id": "b389f6e9",
   "metadata": {},
   "source": [
    "## Distribuição de notas gerais dos grupos"
   ]
  },
  {
   "cell_type": "markdown",
   "id": "aec8e4d4",
   "metadata": {},
   "source": [
    "Renomeando coluna"
   ]
  },
  {
   "cell_type": "code",
   "execution_count": 1547,
   "id": "08550706",
   "metadata": {},
   "outputs": [],
   "source": [
    "df.rename(columns={'Qe I21': 'qe_i21'}, inplace=True)"
   ]
  },
  {
   "cell_type": "markdown",
   "id": "e64d513e",
   "metadata": {},
   "source": [
    "Separando grupos (A - B)"
   ]
  },
  {
   "cell_type": "code",
   "execution_count": 1548,
   "id": "ea4e9699",
   "metadata": {},
   "outputs": [],
   "source": [
    "df_a = df.query('qe_i21 == \"A\"').notas_gerais.dropna().to_frame()"
   ]
  },
  {
   "cell_type": "code",
   "execution_count": 1549,
   "id": "8592d19b",
   "metadata": {},
   "outputs": [],
   "source": [
    "df_b = df.query('qe_i21 == \"B\"').notas_gerais.dropna().to_frame()"
   ]
  },
  {
   "cell_type": "code",
   "execution_count": 1550,
   "id": "6ca22711",
   "metadata": {},
   "outputs": [
    {
     "data": {
      "image/png": "[encoded data removed]",
      "text/plain": [
       "<Figure size 1152x576 with 2 Axes>"
      ]
     },
     "metadata": {},
     "output_type": "display_data"
    }
   ],
   "source": [
    "plt.subplots(figsize=(16, 8))\n",
    "\n",
    "ax = plt.subplot(2, 1, 1)\n",
    "sns.histplot(df_a.notas_gerais, kde=True)\n",
    "\n",
    "ax.set_title('', loc='Left', fontsize=18)\n",
    "ax.set_xlabel('', fontsize=14)\n",
    "ax.set_ylabel('', fontsize=14)\n",
    "plt.axvline(x=df_a.notas_gerais.mean(),color='blue',ls='-',lw=2.5)\n",
    "\n",
    "\n",
    "ax1 = plt.subplot(2, 1, 2)\n",
    "sns.histplot(df_b.notas_gerais, kde=True)\n",
    "\n",
    "ax1.set_title('', loc='Left', fontsize=18)\n",
    "ax1.set_xlabel('', fontsize=14)\n",
    "ax1.set_ylabel('', fontsize=14)\n",
    "plt.axvline(x=df_b.notas_gerais.mean(),color='blue',ls='-',lw=2.5)\n",
    "\n",
    "plt.show()"
   ]
  },
  {
   "cell_type": "markdown",
   "id": "b3574ec3",
   "metadata": {},
   "source": [
    "## Definindo tamanho da amostra para ter grau de significância de 95%\n",
    "\n",
    "N = (Z . (Desvio Padrão / e))^2"
   ]
  },
  {
   "cell_type": "markdown",
   "id": "c5074bfc",
   "metadata": {},
   "source": [
    "<span>&#8730;</span>"
   ]
  },
  {
   "cell_type": "code",
   "execution_count": 1551,
   "id": "fe52264f",
   "metadata": {},
   "outputs": [
    {
     "name": "stdout",
     "output_type": "stream",
     "text": [
      "O número de amostras necessárias para ter uma significância de 5% é 90\n"
     ]
    }
   ],
   "source": [
    "from scipy.stats import norm\n",
    "\n",
    "z = norm.ppf(0.975)\n",
    "\n",
    "n = (z * (df.notas_gerais.std() / np.e)) ** 2\n",
    "n = int(n.round())\n",
    "\n",
    "print(f'O número de amostras necessárias para ter uma significância de 5% é {n}')"
   ]
  },
  {
   "cell_type": "code",
   "execution_count": 1552,
   "id": "b31be69a",
   "metadata": {},
   "outputs": [
    {
     "data": {
      "text/plain": [
       "0       NaN\n",
       "1       NaN\n",
       "2       NaN\n",
       "3       NaN\n",
       "4       NaN\n",
       "       ... \n",
       "9577      A\n",
       "9578      A\n",
       "9579    NaN\n",
       "9580      A\n",
       "9581    NaN\n",
       "Name: qe_i21, Length: 9543, dtype: object"
      ]
     },
     "execution_count": 1552,
     "metadata": {},
     "output_type": "execute_result"
    }
   ],
   "source": [
    "df['qe_i21']"
   ]
  },
  {
   "cell_type": "markdown",
   "id": "769440e6",
   "metadata": {},
   "source": [
    "## Selecionando dados contra factuais"
   ]
  },
  {
   "cell_type": "code",
   "execution_count": 1553,
   "id": "3bba841a",
   "metadata": {
    "scrolled": true
   },
   "outputs": [],
   "source": [
    "df_amostra = df[(~df.qe_i21.isna()) & (~df.notas_gerais.isna())]"
   ]
  },
  {
   "cell_type": "code",
   "execution_count": 1554,
   "id": "b4dde68a",
   "metadata": {},
   "outputs": [
    {
     "data": {
      "text/plain": [
       "A    6124\n",
       "B    1900\n",
       "Name: qe_i21, dtype: int64"
      ]
     },
     "execution_count": 1554,
     "metadata": {},
     "output_type": "execute_result"
    }
   ],
   "source": [
    "df_amostra.qe_i21.value_counts()"
   ]
  },
  {
   "cell_type": "code",
   "execution_count": 1555,
   "id": "5255869a",
   "metadata": {},
   "outputs": [
    {
     "data": {
      "text/plain": [
       "(8024, 137)"
      ]
     },
     "execution_count": 1555,
     "metadata": {},
     "output_type": "execute_result"
    }
   ],
   "source": [
    "df_amostra.shape"
   ]
  },
  {
   "cell_type": "markdown",
   "id": "33c83980",
   "metadata": {},
   "source": [
    "Selecionando o estado com maior numero de amostras"
   ]
  },
  {
   "cell_type": "code",
   "execution_count": 1556,
   "id": "17e48e97",
   "metadata": {},
   "outputs": [
    {
     "data": {
      "text/plain": [
       "3    4882\n",
       "2    1978\n",
       "4    1768\n",
       "5     511\n",
       "1     404\n",
       "Name: Co Regiao Curso, dtype: int64"
      ]
     },
     "execution_count": 1556,
     "metadata": {},
     "output_type": "execute_result"
    }
   ],
   "source": [
    "df['Co Regiao Curso'].value_counts()"
   ]
  },
  {
   "cell_type": "markdown",
   "id": "883bb09a",
   "metadata": {},
   "source": [
    "São Paulo (35) - 2691 Amostras"
   ]
  },
  {
   "cell_type": "code",
   "execution_count": 1557,
   "id": "f8fbe4b3",
   "metadata": {
    "scrolled": false
   },
   "outputs": [
    {
     "data": {
      "text/html": [
       "<div>\n",
       "<style scoped>\n",
       "    .dataframe tbody tr th:only-of-type {\n",
       "        vertical-align: middle;\n",
       "    }\n",
       "\n",
       "    .dataframe tbody tr th {\n",
       "        vertical-align: top;\n",
       "    }\n",
       "\n",
       "    .dataframe thead th {\n",
       "        text-align: right;\n",
       "    }\n",
       "</style>\n",
       "<table border=\"1\" class=\"dataframe\">\n",
       "  <thead>\n",
       "    <tr style=\"text-align: right;\">\n",
       "      <th></th>\n",
       "      <th>Ano Fim Em</th>\n",
       "      <th>Ano In Grad</th>\n",
       "      <th>Co Categad</th>\n",
       "      <th>Co Grupo</th>\n",
       "      <th>Co Ies</th>\n",
       "      <th>Co Munic Curso</th>\n",
       "      <th>Co Rs I1</th>\n",
       "      <th>Co Rs I2</th>\n",
       "      <th>Co Rs I3</th>\n",
       "      <th>Co Rs I4</th>\n",
       "      <th>...</th>\n",
       "      <th>Tp Pr Di Fg</th>\n",
       "      <th>Tp Pr Ger</th>\n",
       "      <th>Tp Pr Ob Ce</th>\n",
       "      <th>Tp Pr Ob Fg</th>\n",
       "      <th>Tp Pres</th>\n",
       "      <th>Tp Sce D1</th>\n",
       "      <th>Tp Sce D2</th>\n",
       "      <th>Tp Sce D3</th>\n",
       "      <th>Tp Sfg D1</th>\n",
       "      <th>Tp Sfg D2</th>\n",
       "    </tr>\n",
       "  </thead>\n",
       "  <tbody>\n",
       "    <tr>\n",
       "      <th>16</th>\n",
       "      <td>2011</td>\n",
       "      <td>2017</td>\n",
       "      <td>10005</td>\n",
       "      <td>13</td>\n",
       "      <td>1439</td>\n",
       "      <td>3509502</td>\n",
       "      <td>NaN</td>\n",
       "      <td>NaN</td>\n",
       "      <td>NaN</td>\n",
       "      <td>NaN</td>\n",
       "      <td>...</td>\n",
       "      <td>222</td>\n",
       "      <td>222</td>\n",
       "      <td>222</td>\n",
       "      <td>222</td>\n",
       "      <td>222</td>\n",
       "      <td>222</td>\n",
       "      <td>222</td>\n",
       "      <td>222</td>\n",
       "      <td>222</td>\n",
       "      <td>222</td>\n",
       "    </tr>\n",
       "    <tr>\n",
       "      <th>17</th>\n",
       "      <td>2010</td>\n",
       "      <td>2012</td>\n",
       "      <td>118</td>\n",
       "      <td>13</td>\n",
       "      <td>1484</td>\n",
       "      <td>3106200</td>\n",
       "      <td>NaN</td>\n",
       "      <td>NaN</td>\n",
       "      <td>NaN</td>\n",
       "      <td>NaN</td>\n",
       "      <td>...</td>\n",
       "      <td>222</td>\n",
       "      <td>222</td>\n",
       "      <td>222</td>\n",
       "      <td>222</td>\n",
       "      <td>222</td>\n",
       "      <td>222</td>\n",
       "      <td>222</td>\n",
       "      <td>222</td>\n",
       "      <td>222</td>\n",
       "      <td>222</td>\n",
       "    </tr>\n",
       "    <tr>\n",
       "      <th>18</th>\n",
       "      <td>2010</td>\n",
       "      <td>2011</td>\n",
       "      <td>93</td>\n",
       "      <td>13</td>\n",
       "      <td>17</td>\n",
       "      <td>3170206</td>\n",
       "      <td>NaN</td>\n",
       "      <td>NaN</td>\n",
       "      <td>NaN</td>\n",
       "      <td>NaN</td>\n",
       "      <td>...</td>\n",
       "      <td>222</td>\n",
       "      <td>222</td>\n",
       "      <td>222</td>\n",
       "      <td>222</td>\n",
       "      <td>222</td>\n",
       "      <td>222</td>\n",
       "      <td>222</td>\n",
       "      <td>222</td>\n",
       "      <td>222</td>\n",
       "      <td>222</td>\n",
       "    </tr>\n",
       "    <tr>\n",
       "      <th>19</th>\n",
       "      <td>2005</td>\n",
       "      <td>2014</td>\n",
       "      <td>10002</td>\n",
       "      <td>13</td>\n",
       "      <td>591</td>\n",
       "      <td>3534401</td>\n",
       "      <td>NaN</td>\n",
       "      <td>NaN</td>\n",
       "      <td>NaN</td>\n",
       "      <td>NaN</td>\n",
       "      <td>...</td>\n",
       "      <td>222</td>\n",
       "      <td>222</td>\n",
       "      <td>222</td>\n",
       "      <td>222</td>\n",
       "      <td>222</td>\n",
       "      <td>222</td>\n",
       "      <td>222</td>\n",
       "      <td>222</td>\n",
       "      <td>222</td>\n",
       "      <td>222</td>\n",
       "    </tr>\n",
       "    <tr>\n",
       "      <th>20</th>\n",
       "      <td>2010</td>\n",
       "      <td>2013</td>\n",
       "      <td>10002</td>\n",
       "      <td>13</td>\n",
       "      <td>591</td>\n",
       "      <td>3534401</td>\n",
       "      <td>NaN</td>\n",
       "      <td>NaN</td>\n",
       "      <td>NaN</td>\n",
       "      <td>NaN</td>\n",
       "      <td>...</td>\n",
       "      <td>222</td>\n",
       "      <td>222</td>\n",
       "      <td>222</td>\n",
       "      <td>222</td>\n",
       "      <td>222</td>\n",
       "      <td>222</td>\n",
       "      <td>222</td>\n",
       "      <td>222</td>\n",
       "      <td>222</td>\n",
       "      <td>222</td>\n",
       "    </tr>\n",
       "  </tbody>\n",
       "</table>\n",
       "<p>5 rows × 137 columns</p>\n",
       "</div>"
      ],
      "text/plain": [
       "    Ano Fim Em  Ano In Grad  Co Categad  Co Grupo  Co Ies  Co Munic Curso  \\\n",
       "16        2011         2017       10005        13    1439         3509502   \n",
       "17        2010         2012         118        13    1484         3106200   \n",
       "18        2010         2011          93        13      17         3170206   \n",
       "19        2005         2014       10002        13     591         3534401   \n",
       "20        2010         2013       10002        13     591         3534401   \n",
       "\n",
       "   Co Rs I1 Co Rs I2 Co Rs I3 Co Rs I4  ... Tp Pr Di Fg Tp Pr Ger Tp Pr Ob Ce  \\\n",
       "16      NaN      NaN      NaN      NaN  ...         222       222         222   \n",
       "17      NaN      NaN      NaN      NaN  ...         222       222         222   \n",
       "18      NaN      NaN      NaN      NaN  ...         222       222         222   \n",
       "19      NaN      NaN      NaN      NaN  ...         222       222         222   \n",
       "20      NaN      NaN      NaN      NaN  ...         222       222         222   \n",
       "\n",
       "   Tp Pr Ob Fg Tp Pres Tp Sce D1 Tp Sce D2 Tp Sce D3 Tp Sfg D1 Tp Sfg D2  \n",
       "16         222     222       222       222       222       222       222  \n",
       "17         222     222       222       222       222       222       222  \n",
       "18         222     222       222       222       222       222       222  \n",
       "19         222     222       222       222       222       222       222  \n",
       "20         222     222       222       222       222       222       222  \n",
       "\n",
       "[5 rows x 137 columns]"
      ]
     },
     "execution_count": 1557,
     "metadata": {},
     "output_type": "execute_result"
    }
   ],
   "source": [
    "df_amostra = df[df['Co Regiao Curso'] == 3]\n",
    "df_amostra.head()"
   ]
  },
  {
   "cell_type": "markdown",
   "id": "0811e9af",
   "metadata": {},
   "source": [
    "Selecionando Idade"
   ]
  },
  {
   "cell_type": "markdown",
   "id": "d8f5d0fd",
   "metadata": {},
   "source": [
    "# $$k = 1 + \\frac {10}{3}\\log_{10}n$$"
   ]
  },
  {
   "cell_type": "code",
   "execution_count": 1558,
   "id": "5064ca9c",
   "metadata": {},
   "outputs": [],
   "source": [
    "n = len(df_amostra)"
   ]
  },
  {
   "cell_type": "code",
   "execution_count": 1559,
   "id": "49d052c0",
   "metadata": {},
   "outputs": [],
   "source": [
    "k = 1 + (10/3) * np.log10(n)"
   ]
  },
  {
   "cell_type": "code",
   "execution_count": 1560,
   "id": "f84df6d2",
   "metadata": {},
   "outputs": [],
   "source": [
    "k = int(k.round(0))"
   ]
  },
  {
   "cell_type": "markdown",
   "id": "3bba2f3b",
   "metadata": {},
   "source": [
    "Distribuição de Frequência"
   ]
  },
  {
   "cell_type": "code",
   "execution_count": 1561,
   "id": "7168ac73",
   "metadata": {},
   "outputs": [],
   "source": [
    "frequencia = pd.value_counts(pd.cut(x=df_amostra['Nu Idade'],bins=k,include_lowest=True),sort=False)"
   ]
  },
  {
   "cell_type": "code",
   "execution_count": 1562,
   "id": "4cf1e4b9",
   "metadata": {},
   "outputs": [],
   "source": [
    "frequencia = pd.DataFrame(frequencia)"
   ]
  },
  {
   "cell_type": "code",
   "execution_count": 1563,
   "id": "18e5063d",
   "metadata": {},
   "outputs": [
    {
     "data": {
      "text/html": [
       "<div>\n",
       "<style scoped>\n",
       "    .dataframe tbody tr th:only-of-type {\n",
       "        vertical-align: middle;\n",
       "    }\n",
       "\n",
       "    .dataframe tbody tr th {\n",
       "        vertical-align: top;\n",
       "    }\n",
       "\n",
       "    .dataframe thead th {\n",
       "        text-align: right;\n",
       "    }\n",
       "</style>\n",
       "<table border=\"1\" class=\"dataframe\">\n",
       "  <thead>\n",
       "    <tr style=\"text-align: right;\">\n",
       "      <th></th>\n",
       "      <th>Nu Idade</th>\n",
       "    </tr>\n",
       "  </thead>\n",
       "  <tbody>\n",
       "    <tr>\n",
       "      <th>(19.956, 23.308]</th>\n",
       "      <td>1724</td>\n",
       "    </tr>\n",
       "    <tr>\n",
       "      <th>(23.308, 26.615]</th>\n",
       "      <td>1793</td>\n",
       "    </tr>\n",
       "    <tr>\n",
       "      <th>(26.615, 29.923]</th>\n",
       "      <td>731</td>\n",
       "    </tr>\n",
       "    <tr>\n",
       "      <th>(29.923, 33.231]</th>\n",
       "      <td>355</td>\n",
       "    </tr>\n",
       "    <tr>\n",
       "      <th>(33.231, 36.538]</th>\n",
       "      <td>108</td>\n",
       "    </tr>\n",
       "    <tr>\n",
       "      <th>(36.538, 39.846]</th>\n",
       "      <td>67</td>\n",
       "    </tr>\n",
       "    <tr>\n",
       "      <th>(39.846, 43.154]</th>\n",
       "      <td>52</td>\n",
       "    </tr>\n",
       "    <tr>\n",
       "      <th>(43.154, 46.462]</th>\n",
       "      <td>17</td>\n",
       "    </tr>\n",
       "    <tr>\n",
       "      <th>(46.462, 49.769]</th>\n",
       "      <td>14</td>\n",
       "    </tr>\n",
       "    <tr>\n",
       "      <th>(49.769, 53.077]</th>\n",
       "      <td>9</td>\n",
       "    </tr>\n",
       "    <tr>\n",
       "      <th>(53.077, 56.385]</th>\n",
       "      <td>6</td>\n",
       "    </tr>\n",
       "    <tr>\n",
       "      <th>(56.385, 59.692]</th>\n",
       "      <td>3</td>\n",
       "    </tr>\n",
       "    <tr>\n",
       "      <th>(59.692, 63.0]</th>\n",
       "      <td>3</td>\n",
       "    </tr>\n",
       "  </tbody>\n",
       "</table>\n",
       "</div>"
      ],
      "text/plain": [
       "                  Nu Idade\n",
       "(19.956, 23.308]      1724\n",
       "(23.308, 26.615]      1793\n",
       "(26.615, 29.923]       731\n",
       "(29.923, 33.231]       355\n",
       "(33.231, 36.538]       108\n",
       "(36.538, 39.846]        67\n",
       "(39.846, 43.154]        52\n",
       "(43.154, 46.462]        17\n",
       "(46.462, 49.769]        14\n",
       "(49.769, 53.077]         9\n",
       "(53.077, 56.385]         6\n",
       "(56.385, 59.692]         3\n",
       "(59.692, 63.0]           3"
      ]
     },
     "execution_count": 1563,
     "metadata": {},
     "output_type": "execute_result"
    }
   ],
   "source": [
    "frequencia"
   ]
  },
  {
   "cell_type": "code",
   "execution_count": 1564,
   "id": "24c9c485",
   "metadata": {
    "scrolled": false
   },
   "outputs": [],
   "source": [
    "frequencia.rename(columns={'Nu Idade':'idade'},inplace=True)\n",
    "frequencia['classe'] = ['19 a 23', '24 a 27', '28 a 31' ,'31 a 34' ,'35 a 38', '39 a 42',\n",
    "                        '43 a 45', '46 a 48' ,'49 a 52', '53 a 55', '56 a 59', '60 a 62', '62+']"
   ]
  },
  {
   "cell_type": "code",
   "execution_count": 1565,
   "id": "76e1c93a",
   "metadata": {},
   "outputs": [
    {
     "data": {
      "text/html": [
       "<div>\n",
       "<style scoped>\n",
       "    .dataframe tbody tr th:only-of-type {\n",
       "        vertical-align: middle;\n",
       "    }\n",
       "\n",
       "    .dataframe tbody tr th {\n",
       "        vertical-align: top;\n",
       "    }\n",
       "\n",
       "    .dataframe thead th {\n",
       "        text-align: right;\n",
       "    }\n",
       "</style>\n",
       "<table border=\"1\" class=\"dataframe\">\n",
       "  <thead>\n",
       "    <tr style=\"text-align: right;\">\n",
       "      <th></th>\n",
       "      <th>idade</th>\n",
       "      <th>classe</th>\n",
       "    </tr>\n",
       "  </thead>\n",
       "  <tbody>\n",
       "    <tr>\n",
       "      <th>(19.956, 23.308]</th>\n",
       "      <td>1724</td>\n",
       "      <td>19 a 23</td>\n",
       "    </tr>\n",
       "    <tr>\n",
       "      <th>(23.308, 26.615]</th>\n",
       "      <td>1793</td>\n",
       "      <td>24 a 27</td>\n",
       "    </tr>\n",
       "    <tr>\n",
       "      <th>(26.615, 29.923]</th>\n",
       "      <td>731</td>\n",
       "      <td>28 a 31</td>\n",
       "    </tr>\n",
       "    <tr>\n",
       "      <th>(29.923, 33.231]</th>\n",
       "      <td>355</td>\n",
       "      <td>31 a 34</td>\n",
       "    </tr>\n",
       "    <tr>\n",
       "      <th>(33.231, 36.538]</th>\n",
       "      <td>108</td>\n",
       "      <td>35 a 38</td>\n",
       "    </tr>\n",
       "  </tbody>\n",
       "</table>\n",
       "</div>"
      ],
      "text/plain": [
       "                  idade   classe\n",
       "(19.956, 23.308]   1724  19 a 23\n",
       "(23.308, 26.615]   1793  24 a 27\n",
       "(26.615, 29.923]    731  28 a 31\n",
       "(29.923, 33.231]    355  31 a 34\n",
       "(33.231, 36.538]    108  35 a 38"
      ]
     },
     "execution_count": 1565,
     "metadata": {},
     "output_type": "execute_result"
    }
   ],
   "source": [
    "frequencia.head()"
   ]
  },
  {
   "cell_type": "code",
   "execution_count": 1566,
   "id": "713a022f",
   "metadata": {
    "scrolled": false
   },
   "outputs": [
    {
     "data": {
      "image/png": "[encoded data removed]",
      "text/plain": [
       "<Figure size 1152x576 with 1 Axes>"
      ]
     },
     "metadata": {},
     "output_type": "display_data"
    }
   ],
   "source": [
    "sns.set_theme(style='white')\n",
    "\n",
    "ax = plt.subplots(figsize=(16, 8))\n",
    "ax = sns.barplot(data=frequencia, x='classe', y='idade')\n",
    "\n",
    "# Parte visual\n",
    "\n",
    "ax.set_title('', loc='Left', fontsize=18)\n",
    "ax.set_xlabel('', fontsize=14)\n",
    "ax.set_ylabel('', fontsize=14)\n",
    "\n",
    "plt.show()"
   ]
  },
  {
   "cell_type": "markdown",
   "id": "8db29a34",
   "metadata": {},
   "source": [
    "Pessoas entre 18 a 27 anos"
   ]
  },
  {
   "cell_type": "code",
   "execution_count": 1567,
   "id": "08bf92bd",
   "metadata": {},
   "outputs": [],
   "source": [
    "df_amostra = df_amostra[(df_amostra['Nu Idade'] >= 18) & (df_amostra['Nu Idade'] <= 27)]"
   ]
  },
  {
   "cell_type": "code",
   "execution_count": 1568,
   "id": "23607bf7",
   "metadata": {},
   "outputs": [
    {
     "data": {
      "text/plain": [
       "(3822, 137)"
      ]
     },
     "execution_count": 1568,
     "metadata": {},
     "output_type": "execute_result"
    }
   ],
   "source": [
    "df_amostra.shape"
   ]
  },
  {
   "cell_type": "code",
   "execution_count": 1569,
   "id": "24fda811",
   "metadata": {
    "scrolled": true
   },
   "outputs": [
    {
     "data": {
      "text/plain": [
       "A    3435\n",
       "B     104\n",
       "E      11\n",
       "C       7\n",
       "D       4\n",
       "Name: Qe I01, dtype: int64"
      ]
     },
     "execution_count": 1569,
     "metadata": {},
     "output_type": "execute_result"
    }
   ],
   "source": [
    "df_amostra['Qe I01'].value_counts()"
   ]
  },
  {
   "cell_type": "markdown",
   "id": "d9af26f3",
   "metadata": {},
   "source": [
    "Pessoas Solteiras"
   ]
  },
  {
   "cell_type": "code",
   "execution_count": 1570,
   "id": "376254b7",
   "metadata": {},
   "outputs": [],
   "source": [
    "df_amostra = df_amostra[df_amostra['Qe I01'] == \"A\"]"
   ]
  },
  {
   "cell_type": "code",
   "execution_count": 1571,
   "id": "a0c9c187",
   "metadata": {
    "scrolled": true
   },
   "outputs": [
    {
     "data": {
      "text/plain": [
       "(3435, 137)"
      ]
     },
     "execution_count": 1571,
     "metadata": {},
     "output_type": "execute_result"
    }
   ],
   "source": [
    "df_amostra.shape"
   ]
  },
  {
   "cell_type": "code",
   "execution_count": 1572,
   "id": "5475703a",
   "metadata": {
    "scrolled": true
   },
   "outputs": [
    {
     "data": {
      "text/plain": [
       "D    1089\n",
       "E     875\n",
       "F     571\n",
       "C     355\n",
       "B     350\n",
       "A     195\n",
       "Name: Qe I04, dtype: int64"
      ]
     },
     "execution_count": 1572,
     "metadata": {},
     "output_type": "execute_result"
    }
   ],
   "source": [
    "df_amostra['Qe I04'].value_counts()"
   ]
  },
  {
   "cell_type": "markdown",
   "id": "c3c51e94",
   "metadata": {},
   "source": [
    "Grau de escolaridade Ensino Médio"
   ]
  },
  {
   "cell_type": "code",
   "execution_count": 1573,
   "id": "05853676",
   "metadata": {},
   "outputs": [],
   "source": [
    "df_amostra = df_amostra[df_amostra['Qe I04'] == \"D\"]"
   ]
  },
  {
   "cell_type": "code",
   "execution_count": 1574,
   "id": "d84fb364",
   "metadata": {
    "scrolled": true
   },
   "outputs": [
    {
     "data": {
      "text/plain": [
       "(1089, 137)"
      ]
     },
     "execution_count": 1574,
     "metadata": {},
     "output_type": "execute_result"
    }
   ],
   "source": [
    "df_amostra.shape"
   ]
  },
  {
   "cell_type": "markdown",
   "id": "3cbf52ab",
   "metadata": {},
   "source": [
    "Situação financeira em casa"
   ]
  },
  {
   "cell_type": "code",
   "execution_count": 1575,
   "id": "b7fa74f3",
   "metadata": {
    "scrolled": false
   },
   "outputs": [
    {
     "data": {
      "text/plain": [
       "C    399\n",
       "B    291\n",
       "D    179\n",
       "E    164\n",
       "A     39\n",
       "F     17\n",
       "Name: Qe I09, dtype: int64"
      ]
     },
     "execution_count": 1575,
     "metadata": {},
     "output_type": "execute_result"
    }
   ],
   "source": [
    "df_amostra['Qe I09'].value_counts()"
   ]
  },
  {
   "cell_type": "code",
   "execution_count": 1576,
   "id": "1c6eec64",
   "metadata": {},
   "outputs": [],
   "source": [
    "df_amostra = df_amostra[df_amostra['Qe I09'] == \"C\"]"
   ]
  },
  {
   "cell_type": "code",
   "execution_count": 1577,
   "id": "e1a84b56",
   "metadata": {
    "scrolled": true
   },
   "outputs": [
    {
     "data": {
      "text/plain": [
       "(399, 137)"
      ]
     },
     "execution_count": 1577,
     "metadata": {},
     "output_type": "execute_result"
    }
   ],
   "source": [
    "df_amostra.shape"
   ]
  },
  {
   "cell_type": "code",
   "execution_count": 1578,
   "id": "ea2ec726",
   "metadata": {},
   "outputs": [],
   "source": [
    "dist_a_amostra = df_amostra.query('qe_i21 == \"A\"')\n",
    "dist_b_amostra = df_amostra.query('qe_i21 == \"B\"')"
   ]
  },
  {
   "cell_type": "code",
   "execution_count": 1579,
   "id": "c397ca07",
   "metadata": {},
   "outputs": [],
   "source": [
    "dist_a_amostra = dist_a_amostra[(~dist_a_amostra.notas_gerais.isna())]\n",
    "dist_b_amostra = dist_b_amostra[(~dist_b_amostra.notas_gerais.isna())]"
   ]
  },
  {
   "cell_type": "code",
   "execution_count": 1580,
   "id": "c140ac96",
   "metadata": {},
   "outputs": [
    {
     "data": {
      "text/plain": [
       "285"
      ]
     },
     "execution_count": 1580,
     "metadata": {},
     "output_type": "execute_result"
    }
   ],
   "source": [
    "len(dist_a_amostra)"
   ]
  },
  {
   "cell_type": "code",
   "execution_count": 1581,
   "id": "6a9f1fa9",
   "metadata": {},
   "outputs": [
    {
     "data": {
      "text/plain": [
       "100"
      ]
     },
     "execution_count": 1581,
     "metadata": {},
     "output_type": "execute_result"
    }
   ],
   "source": [
    "len(dist_b_amostra)"
   ]
  },
  {
   "cell_type": "code",
   "execution_count": 1582,
   "id": "ca9eec17",
   "metadata": {},
   "outputs": [],
   "source": [
    "dist_a_amostra = dist_a_amostra.sample(100)"
   ]
  },
  {
   "cell_type": "code",
   "execution_count": 1583,
   "id": "fc53937b",
   "metadata": {
    "scrolled": false
   },
   "outputs": [
    {
     "data": {
      "image/png": "[encoded data removed]",
      "text/plain": [
       "<Figure size 1152x576 with 2 Axes>"
      ]
     },
     "metadata": {},
     "output_type": "display_data"
    }
   ],
   "source": [
    "plt.subplots(figsize=(16, 8))\n",
    "\n",
    "ax = plt.subplot(2, 1, 1)\n",
    "sns.histplot(dist_a_amostra.notas_gerais, kde=True)\n",
    "\n",
    "ax.set_title('', loc='Left', fontsize=18)\n",
    "ax.set_xlabel('', fontsize=14)\n",
    "ax.set_ylabel('', fontsize=14)\n",
    "plt.axvline(x=dist_a_amostra.notas_gerais.mean(),color='blue',ls='-',lw=2.5)\n",
    "\n",
    "\n",
    "ax1 = plt.subplot(2, 1, 2)\n",
    "sns.histplot(dist_b_amostra.notas_gerais, kde=True)\n",
    "\n",
    "ax1.set_title('', loc='Left', fontsize=18)\n",
    "ax1.set_xlabel('', fontsize=14)\n",
    "ax1.set_ylabel('', fontsize=14)\n",
    "plt.axvline(x=dist_b_amostra.notas_gerais.mean(),color='blue',ls='-',lw=2.5)\n",
    "\n",
    "plt.show()"
   ]
  },
  {
   "cell_type": "code",
   "execution_count": 1584,
   "id": "8a7a2fc2",
   "metadata": {
    "scrolled": false
   },
   "outputs": [
    {
     "name": "stderr",
     "output_type": "stream",
     "text": [
      "C:\\Users\\walas\\anaconda3\\lib\\site-packages\\seaborn\\_decorators.py:36: FutureWarning: Pass the following variable as a keyword arg: x. From version 0.12, the only valid positional argument will be `data`, and passing other arguments without an explicit keyword will result in an error or misinterpretation.\n",
      "  warnings.warn(\n",
      "C:\\Users\\walas\\anaconda3\\lib\\site-packages\\seaborn\\_decorators.py:36: FutureWarning: Pass the following variable as a keyword arg: x. From version 0.12, the only valid positional argument will be `data`, and passing other arguments without an explicit keyword will result in an error or misinterpretation.\n",
      "  warnings.warn(\n"
     ]
    },
    {
     "data": {
      "image/png": "[encoded data removed]",
      "text/plain": [
       "<Figure size 1152x576 with 2 Axes>"
      ]
     },
     "metadata": {},
     "output_type": "display_data"
    }
   ],
   "source": [
    "plt.subplots(figsize=(16, 8))\n",
    "\n",
    "ax = plt.subplot(2, 1, 1)\n",
    "sns.boxplot(dist_a_amostra.notas_gerais)\n",
    "\n",
    "ax.set_title('', loc='Left', fontsize=18)\n",
    "ax.set_xlabel('', fontsize=14)\n",
    "ax.set_ylabel('', fontsize=14)\n",
    "\n",
    "\n",
    "ax1 = plt.subplot(2, 1, 2)\n",
    "sns.boxplot(dist_b_amostra.notas_gerais)\n",
    "\n",
    "ax1.set_title('', loc='Left', fontsize=18)\n",
    "ax1.set_xlabel('', fontsize=14)\n",
    "ax1.set_ylabel('', fontsize=14)\n",
    "\n",
    "plt.show()"
   ]
  },
  {
   "cell_type": "markdown",
   "id": "6d99f872",
   "metadata": {},
   "source": [
    "## Teste de hipótese"
   ]
  },
  {
   "cell_type": "code",
   "execution_count": 1585,
   "id": "4c5d6485",
   "metadata": {},
   "outputs": [],
   "source": [
    "from scipy.stats import chi"
   ]
  },
  {
   "cell_type": "code",
   "execution_count": 1589,
   "id": "abbfa561",
   "metadata": {},
   "outputs": [
    {
     "data": {
      "text/plain": [
       "123.22522145336181"
      ]
     },
     "execution_count": 1589,
     "metadata": {},
     "output_type": "execute_result"
    }
   ],
   "source": [
    "chi_2_alpha = chi.ppf(0.95, 99) ** 2\n",
    "chi_2_alpha"
   ]
  },
  {
   "cell_type": "code",
   "execution_count": 1587,
   "id": "39f1c44e",
   "metadata": {},
   "outputs": [],
   "source": [
    "dist_a_amostra = list(dist_a_amostra.notas_gerais)\n",
    "dist_b_amostra = list(dist_b_amostra.notas_gerais)"
   ]
  },
  {
   "cell_type": "code",
   "execution_count": 1588,
   "id": "caa46b1b",
   "metadata": {
    "scrolled": true
   },
   "outputs": [
    {
     "data": {
      "text/plain": [
       "941.3858173751523"
      ]
     },
     "execution_count": 1588,
     "metadata": {},
     "output_type": "execute_result"
    }
   ],
   "source": [
    "chi_2 = 0\n",
    "for i in range(100):\n",
    "  chi_2 += (dist_b_amostra[i] - dist_a_amostra[i]) ** 2 /  dist_a_amostra[i]\n",
    "\n",
    "chi_2"
   ]
  },
  {
   "cell_type": "code",
   "execution_count": 1590,
   "id": "1b859073",
   "metadata": {},
   "outputs": [
    {
     "data": {
      "text/plain": [
       "True"
      ]
     },
     "execution_count": 1590,
     "metadata": {},
     "output_type": "execute_result"
    }
   ],
   "source": [
    "chi_2 > chi_2_alpha"
   ]
  },
  {
   "cell_type": "markdown",
   "id": "110872e9",
   "metadata": {},
   "source": [
    "*Sim, existe uma diferença consideravel nas distribuições de notas entre os alunos que responderam Qe I21 = A em relação ao Qe I21 = B*"
   ]
  }
 ],
 "metadata": {
  "kernelspec": {
   "display_name": "Python 3 (ipykernel)",
   "language": "python",
   "name": "python3"
  },
  "language_info": {
   "codemirror_mode": {
    "name": "ipython",
    "version": 3
   },
   "file_extension": ".py",
   "mimetype": "text/x-python",
   "name": "python",
   "nbconvert_exporter": "python",
   "pygments_lexer": "ipython3",
   "version": "3.9.12"
  }
 },
 "nbformat": 4,
 "nbformat_minor": 5
}
