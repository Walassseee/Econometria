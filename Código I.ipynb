{
 "cells": [
  {
   "cell_type": "code",
   "execution_count": 23,
   "id": "c03a62f9",
   "metadata": {},
   "outputs": [],
   "source": [
    "import pandas as pd\n",
    "import numpy as np\n",
    "%matplotlib inline\n",
    "import matplotlib.pyplot as plt\n",
    "import seaborn as sns"
   ]
  },
  {
   "cell_type": "markdown",
   "id": "956f7e3f",
   "metadata": {},
   "source": [
    "**1) O tipo de amostragem consiste em uma amostra estratificada onde foi separado o grupo de alunos de economia nas instituições de ensino no Brasil**"
   ]
  },
  {
   "cell_type": "code",
   "execution_count": 24,
   "id": "c634d0a3",
   "metadata": {},
   "outputs": [],
   "source": [
    "df = pd.read_csv('microdados_enade_2018econ.csv', sep=';', encoding='utf-8', encoding_errors='ignore')"
   ]
  },
  {
   "cell_type": "code",
   "execution_count": 25,
   "id": "d658743a",
   "metadata": {},
   "outputs": [
    {
     "data": {
      "text/plain": [
       "(9582, 137)"
      ]
     },
     "execution_count": 25,
     "metadata": {},
     "output_type": "execute_result"
    }
   ],
   "source": [
    "df.shape"
   ]
  },
  {
   "cell_type": "code",
   "execution_count": 26,
   "id": "e666eef3",
   "metadata": {},
   "outputs": [],
   "source": [
    "df.drop_duplicates(inplace=True)"
   ]
  },
  {
   "cell_type": "code",
   "execution_count": 27,
   "id": "0595a713",
   "metadata": {
    "scrolled": true
   },
   "outputs": [
    {
     "data": {
      "text/plain": [
       "array([14, 23, 26, 42, 28, 27, 35, 31, 15, 12, 43, 52, 51, 22, 33, 41, 13,\n",
       "       24, 25, 29, 53, 50, 32, 17, 21], dtype=int64)"
      ]
     },
     "execution_count": 27,
     "metadata": {},
     "output_type": "execute_result"
    }
   ],
   "source": [
    "df['Co Uf Curso'].unique()"
   ]
  },
  {
   "cell_type": "code",
   "execution_count": 28,
   "id": "64054464",
   "metadata": {},
   "outputs": [
    {
     "data": {
      "text/plain": [
       "25"
      ]
     },
     "execution_count": 28,
     "metadata": {},
     "output_type": "execute_result"
    }
   ],
   "source": [
    "len(df['Co Uf Curso'].unique())"
   ]
  },
  {
   "cell_type": "code",
   "execution_count": 29,
   "id": "27c8b7f2",
   "metadata": {},
   "outputs": [
    {
     "data": {
      "text/plain": [
       "92.5925925925926"
      ]
     },
     "execution_count": 29,
     "metadata": {},
     "output_type": "execute_result"
    }
   ],
   "source": [
    "25/27 * 100"
   ]
  },
  {
   "cell_type": "markdown",
   "id": "453e3b0f",
   "metadata": {},
   "source": [
    "**2) Os dados tem registros de 25 estados entre 27 possiveis tendo 92,59% de abrangecia territorial**"
   ]
  },
  {
   "cell_type": "code",
   "execution_count": 30,
   "id": "b02f1584",
   "metadata": {},
   "outputs": [
    {
     "data": {
      "text/plain": [
       "35    2691\n",
       "33    1263\n",
       "31     849\n",
       "41     793\n",
       "43     593\n",
       "26     481\n",
       "23     475\n",
       "42     382\n",
       "29     298\n",
       "52     212\n",
       "24     180\n",
       "13     179\n",
       "15     145\n",
       "53     139\n",
       "27     125\n",
       "21     120\n",
       "25     112\n",
       "22     109\n",
       "51      81\n",
       "50      79\n",
       "32      79\n",
       "28      78\n",
       "12      31\n",
       "14      29\n",
       "17      20\n",
       "Name: Co Uf Curso, dtype: int64"
      ]
     },
     "execution_count": 30,
     "metadata": {},
     "output_type": "execute_result"
    }
   ],
   "source": [
    "df['Co Uf Curso'].value_counts()"
   ]
  },
  {
   "cell_type": "markdown",
   "id": "52296879",
   "metadata": {},
   "source": [
    "**- O estado 17 é o com menor representatividade com 20 aparições**"
   ]
  },
  {
   "cell_type": "code",
   "execution_count": 31,
   "id": "8481bcae",
   "metadata": {},
   "outputs": [
    {
     "data": {
      "text/plain": [
       "3550308    1207\n",
       "3304557     625\n",
       "3509502     474\n",
       "3106200     301\n",
       "2611606     268\n",
       "           ... \n",
       "1504208      11\n",
       "4304606       9\n",
       "4204202       9\n",
       "4119608       7\n",
       "3113404       4\n",
       "Name: Co Munic Curso, Length: 117, dtype: int64"
      ]
     },
     "execution_count": 31,
     "metadata": {},
     "output_type": "execute_result"
    }
   ],
   "source": [
    "df['Co Munic Curso'].value_counts()"
   ]
  },
  {
   "cell_type": "markdown",
   "id": "f0603f7e",
   "metadata": {},
   "source": [
    "**- Municipio com menor representativade é o 3113404 com 4 aparições**"
   ]
  },
  {
   "cell_type": "code",
   "execution_count": 32,
   "id": "da109e75",
   "metadata": {
    "scrolled": true
   },
   "outputs": [
    {
     "data": {
      "text/plain": [
       "546     375\n",
       "572     342\n",
       "580     288\n",
       "746     285\n",
       "574     249\n",
       "       ... \n",
       "417       2\n",
       "234       1\n",
       "197       1\n",
       "1872      1\n",
       "1772      1\n",
       "Name: Co Ies, Length: 160, dtype: int64"
      ]
     },
     "execution_count": 32,
     "metadata": {},
     "output_type": "execute_result"
    }
   ],
   "source": [
    "df['Co Ies'].value_counts()"
   ]
  },
  {
   "cell_type": "markdown",
   "id": "d068e6cb",
   "metadata": {},
   "source": [
    "**- Os IES com as menores representativades são os 1772, 1872, 197, 234 com 1 aparição cada**"
   ]
  },
  {
   "cell_type": "code",
   "execution_count": 33,
   "id": "376b3429",
   "metadata": {},
   "outputs": [
    {
     "data": {
      "text/plain": [
       "(9543, 137)"
      ]
     },
     "execution_count": 33,
     "metadata": {},
     "output_type": "execute_result"
    }
   ],
   "source": [
    "df.shape"
   ]
  },
  {
   "cell_type": "markdown",
   "id": "4e671ea2",
   "metadata": {},
   "source": [
    "Temos 9582 Registros"
   ]
  },
  {
   "cell_type": "code",
   "execution_count": 34,
   "id": "5ee7a955",
   "metadata": {
    "scrolled": true
   },
   "outputs": [
    {
     "data": {
      "text/plain": [
       "13    9543\n",
       "Name: Co Grupo, dtype: int64"
      ]
     },
     "execution_count": 34,
     "metadata": {},
     "output_type": "execute_result"
    }
   ],
   "source": [
    "df['Co Grupo'].value_counts()"
   ]
  },
  {
   "cell_type": "markdown",
   "id": "80c1ad92",
   "metadata": {},
   "source": [
    "Todos os registros são do Curso de Economia"
   ]
  },
  {
   "cell_type": "code",
   "execution_count": 35,
   "id": "94ac05a3",
   "metadata": {
    "scrolled": true
   },
   "outputs": [
    {
     "data": {
      "text/plain": [
       "160"
      ]
     },
     "execution_count": 35,
     "metadata": {},
     "output_type": "execute_result"
    }
   ],
   "source": [
    "len(df['Co Ies'].unique())"
   ]
  },
  {
   "cell_type": "markdown",
   "id": "ef985178",
   "metadata": {},
   "source": [
    "**4) Temos 160 IES diferentes**"
   ]
  },
  {
   "cell_type": "code",
   "execution_count": 36,
   "id": "d6d0bde0",
   "metadata": {
    "scrolled": true
   },
   "outputs": [
    {
     "data": {
      "text/plain": [
       "9543"
      ]
     },
     "execution_count": 36,
     "metadata": {},
     "output_type": "execute_result"
    }
   ],
   "source": [
    "len(df.drop_duplicates())"
   ]
  },
  {
   "cell_type": "markdown",
   "id": "c542ea33",
   "metadata": {},
   "source": [
    "**5) Temos 9543 Alunos diferentes**"
   ]
  },
  {
   "cell_type": "markdown",
   "id": "f8c4bd9b",
   "metadata": {},
   "source": [
    "# Quantidade de Cursos"
   ]
  },
  {
   "cell_type": "code",
   "execution_count": 37,
   "id": "8f512aff",
   "metadata": {
    "scrolled": true
   },
   "outputs": [
    {
     "data": {
      "text/plain": [
       "195"
      ]
     },
     "execution_count": 37,
     "metadata": {},
     "output_type": "execute_result"
    }
   ],
   "source": [
    "len(df['Co Curso'].unique())"
   ]
  },
  {
   "cell_type": "markdown",
   "id": "1c28b717",
   "metadata": {},
   "source": [
    "**6) Temos 195 Cursos Diferentes**"
   ]
  },
  {
   "cell_type": "markdown",
   "id": "564e2757",
   "metadata": {},
   "source": [
    "# Cursos Publicos e Privados"
   ]
  },
  {
   "cell_type": "code",
   "execution_count": 38,
   "id": "9da6df0c",
   "metadata": {},
   "outputs": [],
   "source": [
    "publico_privado = df[['Co Curso', 'Co Categad']]"
   ]
  },
  {
   "cell_type": "code",
   "execution_count": 39,
   "id": "52cb0847",
   "metadata": {},
   "outputs": [],
   "source": [
    "publico_privado = publico_privado.groupby(by='Co Curso')['Co Categad'].mean().to_frame()\n",
    "publico_privado['Co Categad'] = publico_privado['Co Categad'].astype(int)"
   ]
  },
  {
   "cell_type": "code",
   "execution_count": 40,
   "id": "0541c12f",
   "metadata": {
    "scrolled": true
   },
   "outputs": [
    {
     "data": {
      "text/plain": [
       "10002    53\n",
       "10008    43\n",
       "10005    29\n",
       "115      17\n",
       "10001    15\n",
       "93        9\n",
       "118       9\n",
       "10007     6\n",
       "121       5\n",
       "116       3\n",
       "10003     3\n",
       "10009     1\n",
       "17634     1\n",
       "120       1\n",
       "Name: Co Categad, dtype: int64"
      ]
     },
     "execution_count": 40,
     "metadata": {},
     "output_type": "execute_result"
    }
   ],
   "source": [
    "publico_privado['Co Categad'].value_counts()"
   ]
  },
  {
   "cell_type": "code",
   "execution_count": 41,
   "id": "3c709fec",
   "metadata": {},
   "outputs": [],
   "source": [
    "publico = (publico_privado['Co Categad'] == 17634) | (publico_privado['Co Categad'] == 93) | (publico_privado['Co Categad'] == 115) | \\\n",
    " (publico_privado['Co Categad'] == 116) | (publico_privado['Co Categad'] == 10001) | (publico_privado['Co Categad'] == 10002) | \\\n",
    " (publico_privado['Co Categad'] == 10002) | (publico_privado['Co Categad'] == 10003) "
   ]
  },
  {
   "cell_type": "code",
   "execution_count": 42,
   "id": "0348627a",
   "metadata": {
    "scrolled": false
   },
   "outputs": [
    {
     "data": {
      "text/plain": [
       "101"
      ]
     },
     "execution_count": 42,
     "metadata": {},
     "output_type": "execute_result"
    }
   ],
   "source": [
    "len(publico_privado[publico])"
   ]
  },
  {
   "cell_type": "code",
   "execution_count": 43,
   "id": "9e5424f4",
   "metadata": {},
   "outputs": [],
   "source": [
    "# explode = [0.03,0] # To slice the perticuler section\n",
    "# colors = ['g','r'] # Color of each section\n",
    "# textprops = {\"fontsize\":15} # Font size of text in pie chart\n",
    " \n",
    "# plt.pie(valores, labels = classes,explode = explode,colors =colors,autopct = \"%0.2f%%\",radius = 1.4,startangle = 270, textprops =textprops) \n",
    " \n",
    "# plt.savefig(\"publico_privado.png\")\n",
    "# plt.show() # To show pie chart only"
   ]
  },
  {
   "cell_type": "markdown",
   "id": "6a3c595e",
   "metadata": {},
   "source": [
    "**7) Temos 101 Cursos de Categoria Publica e 94 de Categoria Privada**"
   ]
  },
  {
   "cell_type": "markdown",
   "id": "befe7413",
   "metadata": {},
   "source": [
    "# Cursos Noturnos, Diurnos e Integrais"
   ]
  },
  {
   "cell_type": "code",
   "execution_count": 44,
   "id": "e900c6b1",
   "metadata": {
    "scrolled": true
   },
   "outputs": [],
   "source": [
    "cursos = list(df['Co Curso'].unique())"
   ]
  },
  {
   "cell_type": "code",
   "execution_count": 45,
   "id": "8d94ffe9",
   "metadata": {},
   "outputs": [],
   "source": [
    "noturno = df[(df['Co Curso'].isin(cursos)) & (df['Co Turno Graduacao'] == 4)]\n",
    "noturno = noturno[['Co Curso','Co Turno Graduacao']]"
   ]
  },
  {
   "cell_type": "code",
   "execution_count": 46,
   "id": "2101e05a",
   "metadata": {},
   "outputs": [
    {
     "data": {
      "text/plain": [
       "164"
      ]
     },
     "execution_count": 46,
     "metadata": {},
     "output_type": "execute_result"
    }
   ],
   "source": [
    "len(noturno['Co Curso'].unique())"
   ]
  },
  {
   "cell_type": "code",
   "execution_count": 47,
   "id": "8e148d15",
   "metadata": {},
   "outputs": [],
   "source": [
    "integral = df[(df['Co Curso'].isin(cursos)) & (df['Co Turno Graduacao'] == 3)]\n",
    "integral = integral[['Co Curso','Co Turno Graduacao']]"
   ]
  },
  {
   "cell_type": "code",
   "execution_count": 48,
   "id": "ee5b5fd4",
   "metadata": {},
   "outputs": [],
   "source": [
    "integral.drop_duplicates(inplace=True)"
   ]
  },
  {
   "cell_type": "code",
   "execution_count": 49,
   "id": "e13a8c34",
   "metadata": {},
   "outputs": [
    {
     "data": {
      "text/plain": [
       "37"
      ]
     },
     "execution_count": 49,
     "metadata": {},
     "output_type": "execute_result"
    }
   ],
   "source": [
    "len(integral['Co Curso'].unique())"
   ]
  },
  {
   "cell_type": "code",
   "execution_count": 50,
   "id": "262fda9a",
   "metadata": {},
   "outputs": [],
   "source": [
    "manha = df[(df['Co Curso'].isin(cursos)) & (df['Co Turno Graduacao'] == 1)]\n",
    "tarde = df[(df['Co Curso'].isin(cursos)) & (df['Co Turno Graduacao'] == 2)]\n",
    "\n",
    "diurno = pd.concat([manha, tarde], ignore_index=True)\n",
    "diurno = diurno[['Co Curso','Co Turno Graduacao']]"
   ]
  },
  {
   "cell_type": "code",
   "execution_count": 51,
   "id": "86bf7309",
   "metadata": {},
   "outputs": [],
   "source": [
    "diurno.drop_duplicates(inplace=True)"
   ]
  },
  {
   "cell_type": "code",
   "execution_count": 52,
   "id": "c4f4fbba",
   "metadata": {},
   "outputs": [
    {
     "data": {
      "text/plain": [
       "50"
      ]
     },
     "execution_count": 52,
     "metadata": {},
     "output_type": "execute_result"
    }
   ],
   "source": [
    "len(diurno['Co Curso'].unique())"
   ]
  },
  {
   "cell_type": "code",
   "execution_count": 53,
   "id": "9e594dd4",
   "metadata": {},
   "outputs": [
    {
     "data": {
      "image/png": "[encoded data removed]",
      "text/plain": [
       "<Figure size 1152x576 with 1 Axes>"
      ]
     },
     "metadata": {},
     "output_type": "display_data"
    }
   ],
   "source": [
    "classes = ['Diurno', 'Integral', 'Noturno']\n",
    "valores = [50, 37, 164]\n",
    "\n",
    "sns.set_theme(style='darkgrid')\n",
    "\n",
    "ax = plt.subplots(figsize=(16, 8))\n",
    "ax = sns.barplot(x=classes, y=valores)\n",
    "ax.bar_label(ax.containers[0])\n",
    "ax.set_title('Turnos Cursos de Economia ENAD 2018', loc='Left', fontsize=18)\n",
    "ax.set_xlabel('Turno')\n",
    "ax.set_ylabel('Quantidade')\n",
    "\n",
    "plt.savefig(\"turnos.png\")\n",
    "plt.show()"
   ]
  },
  {
   "cell_type": "markdown",
   "id": "6c929a88",
   "metadata": {},
   "source": [
    "# Presencial - Distância"
   ]
  },
  {
   "cell_type": "code",
   "execution_count": 54,
   "id": "844b0cb5",
   "metadata": {},
   "outputs": [
    {
     "data": {
      "text/plain": [
       "187"
      ]
     },
     "execution_count": 54,
     "metadata": {},
     "output_type": "execute_result"
    }
   ],
   "source": [
    "presencial = df[(df['Co Curso'].isin(cursos)) & (df['Co Modalidade'] == 1)]\n",
    "presencial = presencial[['Co Curso','Co Modalidade']]\n",
    "presencial.drop_duplicates(inplace=True)\n",
    "len(presencial['Co Curso'].unique())"
   ]
  },
  {
   "cell_type": "code",
   "execution_count": 55,
   "id": "b0135b15",
   "metadata": {},
   "outputs": [
    {
     "data": {
      "text/plain": [
       "8"
      ]
     },
     "execution_count": 55,
     "metadata": {},
     "output_type": "execute_result"
    }
   ],
   "source": [
    "dist = df[(df['Co Curso'].isin(cursos)) & (df['Co Modalidade'] == 2)]\n",
    "dist = dist[['Co Curso','Co Modalidade']]\n",
    "dist.drop_duplicates(inplace=True)\n",
    "len(dist['Co Curso'].unique())"
   ]
  },
  {
   "cell_type": "code",
   "execution_count": 78,
   "id": "31161100",
   "metadata": {},
   "outputs": [
    {
     "data": {
      "image/png": "[encoded data removed]",
      "text/plain": [
       "<Figure size 1152x576 with 1 Axes>"
      ]
     },
     "metadata": {},
     "output_type": "display_data"
    }
   ],
   "source": [
    "classes = ['Presencial', 'Distancia']\n",
    "valores = [187, 8]\n",
    "\n",
    "sns.set_theme(style='darkgrid')\n",
    "\n",
    "ax = plt.subplots(figsize=(16, 8))\n",
    "ax = sns.barplot(x=classes, y=valores)\n",
    "ax.bar_label(ax.containers[0])\n",
    "ax.set_title('Modalidade de Ensino Economia ENAD 2018', loc='Left', fontsize=18)\n",
    "ax.set_xlabel('Modalidade')\n",
    "ax.set_ylabel('Quantidade')\n",
    "\n",
    "plt.savefig(\"modalidade.png\")\n",
    "plt.show()"
   ]
  },
  {
   "cell_type": "code",
   "execution_count": 56,
   "id": "fa94260f",
   "metadata": {
    "scrolled": false
   },
   "outputs": [
    {
     "name": "stdout",
     "output_type": "stream",
     "text": [
      "<class 'pandas.core.series.Series'>\n",
      "Int64Index: 9543 entries, 0 to 9581\n",
      "Series name: Nt Ger\n",
      "Non-Null Count  Dtype \n",
      "--------------  ----- \n",
      "8073 non-null   object\n",
      "dtypes: object(1)\n",
      "memory usage: 149.1+ KB\n"
     ]
    }
   ],
   "source": [
    "df['Nt Ger'].info()"
   ]
  },
  {
   "cell_type": "code",
   "execution_count": 57,
   "id": "e22da7a5",
   "metadata": {},
   "outputs": [],
   "source": [
    "df['Nt Ger'] = df['Nt Ger'].replace(',','.', regex=True)"
   ]
  },
  {
   "cell_type": "code",
   "execution_count": 58,
   "id": "06721fc5",
   "metadata": {},
   "outputs": [],
   "source": [
    "df['Nt Ger'] = df['Nt Ger'].astype(float)"
   ]
  },
  {
   "cell_type": "code",
   "execution_count": null,
   "id": "b6621b7b",
   "metadata": {},
   "outputs": [],
   "source": []
  },
  {
   "cell_type": "code",
   "execution_count": 59,
   "id": "e42b578e",
   "metadata": {},
   "outputs": [
    {
     "data": {
      "text/plain": [
       "38.39742351046704"
      ]
     },
     "execution_count": 59,
     "metadata": {},
     "output_type": "execute_result"
    }
   ],
   "source": [
    "df['Nt Ger'].mean()"
   ]
  },
  {
   "cell_type": "code",
   "execution_count": 60,
   "id": "3faa493e",
   "metadata": {},
   "outputs": [
    {
     "data": {
      "text/plain": [
       "37.2"
      ]
     },
     "execution_count": 60,
     "metadata": {},
     "output_type": "execute_result"
    }
   ],
   "source": [
    "df['Nt Ger'].median()"
   ]
  },
  {
   "cell_type": "code",
   "execution_count": 61,
   "id": "0cedf35b",
   "metadata": {},
   "outputs": [
    {
     "data": {
      "text/plain": [
       "13.137758259020998"
      ]
     },
     "execution_count": 61,
     "metadata": {},
     "output_type": "execute_result"
    }
   ],
   "source": [
    "df['Nt Ger'].std()"
   ]
  },
  {
   "cell_type": "code",
   "execution_count": 62,
   "id": "ab667177",
   "metadata": {},
   "outputs": [
    {
     "data": {
      "text/plain": [
       "172.60069207247443"
      ]
     },
     "execution_count": 62,
     "metadata": {},
     "output_type": "execute_result"
    }
   ],
   "source": [
    "df['Nt Ger'].var()"
   ]
  },
  {
   "cell_type": "code",
   "execution_count": 63,
   "id": "54c7d9b8",
   "metadata": {},
   "outputs": [
    {
     "data": {
      "image/png": "[encoded data removed]",
      "text/plain": [
       "<Figure size 1152x576 with 1 Axes>"
      ]
     },
     "metadata": {},
     "output_type": "display_data"
    }
   ],
   "source": [
    "sns.set_theme(style='darkgrid')\n",
    "\n",
    "ax = plt.subplots(figsize=(16, 8))\n",
    "ax = sns.histplot(df['Nt Ger'], kde=True)\n",
    "\n",
    "ax.set_title('Distribuição das Notas de Economia ENAD 2018', loc='Left', fontsize=18)\n",
    "ax.set_xlabel('Nota Geral')\n",
    "ax.set_ylabel('Quantidade')\n",
    "\n",
    "plt.axvline(x=df['Nt Ger'].mean(),color='red',ls='--',lw=2.5)\n",
    "plt.axvline(x=df['Nt Ger'].median(),color='blue',ls='--',lw=2.5)\n",
    "\n",
    "\n",
    "plt.savefig(\"dist_nota_geral.png\")\n",
    "plt.show()"
   ]
  },
  {
   "cell_type": "markdown",
   "id": "74685a9e",
   "metadata": {},
   "source": [
    "# Notas da federal"
   ]
  },
  {
   "cell_type": "code",
   "execution_count": 64,
   "id": "da99f624",
   "metadata": {},
   "outputs": [
    {
     "data": {
      "text/plain": [
       "(4190, 137)"
      ]
     },
     "execution_count": 64,
     "metadata": {},
     "output_type": "execute_result"
    }
   ],
   "source": [
    "federal = df[(df['Co Categad'] == 93) | (df['Co Categad'] == 10002)]\n",
    "federal.shape"
   ]
  },
  {
   "cell_type": "code",
   "execution_count": 65,
   "id": "91e53862",
   "metadata": {},
   "outputs": [
    {
     "data": {
      "text/plain": [
       "39.7765863119978"
      ]
     },
     "execution_count": 65,
     "metadata": {},
     "output_type": "execute_result"
    }
   ],
   "source": [
    "federal['Nt Ger'].mean()"
   ]
  },
  {
   "cell_type": "code",
   "execution_count": 66,
   "id": "71e40c2a",
   "metadata": {},
   "outputs": [
    {
     "data": {
      "text/plain": [
       "38.7"
      ]
     },
     "execution_count": 66,
     "metadata": {},
     "output_type": "execute_result"
    }
   ],
   "source": [
    "federal['Nt Ger'].median()"
   ]
  },
  {
   "cell_type": "code",
   "execution_count": 86,
   "id": "fe60610c",
   "metadata": {},
   "outputs": [
    {
     "data": {
      "text/plain": [
       "3.5946861161761046"
      ]
     },
     "execution_count": 86,
     "metadata": {},
     "output_type": "execute_result"
    }
   ],
   "source": [
    "((39.77/38.39) - 1) * 100"
   ]
  },
  {
   "cell_type": "code",
   "execution_count": 88,
   "id": "317ee90b",
   "metadata": {},
   "outputs": [
    {
     "data": {
      "text/plain": [
       "4.0322580645161255"
      ]
     },
     "execution_count": 88,
     "metadata": {},
     "output_type": "execute_result"
    }
   ],
   "source": [
    "((38.7/37.2)-1)*100"
   ]
  },
  {
   "cell_type": "code",
   "execution_count": 79,
   "id": "c4c9ee2d",
   "metadata": {
    "scrolled": false
   },
   "outputs": [
    {
     "data": {
      "image/png": "[encoded data removed]",
      "text/plain": [
       "<Figure size 1152x576 with 1 Axes>"
      ]
     },
     "metadata": {},
     "output_type": "display_data"
    }
   ],
   "source": [
    "sns.set_theme(style='darkgrid')\n",
    "\n",
    "ax = plt.subplots(figsize=(16, 8))\n",
    "ax = sns.histplot(federal['Nt Ger'], kde=True)\n",
    "\n",
    "ax.set_title('Distribuição das Notas de Economia Federais ENAD 2018', loc='Left', fontsize=18)\n",
    "ax.set_xlabel('Nota Geral das Federais')\n",
    "ax.set_ylabel('Quantidade')\n",
    "\n",
    "plt.axvline(x=federal['Nt Ger'].mean(),color='red',ls='--',lw=2.5)\n",
    "plt.axvline(x=federal['Nt Ger'].median(),color='blue',ls='--',lw=2.5)\n",
    "\n",
    "plt.savefig(\"dist_federais.png\")\n",
    "\n",
    "plt.show()"
   ]
  },
  {
   "cell_type": "code",
   "execution_count": 68,
   "id": "a68b2c8d",
   "metadata": {},
   "outputs": [
    {
     "data": {
      "text/plain": [
       "(169, 137)"
      ]
     },
     "execution_count": 68,
     "metadata": {},
     "output_type": "execute_result"
    }
   ],
   "source": [
    "ufpr1 = df[(df['Co Uf Curso'] == 41) & (df['Co Categad'] == 93)]\n",
    "ufpr2 = df[(df['Co Uf Curso'] == 41) & (df['Co Categad'] == 10002)]\n",
    "\n",
    "ufpr = pd.concat([ufpr1,ufpr2], ignore_index=True)\n",
    "\n",
    "ufpr.shape"
   ]
  },
  {
   "cell_type": "code",
   "execution_count": 69,
   "id": "a0ee9171",
   "metadata": {},
   "outputs": [
    {
     "data": {
      "text/plain": [
       "35.3763888888889"
      ]
     },
     "execution_count": 69,
     "metadata": {},
     "output_type": "execute_result"
    }
   ],
   "source": [
    "ufpr['Nt Ger'].mean()"
   ]
  },
  {
   "cell_type": "code",
   "execution_count": 70,
   "id": "2bbade24",
   "metadata": {
    "scrolled": true
   },
   "outputs": [
    {
     "data": {
      "text/plain": [
       "34.349999999999994"
      ]
     },
     "execution_count": 70,
     "metadata": {},
     "output_type": "execute_result"
    }
   ],
   "source": [
    "ufpr['Nt Ger'].median()"
   ]
  },
  {
   "cell_type": "code",
   "execution_count": 89,
   "id": "87510678",
   "metadata": {},
   "outputs": [
    {
     "data": {
      "text/plain": [
       "-11.0636157907971"
      ]
     },
     "execution_count": 89,
     "metadata": {},
     "output_type": "execute_result"
    }
   ],
   "source": [
    "((35.37/39.77)-1)*100"
   ]
  },
  {
   "cell_type": "code",
   "execution_count": 90,
   "id": "4936c6b7",
   "metadata": {},
   "outputs": [
    {
     "data": {
      "text/plain": [
       "-11.266149870801033"
      ]
     },
     "execution_count": 90,
     "metadata": {},
     "output_type": "execute_result"
    }
   ],
   "source": [
    "\n",
    "((34.34/38.7)-1)*100"
   ]
  },
  {
   "cell_type": "code",
   "execution_count": 91,
   "id": "a516bec5",
   "metadata": {
    "scrolled": false
   },
   "outputs": [
    {
     "data": {
      "image/png": "[encoded data removed]",
      "text/plain": [
       "<Figure size 1152x576 with 1 Axes>"
      ]
     },
     "metadata": {},
     "output_type": "display_data"
    }
   ],
   "source": [
    "sns.set_theme(style='darkgrid')\n",
    "\n",
    "ax = plt.subplots(figsize=(16, 8))\n",
    "ax = sns.histplot(ufpr['Nt Ger'], kde=True)\n",
    "\n",
    "ax.set_title('Distribuição das Notas de Economia UFPR ENAD 2018', loc='Left', fontsize=18)\n",
    "ax.set_xlabel('Nota Geral da UFPR')\n",
    "ax.set_ylabel('Quantidade')\n",
    "\n",
    "plt.axvline(x=ufpr['Nt Ger'].mean(),color='red',ls='--',lw=2.5)\n",
    "plt.axvline(x=ufpr['Nt Ger'].median(),color='blue',ls='--',lw=2.5)\n",
    "\n",
    "plt.savefig(\"ufpr.png\")\n",
    "\n",
    "plt.show()"
   ]
  },
  {
   "cell_type": "code",
   "execution_count": 72,
   "id": "da65209e",
   "metadata": {
    "scrolled": true
   },
   "outputs": [
    {
     "name": "stdout",
     "output_type": "stream",
     "text": [
      "<class 'pandas.core.series.Series'>\n",
      "Int64Index: 9543 entries, 0 to 9581\n",
      "Series name: Qe I04\n",
      "Non-Null Count  Dtype \n",
      "--------------  ----- \n",
      "8495 non-null   object\n",
      "dtypes: object(1)\n",
      "memory usage: 149.1+ KB\n"
     ]
    }
   ],
   "source": [
    "df['Qe I04'].info()"
   ]
  },
  {
   "cell_type": "code",
   "execution_count": 73,
   "id": "ea4da626",
   "metadata": {},
   "outputs": [
    {
     "data": {
      "text/html": [
       "<div>\n",
       "<style scoped>\n",
       "    .dataframe tbody tr th:only-of-type {\n",
       "        vertical-align: middle;\n",
       "    }\n",
       "\n",
       "    .dataframe tbody tr th {\n",
       "        vertical-align: top;\n",
       "    }\n",
       "\n",
       "    .dataframe thead th {\n",
       "        text-align: right;\n",
       "    }\n",
       "</style>\n",
       "<table border=\"1\" class=\"dataframe\">\n",
       "  <thead>\n",
       "    <tr style=\"text-align: right;\">\n",
       "      <th></th>\n",
       "      <th>Qe I04</th>\n",
       "      <th>Escolaridade</th>\n",
       "    </tr>\n",
       "  </thead>\n",
       "  <tbody>\n",
       "    <tr>\n",
       "      <th>A</th>\n",
       "      <td>655</td>\n",
       "      <td>Nenhuma</td>\n",
       "    </tr>\n",
       "    <tr>\n",
       "      <th>B</th>\n",
       "      <td>1527</td>\n",
       "      <td>Fundamental 1</td>\n",
       "    </tr>\n",
       "    <tr>\n",
       "      <th>C</th>\n",
       "      <td>1045</td>\n",
       "      <td>Fundamental 2</td>\n",
       "    </tr>\n",
       "    <tr>\n",
       "      <th>D</th>\n",
       "      <td>2679</td>\n",
       "      <td>Médio</td>\n",
       "    </tr>\n",
       "    <tr>\n",
       "      <th>E</th>\n",
       "      <td>1644</td>\n",
       "      <td>Graduação</td>\n",
       "    </tr>\n",
       "    <tr>\n",
       "      <th>F</th>\n",
       "      <td>945</td>\n",
       "      <td>Pós</td>\n",
       "    </tr>\n",
       "  </tbody>\n",
       "</table>\n",
       "</div>"
      ],
      "text/plain": [
       "   Qe I04   Escolaridade\n",
       "A     655        Nenhuma\n",
       "B    1527  Fundamental 1\n",
       "C    1045  Fundamental 2\n",
       "D    2679          Médio\n",
       "E    1644      Graduação\n",
       "F     945            Pós"
      ]
     },
     "execution_count": 73,
     "metadata": {},
     "output_type": "execute_result"
    }
   ],
   "source": [
    "escolaridade = df['Qe I04'].value_counts().to_frame()\n",
    "escolaridade['Escolaridade'] = ['Médio', 'Graduação', 'Fundamental 1', 'Fundamental 2', 'Pós', 'Nenhuma']\n",
    "escolaridade.sort_index(inplace=True)\n",
    "escolaridade"
   ]
  },
  {
   "cell_type": "code",
   "execution_count": 93,
   "id": "4f3e1f19",
   "metadata": {
    "scrolled": false
   },
   "outputs": [
    {
     "data": {
      "image/png": "[encoded data removed]",
      "text/plain": [
       "<Figure size 1152x576 with 1 Axes>"
      ]
     },
     "metadata": {},
     "output_type": "display_data"
    }
   ],
   "source": [
    "sns.set_theme(style='darkgrid')\n",
    "\n",
    "ax = plt.subplots(figsize=(16, 8))\n",
    "ax = sns.barplot(data=escolaridade, x='Escolaridade', y='Qe I04')\n",
    "\n",
    "ax.set_title('Grau de Escolaridade ENAD 2018', loc='Left', fontsize=18)\n",
    "ax.bar_label(ax.containers[0])\n",
    "ax.set_xlabel('Nível Escolaridade')\n",
    "ax.set_ylabel('Quantidade')\n",
    "\n",
    "plt.savefig(\"moda.png\")\n",
    "\n",
    "plt.show()"
   ]
  },
  {
   "cell_type": "code",
   "execution_count": 75,
   "id": "606c9744",
   "metadata": {
    "scrolled": true
   },
   "outputs": [
    {
     "data": {
      "text/plain": [
       "M    5766\n",
       "F    3777\n",
       "Name: Tp Sexo, dtype: int64"
      ]
     },
     "execution_count": 75,
     "metadata": {},
     "output_type": "execute_result"
    }
   ],
   "source": [
    "df['Tp Sexo'].value_counts()"
   ]
  },
  {
   "cell_type": "code",
   "execution_count": 76,
   "id": "ef8d1d73",
   "metadata": {},
   "outputs": [
    {
     "data": {
      "text/plain": [
       "M    0.604213\n",
       "F    0.395787\n",
       "Name: Tp Sexo, dtype: float64"
      ]
     },
     "execution_count": 76,
     "metadata": {},
     "output_type": "execute_result"
    }
   ],
   "source": [
    "df['Tp Sexo'].value_counts(normalize=True)"
   ]
  },
  {
   "cell_type": "code",
   "execution_count": null,
   "id": "971f5133",
   "metadata": {},
   "outputs": [],
   "source": []
  },
  {
   "cell_type": "code",
   "execution_count": 77,
   "id": "1cc03188",
   "metadata": {},
   "outputs": [
    {
     "data": {
      "image/png": "[encoded data removed]",
      "text/plain": [
       "<Figure size 360x720 with 1 Axes>"
      ]
     },
     "metadata": {},
     "output_type": "display_data"
    }
   ],
   "source": [
    "sns.set_theme(style='darkgrid')\n",
    "\n",
    "ax = plt.subplots(figsize=(5, 10))\n",
    "ax = sns.boxplot(data=df, x='Tp Sexo', y='Nt Ger')\n",
    "\n",
    "ax.set_title('Grau de Escolaridade ENAD 2018', loc='Left', fontsize=18)\n",
    "ax.set_xlabel('Nível Escolaridade')\n",
    "ax.set_ylabel('Quantidade')\n",
    "\n",
    "plt.show()"
   ]
  }
 ],
 "metadata": {
  "kernelspec": {
   "display_name": "Python 3 (ipykernel)",
   "language": "python",
   "name": "python3"
  },
  "language_info": {
   "codemirror_mode": {
    "name": "ipython",
    "version": 3
   },
   "file_extension": ".py",
   "mimetype": "text/x-python",
   "name": "python",
   "nbconvert_exporter": "python",
   "pygments_lexer": "ipython3",
   "version": "3.9.12"
  }
 },
 "nbformat": 4,
 "nbformat_minor": 5
}
